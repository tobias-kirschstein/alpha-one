{
 "cells": [
  {
   "cell_type": "code",
   "execution_count": null,
   "id": "corporate-territory",
   "metadata": {},
   "outputs": [],
   "source": [
    "%cd ..\n",
    "%reload_ext autoreload\n",
    "%autoreload 2"
   ]
  },
  {
   "cell_type": "code",
   "execution_count": null,
   "id": "exciting-banner",
   "metadata": {},
   "outputs": [],
   "source": [
    "import pyspiel\n",
    "import numpy as np\n",
    "\n",
    "from alpha_one.model.model_manager import OpenSpielModelManager, OpenSpielModelConfig\n",
    "from alpha_one.utils.mcts import initialize_bot\n",
    "from alpha_one.game.observer import OmniscientObserver\n",
    "from alpha_one.alg.imperfect_information import AlphaZeroOmniscientMCTSEvaluator, BasicOmniscientMCTSEvaluator\n",
    "from open_spiel.python.observation import make_observation\n",
    "from open_spiel.python.algorithms import mcts\n",
    "from open_spiel.python.algorithms.alpha_zero import model as model_lib"
   ]
  },
  {
   "cell_type": "code",
   "execution_count": null,
   "id": "danish-pound",
   "metadata": {},
   "outputs": [],
   "source": [
    "game_name = 'kuhn_poker'\n",
    "game = pyspiel.load_game(game_name)"
   ]
  },
  {
   "cell_type": "code",
   "execution_count": null,
   "id": "authentic-clear",
   "metadata": {},
   "outputs": [],
   "source": [
    "config = OpenSpielModelConfig(game, 'mlp', 64, 2, 5e-3, 5e-3, omniscient_observer=True)"
   ]
  },
  {
   "cell_type": "code",
   "execution_count": null,
   "id": "weighted-jenny",
   "metadata": {},
   "outputs": [],
   "source": [
    "model_manager = OpenSpielModelManager(game_name, 'KP')"
   ]
  },
  {
   "cell_type": "code",
   "execution_count": null,
   "id": "several-virtue",
   "metadata": {},
   "outputs": [],
   "source": [
    "model = model_manager.get_checkpoint_manager('x').build_model(config)"
   ]
  },
  {
   "cell_type": "code",
   "execution_count": null,
   "id": "useful-merit",
   "metadata": {},
   "outputs": [],
   "source": [
    "mcts_bot = initialize_bot(game, model, 2, 100, omniscient_observer=True)"
   ]
  },
  {
   "cell_type": "code",
   "execution_count": null,
   "id": "approved-standard",
   "metadata": {},
   "outputs": [],
   "source": [
    "state = game.new_initial_state()"
   ]
  },
  {
   "cell_type": "code",
   "execution_count": null,
   "id": "residential-disability",
   "metadata": {},
   "outputs": [],
   "source": [
    "state.legal_actions()"
   ]
  },
  {
   "cell_type": "code",
   "execution_count": null,
   "id": "round-leone",
   "metadata": {},
   "outputs": [],
   "source": [
    "root = mcts_bot.mcts_search(state)\n",
    "\n",
    "if state.is_chance_node():\n",
    "    policy = np.zeros(game.max_chance_outcomes())\n",
    "else:\n",
    "    policy = np.zeros(game.num_distinct_actions())\n",
    "for c in root.children:\n",
    "    policy[c.action] = c.explore_count\n",
    "    print(c.action, c.total_reward / c.explore_count)\n",
    "policy /= policy.sum()"
   ]
  },
  {
   "cell_type": "code",
   "execution_count": null,
   "id": "right-alaska",
   "metadata": {},
   "outputs": [],
   "source": [
    "policy"
   ]
  },
  {
   "cell_type": "code",
   "execution_count": null,
   "id": "seeing-taste",
   "metadata": {},
   "outputs": [],
   "source": [
    "action = 0"
   ]
  },
  {
   "cell_type": "code",
   "execution_count": null,
   "id": "leading-singles",
   "metadata": {},
   "outputs": [],
   "source": [
    "state.apply_action(action)"
   ]
  },
  {
   "cell_type": "code",
   "execution_count": null,
   "id": "protective-appointment",
   "metadata": {},
   "outputs": [],
   "source": [
    "state.returns()"
   ]
  }
 ],
 "metadata": {
  "kernelspec": {
   "display_name": "Python 3",
   "language": "python",
   "name": "python3"
  },
  "language_info": {
   "codemirror_mode": {
    "name": "ipython",
    "version": 3
   },
   "file_extension": ".py",
   "mimetype": "text/x-python",
   "name": "python",
   "nbconvert_exporter": "python",
   "pygments_lexer": "ipython3",
   "version": "3.8.0"
  }
 },
 "nbformat": 4,
 "nbformat_minor": 5
}
