{
 "cells": [
  {
   "cell_type": "code",
   "execution_count": null,
   "id": "spread-stationery",
   "metadata": {},
   "outputs": [],
   "source": [
    "%cd ..\n",
    "%reload_ext autoreload\n",
    "%autoreload 2"
   ]
  },
  {
   "cell_type": "code",
   "execution_count": null,
   "id": "standard-socket",
   "metadata": {},
   "outputs": [],
   "source": [
    "import pyspiel\n",
    "import numpy as np\n",
    "\n",
    "from alpha_one.model.model_manager import OpenSpielModelManager, OpenSpielModelConfig\n",
    "from alpha_one.utils.mcts import initialize_bot, compute_mcts_policy_reward, investigate_node\n",
    "from alpha_one.game.observer import OmniscientObserver, get_observation_tensor_shape\n",
    "from alpha_one.alg.imperfect_information import AlphaZeroOmniscientMCTSEvaluator, BasicOmniscientMCTSEvaluator\n",
    "from alpha_one.game.information_set import InformationSetGenerator\n",
    "from alpha_one.utils.play import InteractiveGameMachine\n",
    "from open_spiel.python.observation import make_observation\n",
    "from open_spiel.python.algorithms import mcts\n",
    "from open_spiel.python.algorithms.alpha_zero import model as model_lib"
   ]
  },
  {
   "cell_type": "markdown",
   "id": "sonic-mexican",
   "metadata": {},
   "source": [
    "# 1. Setup Game"
   ]
  },
  {
   "cell_type": "code",
   "execution_count": null,
   "id": "fresh-lyric",
   "metadata": {},
   "outputs": [],
   "source": [
    "game_name = 'kuhn_poker'\n",
    "game = pyspiel.load_game(game_name)"
   ]
  },
  {
   "cell_type": "markdown",
   "id": "durable-gender",
   "metadata": {},
   "source": [
    "# 2. Setup Omniscient MCTS"
   ]
  },
  {
   "cell_type": "code",
   "execution_count": null,
   "id": "sealed-barbados",
   "metadata": {},
   "outputs": [],
   "source": [
    "UCT_C = 3\n",
    "max_simulations = 800"
   ]
  },
  {
   "cell_type": "markdown",
   "id": "united-transmission",
   "metadata": {},
   "source": [
    "## 2.1. Basic Omniscient MCTS "
   ]
  },
  {
   "cell_type": "code",
   "execution_count": null,
   "id": "welcome-shadow",
   "metadata": {},
   "outputs": [],
   "source": [
    "evaluator = BasicOmniscientMCTSEvaluator(game)\n",
    "mcts_bot = mcts.MCTSBot(game, UCT_C, max_simulations, evaluator, solve=False, child_selection_fn=mcts.SearchNode.puct_value)"
   ]
  },
  {
   "cell_type": "markdown",
   "id": "perceived-store",
   "metadata": {},
   "source": [
    "## 2.2. AlphaZero Omniscient MCTS (Untrained)"
   ]
  },
  {
   "cell_type": "code",
   "execution_count": null,
   "id": "genuine-evans",
   "metadata": {},
   "outputs": [],
   "source": [
    "config = OpenSpielModelConfig(game, 'mlp', get_observation_tensor_shape(game, omniscient_observer=True), 64, 2, 5e-3, 5e-3, omniscient_observer=True)"
   ]
  },
  {
   "cell_type": "code",
   "execution_count": null,
   "id": "unlimited-throw",
   "metadata": {},
   "outputs": [],
   "source": [
    "model_manager = OpenSpielModelManager(game_name, 'KP')\n",
    "model = model_manager.get_checkpoint_manager('x').build_model(config)\n",
    "mcts_bot = initialize_bot(game, model, UCT_C, max_simulations, omniscient_observer=True)"
   ]
  },
  {
   "cell_type": "markdown",
   "id": "rotary-details",
   "metadata": {},
   "source": [
    "# 3. Play Game"
   ]
  },
  {
   "cell_type": "code",
   "execution_count": null,
   "id": "falling-costs",
   "metadata": {},
   "outputs": [],
   "source": [
    "game_machine = InteractiveGameMachine(game)"
   ]
  },
  {
   "cell_type": "code",
   "execution_count": null,
   "id": "bright-shift",
   "metadata": {},
   "outputs": [],
   "source": [
    "game_machine.new_game()"
   ]
  },
  {
   "cell_type": "code",
   "execution_count": null,
   "id": "charged-nickel",
   "metadata": {},
   "outputs": [],
   "source": [
    "_ = game_machine.list_player_actions()"
   ]
  },
  {
   "cell_type": "code",
   "execution_count": null,
   "id": "adjacent-singing",
   "metadata": {},
   "outputs": [],
   "source": [
    "_ = game_machine.get_observations()"
   ]
  },
  {
   "cell_type": "code",
   "execution_count": null,
   "id": "tight-senegal",
   "metadata": {},
   "outputs": [],
   "source": [
    "root = mcts_bot.mcts_search(game_machine.state)\n",
    "policy = compute_mcts_policy_reward(game, game_machine.state, root)\n",
    "print(policy)\n",
    "\n",
    "investigate_node(root)"
   ]
  },
  {
   "cell_type": "code",
   "execution_count": null,
   "id": "american-pepper",
   "metadata": {},
   "outputs": [],
   "source": [
    "game_machine.information_set_generator.get_observation_history()"
   ]
  },
  {
   "cell_type": "code",
   "execution_count": null,
   "id": "flush-brush",
   "metadata": {},
   "outputs": [],
   "source": [
    "game_machine.await_action()"
   ]
  },
  {
   "cell_type": "code",
   "execution_count": null,
   "id": "aboriginal-belgium",
   "metadata": {},
   "outputs": [],
   "source": [
    "information_set_generator.register_observation(game_machine.state)"
   ]
  },
  {
   "cell_type": "code",
   "execution_count": null,
   "id": "distributed-atmosphere",
   "metadata": {},
   "outputs": [],
   "source": [
    "_ = game_machine.finish_game()"
   ]
  },
  {
   "cell_type": "code",
   "execution_count": null,
   "id": "simple-technique",
   "metadata": {},
   "outputs": [],
   "source": []
  }
 ],
 "metadata": {
  "kernelspec": {
   "display_name": "Python 3",
   "language": "python",
   "name": "python3"
  },
  "language_info": {
   "codemirror_mode": {
    "name": "ipython",
    "version": 3
   },
   "file_extension": ".py",
   "mimetype": "text/x-python",
   "name": "python",
   "nbconvert_exporter": "python",
   "pygments_lexer": "ipython3",
   "version": "3.8.0"
  }
 },
 "nbformat": 4,
 "nbformat_minor": 5
}
