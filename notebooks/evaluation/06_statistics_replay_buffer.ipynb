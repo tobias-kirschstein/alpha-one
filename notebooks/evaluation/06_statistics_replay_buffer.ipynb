{
 "cells": [
  {
   "cell_type": "code",
   "execution_count": null,
   "id": "planned-commodity",
   "metadata": {},
   "outputs": [],
   "source": [
    "%cd ../..\n",
    "%reload_ext autoreload\n",
    "%autoreload 2"
   ]
  },
  {
   "cell_type": "code",
   "execution_count": null,
   "id": "occupied-christian",
   "metadata": {},
   "outputs": [],
   "source": [
    "import numpy as np\n",
    "import matplotlib.pyplot as plt\n",
    "from collections import defaultdict\n",
    "from statistics import mean\n",
    "\n",
    "from alpha_one.data.replay import ReplayDataManager\n",
    "from alpha_one.model.model_manager import AlphaOneCheckpointManager"
   ]
  },
  {
   "cell_type": "code",
   "execution_count": null,
   "id": "official-animal",
   "metadata": {},
   "outputs": [],
   "source": [
    "game_name = 'leduc_poker'\n",
    "run_name = 'LP-local-39'"
   ]
  },
  {
   "cell_type": "code",
   "execution_count": null,
   "id": "chemical-ferry",
   "metadata": {},
   "outputs": [],
   "source": [
    "model_manager = AlphaOneCheckpointManager(game_name, run_name)\n",
    "observation_data_manager = model_manager.observation_model_manager.get_replay_data_manager()"
   ]
  },
  {
   "cell_type": "code",
   "execution_count": null,
   "id": "assisted-orbit",
   "metadata": {},
   "outputs": [],
   "source": [
    "observation_buffer = observation_data_manager.load_replays(-1)"
   ]
  },
  {
   "cell_type": "code",
   "execution_count": null,
   "id": "competent-spoke",
   "metadata": {},
   "outputs": [],
   "source": []
  },
  {
   "cell_type": "code",
   "execution_count": null,
   "id": "miniature-fitting",
   "metadata": {},
   "outputs": [],
   "source": [
    "grouped_samples = defaultdict(list)\n",
    "for sample in observation_buffer.data[-10000:]:\n",
    "    grouped_samples[str(sample.observation)].append(sample)"
   ]
  },
  {
   "cell_type": "code",
   "execution_count": null,
   "id": "greatest-specific",
   "metadata": {},
   "outputs": [],
   "source": [
    "entropies = []\n",
    "for samples in grouped_samples.values():\n",
    "    target_policy = np.zeros(len(samples[0].legals_mask))\n",
    "    for sample in samples:\n",
    "        target_policy += sample.policy\n",
    "    target_policy /= len(samples)\n",
    "    \n",
    "    target_policy = target_policy[np.where(target_policy > 0)]\n",
    "    entropies.append(np.sum(- target_policy * np.log(target_policy)))"
   ]
  },
  {
   "cell_type": "code",
   "execution_count": null,
   "id": "pursuant-webcam",
   "metadata": {},
   "outputs": [],
   "source": [
    "mean(entropies)"
   ]
  },
  {
   "cell_type": "code",
   "execution_count": null,
   "id": "steady-feedback",
   "metadata": {},
   "outputs": [],
   "source": [
    "state_ambiguities = [len({str(sample.policy[sample.legals_mask]) for sample in samples}) for samples in grouped_samples.values()]"
   ]
  },
  {
   "cell_type": "code",
   "execution_count": null,
   "id": "opening-hepatitis",
   "metadata": {},
   "outputs": [],
   "source": [
    "histogram = defaultdict(lambda: 0)\n",
    "for state_ambiguity in state_ambiguities:\n",
    "    histogram[state_ambiguity] += 1"
   ]
  },
  {
   "cell_type": "code",
   "execution_count": null,
   "id": "neural-offer",
   "metadata": {},
   "outputs": [],
   "source": [
    "plt.title(\"State ambiguities\")\n",
    "plt.bar(histogram.keys(), histogram.values())\n",
    "plt.xlabel(\"#Different policies per input observation\")\n",
    "plt.ylabel(\"Frequency\")"
   ]
  },
  {
   "cell_type": "code",
   "execution_count": null,
   "id": "partial-concept",
   "metadata": {},
   "outputs": [],
   "source": [
    "late_game_groups = [samples for samples in grouped_samples.values() if samples[0].observation[-2] >= 5]"
   ]
  },
  {
   "cell_type": "code",
   "execution_count": null,
   "id": "vulnerable-treaty",
   "metadata": {},
   "outputs": [],
   "source": [
    "[idx for idx, group in enumerate(late_game_groups) if len(group) > 40]"
   ]
  },
  {
   "cell_type": "code",
   "execution_count": null,
   "id": "rotary-rachel",
   "metadata": {},
   "outputs": [],
   "source": [
    "group_id = 89\n",
    "\n",
    "true_states = [np.where(sample.policy[sample.legals_mask] == 1)[0][0] for sample in late_game_groups[group_id]]\n",
    "true_states_histogram = defaultdict(lambda: 0)\n",
    "for true_state in true_states:\n",
    "    true_states_histogram[true_state] += 1\n",
    "    \n",
    "plt.title(f\"Distribution of true states for information set {group_id}\")\n",
    "plt.xlabel(f\"State ID\")\n",
    "plt.ylabel(f\"Frequency\")\n",
    "plt.bar(true_states_histogram.keys(), true_states_histogram.values())"
   ]
  },
  {
   "cell_type": "code",
   "execution_count": null,
   "id": "casual-clark",
   "metadata": {},
   "outputs": [],
   "source": [
    "print(late_game_groups[group_id][0].observation[-32:-16])"
   ]
  },
  {
   "cell_type": "code",
   "execution_count": null,
   "id": "progressive-pakistan",
   "metadata": {},
   "outputs": [],
   "source": []
  }
 ],
 "metadata": {
  "kernelspec": {
   "display_name": "Python 3",
   "language": "python",
   "name": "python3"
  },
  "language_info": {
   "codemirror_mode": {
    "name": "ipython",
    "version": 3
   },
   "file_extension": ".py",
   "mimetype": "text/x-python",
   "name": "python",
   "nbconvert_exporter": "python",
   "pygments_lexer": "ipython3",
   "version": "3.8.0"
  }
 },
 "nbformat": 4,
 "nbformat_minor": 5
}
