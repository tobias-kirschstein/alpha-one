{
 "cells": [
  {
   "cell_type": "code",
   "execution_count": 1,
   "id": "alien-reform",
   "metadata": {},
   "outputs": [
    {
     "name": "stdout",
     "output_type": "stream",
     "text": [
      "/mnt/d/ownCloud/Uni/Semester Ma 5/Advanced Deep Learning for Robotics (IN2349)/Project/tum-adlr-ws20-9\n"
     ]
    }
   ],
   "source": [
    "%cd ../..\n",
    "%reload_ext autoreload\n",
    "%autoreload 2"
   ]
  },
  {
   "cell_type": "code",
   "execution_count": 2,
   "id": "other-teacher",
   "metadata": {},
   "outputs": [
    {
     "name": "stdout",
     "output_type": "stream",
     "text": [
      "WARNING:tensorflow:From /opt/anaconda3/envs/alpha_one/lib/python3.8/site-packages/tensorflow/python/compat/v2_compat.py:96: disable_resource_variables (from tensorflow.python.ops.variable_scope) is deprecated and will be removed in a future version.\n",
      "Instructions for updating:\n",
      "non-resource variables are not supported in the long term\n"
     ]
    }
   ],
   "source": [
    "import numpy as np\n",
    "import matplotlib.pyplot as plt\n",
    "from collections import defaultdict\n",
    "from statistics import mean\n",
    "\n",
    "from alpha_one.data.replay import ReplayDataManager\n",
    "from alpha_one.model.model_manager import AlphaOneCheckpointManager"
   ]
  },
  {
   "cell_type": "code",
   "execution_count": 27,
   "id": "twenty-failure",
   "metadata": {},
   "outputs": [],
   "source": [
    "game_name = 'leduc_poker'\n",
    "run_name = 'LP-local-39'"
   ]
  },
  {
   "cell_type": "code",
   "execution_count": 28,
   "id": "living-corpus",
   "metadata": {},
   "outputs": [],
   "source": [
    "model_manager = AlphaOneCheckpointManager(game_name, run_name)\n",
    "observation_data_manager = model_manager.observation_model_manager.get_replay_data_manager()"
   ]
  },
  {
   "cell_type": "code",
   "execution_count": 29,
   "id": "worthy-picture",
   "metadata": {},
   "outputs": [],
   "source": [
    "observation_buffer = observation_data_manager.load_replays(-1)"
   ]
  },
  {
   "cell_type": "code",
   "execution_count": null,
   "id": "otherwise-mixer",
   "metadata": {},
   "outputs": [],
   "source": []
  },
  {
   "cell_type": "code",
   "execution_count": 30,
   "id": "realistic-florence",
   "metadata": {},
   "outputs": [],
   "source": [
    "grouped_samples = defaultdict(list)\n",
    "for sample in observation_buffer.data[-10000:]:\n",
    "    grouped_samples[str(sample.observation)].append(sample)"
   ]
  },
  {
   "cell_type": "code",
   "execution_count": 31,
   "id": "spanish-least",
   "metadata": {},
   "outputs": [],
   "source": [
    "entropies = []\n",
    "for samples in grouped_samples.values():\n",
    "    target_policy = np.zeros(len(samples[0].legals_mask))\n",
    "    for sample in samples:\n",
    "        target_policy += sample.policy\n",
    "    target_policy /= len(samples)\n",
    "    \n",
    "    target_policy = target_policy[np.where(target_policy > 0)]\n",
    "    entropies.append(np.sum(- target_policy * np.log(target_policy)))"
   ]
  },
  {
   "cell_type": "code",
   "execution_count": 32,
   "id": "welsh-brand",
   "metadata": {},
   "outputs": [
    {
     "data": {
      "text/plain": [
       "1.0239442834255126"
      ]
     },
     "execution_count": 32,
     "metadata": {},
     "output_type": "execute_result"
    }
   ],
   "source": [
    "mean(entropies)"
   ]
  },
  {
   "cell_type": "code",
   "execution_count": 33,
   "id": "driving-sacramento",
   "metadata": {},
   "outputs": [],
   "source": [
    "state_ambiguities = [len({str(sample.policy[sample.legals_mask]) for sample in samples}) for samples in grouped_samples.values()]"
   ]
  },
  {
   "cell_type": "code",
   "execution_count": 34,
   "id": "exclusive-webcam",
   "metadata": {},
   "outputs": [],
   "source": [
    "histogram = defaultdict(lambda: 0)\n",
    "for state_ambiguity in state_ambiguities:\n",
    "    histogram[state_ambiguity] += 1"
   ]
  },
  {
   "cell_type": "code",
   "execution_count": 43,
   "id": "upper-banking",
   "metadata": {},
   "outputs": [
    {
     "data": {
      "text/plain": [
       "Text(0, 0.5, 'Frequency')"
      ]
     },
     "execution_count": 43,
     "metadata": {},
     "output_type": "execute_result"
    },
    {
     "data": {
      "image/png": "[encoded data removed]",
      "text/plain": [
       "<Figure size 600x400 with 1 Axes>"
      ]
     },
     "metadata": {
      "needs_background": "light"
     },
     "output_type": "display_data"
    }
   ],
   "source": [
    "plt.figure(figsize=(6, 4), dpi=100)\n",
    "plt.title(\"State ambiguities\")\n",
    "plt.bar(histogram.keys(), histogram.values())\n",
    "plt.xlabel(\"#Different policies per input observation\")\n",
    "plt.ylabel(\"Frequency\")"
   ]
  },
  {
   "cell_type": "code",
   "execution_count": 36,
   "id": "otherwise-heather",
   "metadata": {},
   "outputs": [],
   "source": [
    "late_game_groups = [samples for samples in grouped_samples.values() if samples[0].observation[-2] >= 5]"
   ]
  },
  {
   "cell_type": "code",
   "execution_count": 37,
   "id": "hourly-ordering",
   "metadata": {},
   "outputs": [
    {
     "data": {
      "text/plain": [
       "[32, 37, 89]"
      ]
     },
     "execution_count": 37,
     "metadata": {},
     "output_type": "execute_result"
    }
   ],
   "source": [
    "[idx for idx, group in enumerate(late_game_groups) if len(group) > 40]"
   ]
  },
  {
   "cell_type": "code",
   "execution_count": 45,
   "id": "desirable-debut",
   "metadata": {},
   "outputs": [
    {
     "data": {
      "text/plain": [
       "<BarContainer object of 5 artists>"
      ]
     },
     "execution_count": 45,
     "metadata": {},
     "output_type": "execute_result"
    },
    {
     "data": {
      "image/png": "[encoded data removed]",
      "text/plain": [
       "<Figure size 600x400 with 1 Axes>"
      ]
     },
     "metadata": {
      "needs_background": "light"
     },
     "output_type": "display_data"
    }
   ],
   "source": [
    "group_id = 32\n",
    "\n",
    "true_states = [np.where(sample.policy[sample.legals_mask] == 1)[0][0] for sample in late_game_groups[group_id]]\n",
    "true_states_histogram = defaultdict(lambda: 0)\n",
    "for true_state in true_states:\n",
    "    true_states_histogram[true_state] += 1\n",
    " \n",
    "plt.figure(figsize=(6, 4), dpi=100)\n",
    "plt.title(f\"Distribution of true states for information set {group_id}\")\n",
    "plt.xlabel(f\"State ID\")\n",
    "plt.ylabel(f\"Frequency\")\n",
    "plt.bar(true_states_histogram.keys(), true_states_histogram.values())"
   ]
  },
  {
   "cell_type": "code",
   "execution_count": null,
   "id": "normal-canvas",
   "metadata": {},
   "outputs": [],
   "source": [
    "print(late_game_groups[group_id][0].observation[-32:-16])"
   ]
  },
  {
   "cell_type": "code",
   "execution_count": null,
   "id": "focused-battery",
   "metadata": {},
   "outputs": [],
   "source": []
  }
 ],
 "metadata": {
  "kernelspec": {
   "display_name": "Python 3",
   "language": "python",
   "name": "python3"
  },
  "language_info": {
   "codemirror_mode": {
    "name": "ipython",
    "version": 3
   },
   "file_extension": ".py",
   "mimetype": "text/x-python",
   "name": "python",
   "nbconvert_exporter": "python",
   "pygments_lexer": "ipython3",
   "version": "3.8.0"
  }
 },
 "nbformat": 4,
 "nbformat_minor": 5
}
