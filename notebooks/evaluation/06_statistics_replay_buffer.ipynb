{
 "cells": [
  {
   "cell_type": "code",
   "execution_count": 1,
   "id": "extreme-pierce",
   "metadata": {},
   "outputs": [
    {
     "name": "stdout",
     "output_type": "stream",
     "text": [
      "/mnt/d/ownCloud/Uni/Semester Ma 5/Advanced Deep Learning for Robotics (IN2349)/Project/tum-adlr-ws20-9\n"
     ]
    }
   ],
   "source": [
    "%cd ../..\n",
    "%reload_ext autoreload\n",
    "%autoreload 2"
   ]
  },
  {
   "cell_type": "code",
   "execution_count": 64,
   "id": "subjective-disclaimer",
   "metadata": {},
   "outputs": [],
   "source": [
    "import numpy as np\n",
    "import matplotlib.pyplot as plt\n",
    "from collections import defaultdict\n",
    "from statistics import mean\n",
    "\n",
    "from alpha_one.data.replay import ReplayDataManager\n",
    "from alpha_one.model.model_manager import AlphaOneCheckpointManager"
   ]
  },
  {
   "cell_type": "code",
   "execution_count": 6,
   "id": "educated-indicator",
   "metadata": {},
   "outputs": [],
   "source": [
    "game_name = 'leduc_poker'\n",
    "run_name = 'LP-local-39'"
   ]
  },
  {
   "cell_type": "code",
   "execution_count": 47,
   "id": "liable-mambo",
   "metadata": {},
   "outputs": [],
   "source": [
    "model_manager = AlphaOneCheckpointManager(game_name, run_name)\n",
    "observation_data_manager = model_manager.observation_model_manager.get_replay_data_manager()"
   ]
  },
  {
   "cell_type": "code",
   "execution_count": 112,
   "id": "nuclear-isolation",
   "metadata": {},
   "outputs": [],
   "source": [
    "observation_buffer = observation_data_manager.load_replays(-1)"
   ]
  },
  {
   "cell_type": "code",
   "execution_count": 129,
   "id": "hollow-lesson",
   "metadata": {},
   "outputs": [],
   "source": []
  },
  {
   "cell_type": "code",
   "execution_count": 139,
   "id": "humanitarian-biography",
   "metadata": {},
   "outputs": [],
   "source": [
    "grouped_samples = defaultdict(list)\n",
    "for sample in observation_buffer.data[-10000:]:\n",
    "    grouped_samples[str(sample.observation)].append(sample)"
   ]
  },
  {
   "cell_type": "code",
   "execution_count": 140,
   "id": "chinese-sheet",
   "metadata": {},
   "outputs": [],
   "source": [
    "entropies = []\n",
    "for samples in grouped_samples.values():\n",
    "    target_policy = np.zeros(len(samples[0].legals_mask))\n",
    "    for sample in samples:\n",
    "        target_policy += sample.policy\n",
    "    target_policy /= len(samples)\n",
    "    \n",
    "    target_policy = target_policy[np.where(target_policy > 0)]\n",
    "    entropies.append(np.sum(- target_policy * np.log(target_policy)))"
   ]
  },
  {
   "cell_type": "code",
   "execution_count": 141,
   "id": "certain-dover",
   "metadata": {},
   "outputs": [
    {
     "data": {
      "text/plain": [
       "1.0239442834255126"
      ]
     },
     "execution_count": 141,
     "metadata": {},
     "output_type": "execute_result"
    }
   ],
   "source": [
    "mean(entropies)"
   ]
  },
  {
   "cell_type": "code",
   "execution_count": 83,
   "id": "foreign-salmon",
   "metadata": {},
   "outputs": [
    {
     "data": {
      "text/plain": [
       "{'[0. 0. 0. 0. 1.]',\n",
       " '[0. 0. 0. 1. 0.]',\n",
       " '[0. 0. 1. 0. 0.]',\n",
       " '[0. 1. 0. 0. 0.]',\n",
       " '[1. 0. 0. 0. 0.]'}"
      ]
     },
     "execution_count": 83,
     "metadata": {},
     "output_type": "execute_result"
    }
   ],
   "source": [
    "{str(sample.policy[sample.legals_mask]) for sample in list(grouped_samples.values())[0]}"
   ]
  },
  {
   "cell_type": "code",
   "execution_count": 102,
   "id": "rapid-humidity",
   "metadata": {},
   "outputs": [],
   "source": [
    "state_ambiguities = [len({str(sample.policy[sample.legals_mask]) for sample in samples}) for samples in grouped_samples.values()]"
   ]
  },
  {
   "cell_type": "code",
   "execution_count": 105,
   "id": "decimal-stocks",
   "metadata": {},
   "outputs": [],
   "source": [
    "histogram = defaultdict(lambda: 0)\n",
    "for state_ambiguity in state_ambiguities:\n",
    "    histogram[state_ambiguity] += 1"
   ]
  },
  {
   "cell_type": "code",
   "execution_count": 111,
   "id": "incredible-prince",
   "metadata": {},
   "outputs": [
    {
     "data": {
      "text/plain": [
       "Text(0, 0.5, 'Frequency')"
      ]
     },
     "execution_count": 111,
     "metadata": {},
     "output_type": "execute_result"
    },
    {
     "data": {
      "image/png": "[encoded data removed]",
      "text/plain": [
       "<Figure size 432x288 with 1 Axes>"
      ]
     },
     "metadata": {
      "needs_background": "light"
     },
     "output_type": "display_data"
    }
   ],
   "source": [
    "plt.title(\"State ambiguities\")\n",
    "plt.bar(histogram.keys(), histogram.values())\n",
    "plt.xlabel(\"#Different policies per input observation\")\n",
    "plt.ylabel(\"Frequency\")"
   ]
  },
  {
   "cell_type": "code",
   "execution_count": null,
   "id": "statistical-migration",
   "metadata": {},
   "outputs": [],
   "source": []
  }
 ],
 "metadata": {
  "kernelspec": {
   "display_name": "Python 3",
   "language": "python",
   "name": "python3"
  },
  "language_info": {
   "codemirror_mode": {
    "name": "ipython",
    "version": 3
   },
   "file_extension": ".py",
   "mimetype": "text/x-python",
   "name": "python",
   "nbconvert_exporter": "python",
   "pygments_lexer": "ipython3",
   "version": "3.8.0"
  }
 },
 "nbformat": 4,
 "nbformat_minor": 5
}
