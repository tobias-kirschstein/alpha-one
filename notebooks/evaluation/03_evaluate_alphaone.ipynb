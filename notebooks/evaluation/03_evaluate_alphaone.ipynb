{
 "cells": [
  {
   "cell_type": "code",
   "execution_count": 1,
   "metadata": {},
   "outputs": [
    {
     "name": "stdout",
     "output_type": "stream",
     "text": [
      "/mnt/d/ownCloud/Uni/Semester Ma 5/Advanced Deep Learning for Robotics (IN2349)/Project/tum-adlr-ws20-9\n"
     ]
    }
   ],
   "source": [
    "%cd ../..\n",
    "%reload_ext autoreload\n",
    "%autoreload 2"
   ]
  },
  {
   "cell_type": "code",
   "execution_count": 2,
   "metadata": {},
   "outputs": [
    {
     "name": "stdout",
     "output_type": "stream",
     "text": [
      "WARNING:tensorflow:From /opt/anaconda3/envs/alpha_one/lib/python3.8/site-packages/tensorflow/python/compat/v2_compat.py:96: disable_resource_variables (from tensorflow.python.ops.variable_scope) is deprecated and will be removed in a future version.\n",
      "Instructions for updating:\n",
      "non-resource variables are not supported in the long term\n"
     ]
    }
   ],
   "source": [
    "import pyspiel\n",
    "import math\n",
    "import numpy as np\n",
    "import matplotlib.pyplot as plt\n",
    "from alpha_one.model.model_manager import OpenSpielCheckpointManager\n",
    "from alpha_one.train import MCTSConfig\n",
    "from alpha_one.utils.state_to_value import state_to_value\n",
    "from alpha_one.utils.mcts_II import initialize_bot_alphaone, ii_mcts_agent\n",
    "from alpha_one.utils.determinized_mcts import initialize_bot, compute_mcts_policy\n",
    "from alpha_one.game.information_set import InformationSetGenerator"
   ]
  },
  {
   "cell_type": "code",
   "execution_count": null,
   "metadata": {},
   "outputs": [],
   "source": [
    "game_name = \"leduc_poker\"\n",
    "game = pyspiel.load_game(game_name)\n",
    "state_to_value = state_to_value(game_name)"
   ]
  },
  {
   "cell_type": "markdown",
   "metadata": {},
   "source": [
    "# Load Model"
   ]
  },
  {
   "cell_type": "code",
   "execution_count": null,
   "metadata": {},
   "outputs": [],
   "source": [
    "model_manager = OpenSpielCheckpointManager('alphaone/kuhn_poker', 'LP-local-1-observation_model')\n",
    "observation_model = model_manager.load_checkpoint(-1)"
   ]
  },
  {
   "cell_type": "code",
   "execution_count": null,
   "metadata": {},
   "outputs": [],
   "source": [
    "model_manager = OpenSpielCheckpointManager('alphaone/kuhn_poker', 'LP-local-1-game_model')\n",
    "game_model = model_manager.load_checkpoint(-1)"
   ]
  },
  {
   "cell_type": "code",
   "execution_count": null,
   "metadata": {},
   "outputs": [],
   "source": [
    "model_manager = OpenSpielCheckpointManager('dmcts/kuhn_poker', 'KP-local-1')\n",
    "dmcts_model = model_manager.load_checkpoint(-1)"
   ]
  },
  {
   "cell_type": "markdown",
   "metadata": {},
   "source": [
    "# Setup player"
   ]
  },
  {
   "cell_type": "code",
   "execution_count": null,
   "metadata": {},
   "outputs": [],
   "source": [
    "UCT_C = math.sqrt(2)\n",
    "max_mcts_simulations = 100"
   ]
  },
  {
   "cell_type": "code",
   "execution_count": null,
   "metadata": {},
   "outputs": [],
   "source": [
    "alphaone_mcts_config = MCTSConfig(UCT_C, max_mcts_simulations, 0, None, None, None, \n",
    "                                  alpha_one=True, \n",
    "                                  state_to_value=state_to_value)\n",
    "\n",
    "alphaone_bot = initialize_bot_alphaone(game, [observation_model, game_model], alphaone_mcts_config)"
   ]
  },
  {
   "cell_type": "code",
   "execution_count": null,
   "metadata": {},
   "outputs": [],
   "source": [
    "dmcts_mcts_config = MCTSConfig(UCT_C, max_mcts_simulations, 0, None, None, None, \n",
    "                               determinized_MCTS=True, \n",
    "                               omniscient_observer=True)"
   ]
  },
  {
   "cell_type": "code",
   "execution_count": null,
   "metadata": {},
   "outputs": [],
   "source": [
    "player_setup = {\n",
    "    'd-mcts': 1,\n",
    "    'alphaone': 0,\n",
    "}\n",
    "player_setup_reverse = {player_id:player_type for player_type, player_id in player_setup.items()}"
   ]
  },
  {
   "cell_type": "markdown",
   "metadata": {},
   "source": [
    "# Play a game"
   ]
  },
  {
   "cell_type": "code",
   "execution_count": null,
   "metadata": {},
   "outputs": [],
   "source": [
    "correct_guess = 0\n",
    "incorrect_guess = 0\n",
    "game_returns = []\n",
    "for _ in range(100):\n",
    "    state = game.new_initial_state()\n",
    "    information_set_generator = InformationSetGenerator(game)\n",
    "    while not state.is_terminal():\n",
    "        if state.current_player() < 0:\n",
    "            action = np.random.choice(state.legal_actions())\n",
    "            information_set_generator.register_action(action)\n",
    "            state.apply_action(action)\n",
    "            information_set_generator.register_observation(state)\n",
    "        else:\n",
    "            current_player_type = player_setup_reverse[state.current_player()]\n",
    "        \n",
    "            if current_player_type == 'd-mcts':\n",
    "                policy = compute_mcts_policy(game, dmcts_model, state, \n",
    "                                             information_set_generator, \n",
    "                                             dmcts_mcts_config)\n",
    "                action = np.argmax(policy)\n",
    "                information_set_generator.register_action(action)\n",
    "                state.apply_action(action)\n",
    "                information_set_generator.register_observation(state)\n",
    "            else:\n",
    "                _, game_node_policy, guess_state, _ = ii_mcts_agent(information_set_generator, \n",
    "                                                                               alphaone_mcts_config, \n",
    "                                                                               alphaone_bot,\n",
    "                                                                               game)\n",
    "                if guess_state.__str__() == state.__str__():\n",
    "                    correct_guess += 1\n",
    "                else:\n",
    "                    incorrect_guess += 1\n",
    "\n",
    "                action = np.argmax(game_node_policy)\n",
    "\n",
    "                information_set_generator.register_action(action)\n",
    "                state.apply_action(action)\n",
    "                information_set_generator.register_observation(state)\n",
    "            \n",
    "    game_returns.append(state.returns())\n",
    "            \n",
    "            "
   ]
  },
  {
   "cell_type": "code",
   "execution_count": null,
   "metadata": {},
   "outputs": [],
   "source": [
    "game_returns = np.array(game_returns)\n",
    "average_return = game_returns.mean(axis=0)\n",
    "print(f\"Average return:\")\n",
    "print(f\"---------------\")\n",
    "print(f\"  {player_setup_reverse[0]}: {average_return[0]}\")\n",
    "print(f\"  {player_setup_reverse[1]}: {average_return[1]}\")\n",
    "print(f\" correct guess probability: {correct_guess/(correct_guess+incorrect_guess)}\")"
   ]
  },
  {
   "cell_type": "code",
   "execution_count": null,
   "metadata": {},
   "outputs": [],
   "source": []
  }
 ],
 "metadata": {
  "kernelspec": {
   "display_name": "Python 3",
   "language": "python",
   "name": "python3"
  },
  "language_info": {
   "codemirror_mode": {
    "name": "ipython",
    "version": 3
   },
   "file_extension": ".py",
   "mimetype": "text/x-python",
   "name": "python",
   "nbconvert_exporter": "python",
   "pygments_lexer": "ipython3",
   "version": "3.8.0"
  }
 },
 "nbformat": 4,
 "nbformat_minor": 4
}
