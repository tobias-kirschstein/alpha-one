{
 "cells": [
  {
   "cell_type": "code",
   "execution_count": null,
   "metadata": {},
   "outputs": [],
   "source": [
    "%cd ../..\n",
    "%reload_ext autoreload\n",
    "%autoreload 2"
   ]
  },
  {
   "cell_type": "code",
   "execution_count": null,
   "metadata": {},
   "outputs": [],
   "source": [
    "import pyspiel\n",
    "import numpy as np\n",
    "\n",
    "from alpha_one.model.model_manager import AlphaOneCheckpointManager\n",
    "from alpha_one.utils.play import VerboseGameMachine\n",
    "from alpha_one.utils.mcts_II import IIGMCTSConfig\n",
    "from alpha_one.utils.state_to_value import state_to_value\n",
    "from alpha_one.utils.statemask import get_state_mask\n",
    "from alpha_one.model.agent import DirectInferenceAgent, IIGMCTSAgent"
   ]
  },
  {
   "cell_type": "markdown",
   "metadata": {},
   "source": [
    "# 1. Game Setup"
   ]
  },
  {
   "cell_type": "code",
   "execution_count": null,
   "metadata": {},
   "outputs": [],
   "source": [
    "game_name = 'leduc_poker'\n",
    "run_name = 'LP-13'\n",
    "\n",
    "game = pyspiel.load_game(game_name)"
   ]
  },
  {
   "cell_type": "code",
   "execution_count": null,
   "metadata": {},
   "outputs": [],
   "source": [
    "model_manager = AlphaOneCheckpointManager(game_name, run_name)\n",
    "observation_model, game_model = model_manager.load_checkpoint(-1)"
   ]
  },
  {
   "cell_type": "markdown",
   "metadata": {},
   "source": [
    "# 2. Model Setup"
   ]
  },
  {
   "cell_type": "code",
   "execution_count": null,
   "metadata": {},
   "outputs": [],
   "source": [
    "n_previous_observations = 3"
   ]
  },
  {
   "cell_type": "code",
   "execution_count": null,
   "metadata": {},
   "outputs": [],
   "source": [
    "alpha_one_mcts_config = IIGMCTSConfig(\n",
    "    uct_c=5,\n",
    "    max_mcts_simulations=100,\n",
    "    temperature=1,\n",
    "    optimism=0.1,\n",
    "    n_previous_observations=3,\n",
    "    use_reward_policy=True,\n",
    "    alpha_one=True,\n",
    "    state_to_value=state_to_value(game_name))"
   ]
  },
  {
   "cell_type": "code",
   "execution_count": null,
   "metadata": {},
   "outputs": [],
   "source": [
    "direct_inference_agent = DirectInferenceAgent(observation_model, n_previous_observations=n_previous_observations)\n",
    "alpha_one_agent = IIGMCTSAgent.from_config(game, observation_model, game_model, alpha_one_mcts_config)"
   ]
  },
  {
   "cell_type": "markdown",
   "metadata": {},
   "source": [
    "# 3. Investigate specific Game Scenarios"
   ]
  },
  {
   "cell_type": "code",
   "execution_count": null,
   "metadata": {},
   "outputs": [],
   "source": [
    "game_machine = VerboseGameMachine(game)"
   ]
  },
  {
   "cell_type": "code",
   "execution_count": null,
   "metadata": {},
   "outputs": [],
   "source": [
    "game_machine.new_game()\n",
    "\n",
    "game_machine.play_action(0)\n",
    "game_machine.play_action(1)\n",
    "game_machine.play_action(2)\n",
    "game_machine.play_action(1)\n",
    "game_machine.play_action(5)"
   ]
  },
  {
   "cell_type": "code",
   "execution_count": null,
   "metadata": {},
   "outputs": [],
   "source": [
    "game_machine.list_player_actions()"
   ]
  },
  {
   "cell_type": "code",
   "execution_count": null,
   "metadata": {},
   "outputs": [],
   "source": [
    "obs = [game_machine.information_set_generator.get_padded_observation_history(n_previous_observations)]\n",
    "\n",
    "information_set = game_machine.information_set_generator.calculate_information_set()\n",
    "state_mask, _ = get_state_mask(alpha_one_mcts_config.state_to_value, information_set)"
   ]
  },
  {
   "cell_type": "code",
   "execution_count": null,
   "metadata": {},
   "outputs": [],
   "source": [
    "value, policy = observation_model.inference(obs,  [state_mask])"
   ]
  },
  {
   "cell_type": "code",
   "execution_count": null,
   "metadata": {},
   "outputs": [],
   "source": [
    "policy[0][state_mask]"
   ]
  },
  {
   "cell_type": "code",
   "execution_count": null,
   "metadata": {},
   "outputs": [],
   "source": [
    "alpha_one_agent.next_move(game_machine.information_set_generator)"
   ]
  },
  {
   "cell_type": "code",
   "execution_count": null,
   "metadata": {},
   "outputs": [],
   "source": [
    "alpha_one_agent.get_last_state_policy()"
   ]
  },
  {
   "cell_type": "code",
   "execution_count": null,
   "metadata": {},
   "outputs": [],
   "source": []
  }
 ],
 "metadata": {
  "kernelspec": {
   "display_name": "Python 3",
   "language": "python",
   "name": "python3"
  },
  "language_info": {
   "codemirror_mode": {
    "name": "ipython",
    "version": 3
   },
   "file_extension": ".py",
   "mimetype": "text/x-python",
   "name": "python",
   "nbconvert_exporter": "python",
   "pygments_lexer": "ipython3",
   "version": "3.7.3"
  }
 },
 "nbformat": 4,
 "nbformat_minor": 4
}
