{
 "cells": [
  {
   "cell_type": "code",
   "execution_count": null,
   "metadata": {},
   "outputs": [],
   "source": [
    "%cd ../..\n",
    "%reload_ext autoreload\n",
    "%autoreload 2"
   ]
  },
  {
   "cell_type": "code",
   "execution_count": null,
   "metadata": {},
   "outputs": [],
   "source": [
    "import pyspiel\n",
    "import math\n",
    "import numpy as np\n",
    "import matplotlib.pyplot as plt\n",
    "from alpha_one.model.model_manager import OpenSpielCheckpointManager\n",
    "from alpha_one.train import MCTSConfig\n",
    "from alpha_one.utils.state_to_value import state_to_value\n",
    "from alpha_one.utils.mcts_II import initialize_bot_alphaone, ii_mcts_agent\n",
    "from alpha_one.utils.determinized_mcts import initialize_bot, compute_mcts_policy\n",
    "from alpha_one.game.information_set import InformationSetGenerator"
   ]
  },
  {
   "cell_type": "code",
   "execution_count": null,
   "metadata": {},
   "outputs": [],
   "source": [
    "game_name = \"leduc_poker\"\n",
    "game = pyspiel.load_game(game_name)\n",
    "print(game.max_utility())"
   ]
  },
  {
   "cell_type": "code",
   "execution_count": null,
   "metadata": {},
   "outputs": [],
   "source": [
    "model_manager = OpenSpielCheckpointManager('leduc_poker', 'LP-local-12')\n",
    "dmcts_model = model_manager.load_checkpoint(-1)"
   ]
  },
  {
   "cell_type": "code",
   "execution_count": null,
   "metadata": {},
   "outputs": [],
   "source": [
    "UCT_C = math.sqrt(2)\n",
    "max_mcts_simulations = 100"
   ]
  },
  {
   "cell_type": "code",
   "execution_count": null,
   "metadata": {},
   "outputs": [],
   "source": [
    "dmcts_mcts_config = MCTSConfig(UCT_C, max_mcts_simulations, 0, None, None, None, \n",
    "                               determinized_MCTS=True, \n",
    "                               omniscient_observer=True,\n",
    "                               use_reward_policy=True)"
   ]
  },
  {
   "cell_type": "code",
   "execution_count": null,
   "metadata": {},
   "outputs": [],
   "source": [
    "player_setup = {\n",
    "    'd-mcts_NN': 1,\n",
    "    'd-mcts_random': 0,\n",
    "    'random': -11\n",
    "}\n",
    "player_setup_reverse = {player_id:player_type for player_type, player_id in player_setup.items()}"
   ]
  },
  {
   "cell_type": "code",
   "execution_count": null,
   "metadata": {},
   "outputs": [],
   "source": [
    "game_returns = []\n",
    "for _ in range(100):\n",
    "    state = game.new_initial_state()\n",
    "    information_set_generator = InformationSetGenerator(game)\n",
    "    while not state.is_terminal():\n",
    "        if state.current_player() < 0:\n",
    "            action = np.random.choice(state.legal_actions())\n",
    "            information_set_generator.register_action(action)\n",
    "            state.apply_action(action)\n",
    "            information_set_generator.register_observation(state)\n",
    "        else:\n",
    "            current_player_type = player_setup_reverse[state.current_player()]\n",
    "        \n",
    "            if current_player_type == 'd-mcts_NN':\n",
    "                policy = compute_mcts_policy(game, dmcts_model, state, \n",
    "                                             information_set_generator, \n",
    "                                             dmcts_mcts_config)\n",
    "                action = np.argmax(policy)\n",
    "                information_set_generator.register_action(action)\n",
    "                state.apply_action(action)\n",
    "                information_set_generator.register_observation(state)\n",
    "            elif current_player_type == 'd-mcts_random':\n",
    "                policy = compute_mcts_policy(game, dmcts_model, state, \n",
    "                                             information_set_generator, \n",
    "                                             dmcts_mcts_config,\n",
    "                                             use_NN=False, \n",
    "                                             n_rollouts=100)\n",
    "                action = np.argmax(policy)\n",
    "                information_set_generator.register_action(action)\n",
    "                state.apply_action(action)\n",
    "                information_set_generator.register_observation(state)\n",
    "                \n",
    "            elif current_player_type == 'random':\n",
    "                action = np.random.choice(state.legal_actions())\n",
    "                information_set_generator.register_action(action)\n",
    "                state.apply_action(action)\n",
    "                information_set_generator.register_observation(state)\n",
    "                \n",
    "            \n",
    "    game_returns.append(state.returns())\n",
    "            \n",
    "            "
   ]
  },
  {
   "cell_type": "code",
   "execution_count": null,
   "metadata": {},
   "outputs": [],
   "source": [
    "game_returns = np.array(game_returns)\n",
    "average_return = game_returns.mean(axis=0)\n",
    "print(f\"Average return:\")\n",
    "print(f\"---------------\")\n",
    "print(f\"  {player_setup_reverse[0]}: {average_return[0]}\")\n",
    "print(f\"  {player_setup_reverse[1]}: {average_return[1]}\")"
   ]
  },
  {
   "cell_type": "code",
   "execution_count": null,
   "metadata": {},
   "outputs": [],
   "source": []
  }
 ],
 "metadata": {
  "kernelspec": {
   "display_name": "Python 3",
   "language": "python",
   "name": "python3"
  },
  "language_info": {
   "codemirror_mode": {
    "name": "ipython",
    "version": 3
   },
   "file_extension": ".py",
   "mimetype": "text/x-python",
   "name": "python",
   "nbconvert_exporter": "python",
   "pygments_lexer": "ipython3",
   "version": "3.8.5"
  }
 },
 "nbformat": 4,
 "nbformat_minor": 4
}
