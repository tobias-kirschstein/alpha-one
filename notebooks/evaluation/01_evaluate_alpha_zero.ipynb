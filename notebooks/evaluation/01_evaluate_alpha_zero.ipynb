{
 "cells": [
  {
   "cell_type": "code",
   "execution_count": null,
   "metadata": {},
   "outputs": [],
   "source": [
    "%cd ../.."
   ]
  },
  {
   "cell_type": "code",
   "execution_count": null,
   "metadata": {},
   "outputs": [],
   "source": [
    "import pyspiel\n",
    "import math\n",
    "import numpy as np\n",
    "\n",
    "from alpha_one.model.model_manager import OpenSpielModelManager\n",
    "from alpha_one.model.config import OpenSpielModelConfig\n",
    "from alpha_one.utils.mcts import initialize_bot, compute_mcts_policy, mcts_inference\n",
    "from env import MODEL_SAVES_DIR"
   ]
  },
  {
   "cell_type": "code",
   "execution_count": null,
   "metadata": {},
   "outputs": [],
   "source": [
    "game_name = \"connect_four\"\n",
    "run_name = \"C4-3\"\n",
    "iteration = 99"
   ]
  },
  {
   "cell_type": "markdown",
   "metadata": {},
   "source": [
    "# 1. Load model"
   ]
  },
  {
   "cell_type": "code",
   "execution_count": null,
   "metadata": {},
   "outputs": [],
   "source": [
    "model_manager = OpenSpielModelManager(f\"{game_name}/{run_name}\")"
   ]
  },
  {
   "cell_type": "code",
   "execution_count": null,
   "metadata": {},
   "outputs": [],
   "source": [
    "# Legacy way to load model, use this for now\n",
    "game = pyspiel.load_game(\"connect_four\")\n",
    "\n",
    "config = OpenSpielModelConfig(game, \"mlp\", 64, 4, 1e-5, 5e-4)\n",
    "model = model_manager.build_model(config)\n",
    "model_0 = model_manager.build_model(config)\n",
    "model.load_checkpoint(f\"{MODEL_SAVES_DIR}/{game_name}/{run_name}/checkpoint-{iteration}\")\n",
    "model_0.load_checkpoint(f\"{MODEL_SAVES_DIR}/{game_name}/{run_name}/checkpoint-0\")"
   ]
  },
  {
   "cell_type": "code",
   "execution_count": null,
   "metadata": {},
   "outputs": [],
   "source": [
    "# Future way to load model"
   ]
  },
  {
   "cell_type": "code",
   "execution_count": null,
   "metadata": {},
   "outputs": [],
   "source": [
    "model = model_manager.load_model(iteration)\n",
    "model_0 = model_manager.load_model(0)"
   ]
  },
  {
   "cell_type": "markdown",
   "metadata": {},
   "source": [
    "# 2. Setup Game"
   ]
  },
  {
   "cell_type": "code",
   "execution_count": null,
   "metadata": {},
   "outputs": [],
   "source": [
    "game = pyspiel.load_game(\"connect_four\")"
   ]
  },
  {
   "cell_type": "code",
   "execution_count": null,
   "metadata": {},
   "outputs": [],
   "source": [
    "state = game.new_initial_state()\n",
    "state.apply_action(3)\n",
    "state.apply_action(3)\n",
    "state.apply_action(2)\n",
    "print(state.observation_string())"
   ]
  },
  {
   "cell_type": "markdown",
   "metadata": {},
   "source": [
    "# 2.1 Direct inference"
   ]
  },
  {
   "cell_type": "code",
   "execution_count": null,
   "metadata": {},
   "outputs": [],
   "source": [
    "model.inference([state.observation_tensor()], [state.legal_actions_mask()])"
   ]
  },
  {
   "cell_type": "code",
   "execution_count": null,
   "metadata": {},
   "outputs": [],
   "source": [
    "model_0.inference([state.observation_tensor()], [state.legal_actions_mask()])"
   ]
  },
  {
   "cell_type": "markdown",
   "metadata": {},
   "source": [
    "# 2.2 Using MCTS search"
   ]
  },
  {
   "cell_type": "code",
   "execution_count": null,
   "metadata": {},
   "outputs": [],
   "source": [
    "UCT_C = math.sqrt(2)\n",
    "max_simulations = 100\n",
    "temperature = 1"
   ]
  },
  {
   "cell_type": "code",
   "execution_count": null,
   "metadata": {},
   "outputs": [],
   "source": [
    "mcts_inference(game, model, state, uct_c=UCT_C, max_simulations=max_simulations, temperature=temperature)"
   ]
  },
  {
   "cell_type": "code",
   "execution_count": null,
   "metadata": {},
   "outputs": [],
   "source": [
    "mcts_inference(game, model_0, state, uct_c=UCT_C, max_simulations=max_simulations, temperature=temperature)"
   ]
  },
  {
   "cell_type": "markdown",
   "metadata": {},
   "source": [
    "# 3. Interactive play"
   ]
  },
  {
   "cell_type": "code",
   "execution_count": null,
   "metadata": {},
   "outputs": [],
   "source": [
    "model_strategy = \"mcts\"  # direct or mcts"
   ]
  },
  {
   "cell_type": "code",
   "execution_count": null,
   "metadata": {},
   "outputs": [],
   "source": [
    "state = game.new_initial_state()\n",
    "player_id_model = np.random.choice(2)\n",
    "player_id_human = 1 - player_id_model\n",
    "print(f\"Welcome to a game of {game_name} against the Computer (iteration {iteration}). Enter 'c' to cancel the game\")\n",
    "print(f\"Player Human: {player_id_human}, Player model: {player_id_model}\")\n",
    "while not state.is_terminal():\n",
    "    current_player_str = \"Human\" if state.current_player() == player_id_human else \"Computer\"\n",
    "    print(f\"Current player: {current_player_str}\")\n",
    "    print(state.observation_string())\n",
    "    if state.current_player() == player_id_model:\n",
    "        if model_strategy == 'direct':\n",
    "            _, policy = model.inference([state.observation_tensor()], [state.legal_actions_mask()])\n",
    "            policy = policy[0]\n",
    "        elif model_strategy == 'mcts':\n",
    "            policy = mcts_inference(game, model_0, state, uct_c=UCT_C, max_simulations=max_simulations, temperature=temperature)\n",
    "        print(f\"Computer policy: {policy}\")\n",
    "        action = np.random.choice(len(policy), p=policy)\n",
    "        print(f\"Computer action: {action}\")\n",
    "    else:\n",
    "        print(f\"Possible actions: {np.where(state.legal_actions_mask())[0]}\")\n",
    "        print(f\"Your action: \")\n",
    "        human_input = input()\n",
    "        if human_input == 'c':\n",
    "            break\n",
    "        else:\n",
    "            action = int(human_input)\n",
    "    state.apply_action(action)\n",
    "if not human_input == 'c':\n",
    "    winner_str = \"Human\" if state.returns()[player_id_human] == 1 else \"Computer\"\n",
    "    print(f\"The winner is: {winner_str}\")\n",
    "    print(state.observation_string(0))\n",
    "else:\n",
    "    print(\"Game was cancelled\")"
   ]
  }
 ],
 "metadata": {
  "kernelspec": {
   "display_name": "Python 3",
   "language": "python",
   "name": "python3"
  },
  "language_info": {
   "codemirror_mode": {
    "name": "ipython",
    "version": 3
   },
   "file_extension": ".py",
   "mimetype": "text/x-python",
   "name": "python",
   "nbconvert_exporter": "python",
   "pygments_lexer": "ipython3",
   "version": "3.7.8"
  }
 },
 "nbformat": 4,
 "nbformat_minor": 4
}
