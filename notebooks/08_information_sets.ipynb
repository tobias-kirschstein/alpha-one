{
 "cells": [
  {
   "cell_type": "code",
   "execution_count": 2,
   "id": "fatty-married",
   "metadata": {},
   "outputs": [
    {
     "name": "stdout",
     "output_type": "stream",
     "text": [
      "/mnt/d/ownCloud/Uni/Semester Ma 5/Advanced Deep Learning for Robotics (IN2349)/Project/tum-adlr-ws20-9\n"
     ]
    }
   ],
   "source": [
    "%cd ..\n",
    "%reload_ext autoreload\n",
    "%autoreload 2"
   ]
  },
  {
   "cell_type": "code",
   "execution_count": 3,
   "id": "present-invitation",
   "metadata": {},
   "outputs": [],
   "source": [
    "import pyspiel\n",
    "\n",
    "from alpha_one.game.information_set import InformationSetGenerator\n",
    "from alpha_one.game.dummy import DummyGame\n",
    "from alpha_one.utils.timing import Timing"
   ]
  },
  {
   "cell_type": "markdown",
   "id": "inclusive-gardening",
   "metadata": {},
   "source": [
    "# 1. Setup Game"
   ]
  },
  {
   "cell_type": "code",
   "execution_count": 69,
   "id": "liberal-tutorial",
   "metadata": {},
   "outputs": [],
   "source": [
    "game = DummyGame()\n",
    "#game = pyspiel.load_game('battleship', {'board_width': pyspiel.GameParameter(5), 'board_height': pyspiel.GameParameter(5), 'ship_sizes': pyspiel.GameParameter('[2;3]'), 'ship_values': pyspiel.GameParameter('[1.0;1.0]')})\n",
    "#game = pyspiel.load_game('universal_poker', {'numRanks': pyspiel.GameParameter(13), 'numRounds': pyspiel.GameParameter(4), 'numHoleCards': pyspiel.GameParameter(2), 'numBoardCards': pyspiel.GameParameter(\"0 3 1 1\")})\n",
    "state = game.new_initial_state()\n",
    "information_set_generator = InformationSetGenerator(game)"
   ]
  },
  {
   "cell_type": "markdown",
   "id": "fitted-scenario",
   "metadata": {},
   "source": [
    "# 2. Play some actions"
   ]
  },
  {
   "cell_type": "code",
   "execution_count": 74,
   "id": "peripheral-smoke",
   "metadata": {},
   "outputs": [
    {
     "name": "stdout",
     "output_type": "stream",
     "text": [
      "1\n",
      "[0, 2]\n",
      "1, [1], [1], [], [0, 2]\n"
     ]
    }
   ],
   "source": [
    "print(state.current_player())\n",
    "print(state.legal_actions())\n",
    "#print([game.action_to_string(state.current_player(), action) for action in state.legal_actions()])\n",
    "if state.current_player() >= 0:\n",
    "    print(state.observation_string(state.current_player()))"
   ]
  },
  {
   "cell_type": "code",
   "execution_count": 75,
   "id": "postal-visitor",
   "metadata": {},
   "outputs": [
    {
     "name": "stdout",
     "output_type": "stream",
     "text": [
      "Player 1 Information Set size: 2\n",
      "Player 2 Information Set size: 1\n"
     ]
    }
   ],
   "source": [
    "action = 0\n",
    "information_set_generator.register_action(state.current_player(), action)\n",
    "state.apply_action(action)\n",
    "information_set_generator.register_observation(state)\n",
    "print(f\"Player 1 Information Set size: {len(information_set_generator.calculate_information_set(0))}\")\n",
    "print(f\"Player 2 Information Set size: {len(information_set_generator.calculate_information_set(1))}\")"
   ]
  },
  {
   "cell_type": "code",
   "execution_count": 50,
   "id": "prospective-condition",
   "metadata": {},
   "outputs": [
    {
     "data": {
      "text/plain": [
       "[0.0, 0.0]"
      ]
     },
     "execution_count": 50,
     "metadata": {},
     "output_type": "execute_result"
    }
   ],
   "source": [
    "state.returns()"
   ]
  },
  {
   "cell_type": "markdown",
   "id": "attended-grace",
   "metadata": {},
   "source": [
    "# 3. Investigate Information Set"
   ]
  },
  {
   "cell_type": "code",
   "execution_count": null,
   "id": "religious-poverty",
   "metadata": {},
   "outputs": [],
   "source": [
    "information_set_generator.observation_history"
   ]
  },
  {
   "cell_type": "code",
   "execution_count": 624,
   "id": "southeast-making",
   "metadata": {},
   "outputs": [
    {
     "data": {
      "text/plain": [
       "defaultdict(list, {-1: [1, 1], 0: [], 1: []})"
      ]
     },
     "execution_count": 624,
     "metadata": {},
     "output_type": "execute_result"
    }
   ],
   "source": [
    "information_set_generator.action_history"
   ]
  },
  {
   "cell_type": "code",
   "execution_count": 76,
   "id": "competitive-lafayette",
   "metadata": {},
   "outputs": [],
   "source": [
    "information_set = information_set_generator.calculate_information_set(0)"
   ]
  },
  {
   "cell_type": "code",
   "execution_count": 77,
   "id": "automatic-organ",
   "metadata": {},
   "outputs": [
    {
     "name": "stdout",
     "output_type": "stream",
     "text": [
      "0, [1], [1, 0], [], [2]\n",
      "0, [1], [1, 2], [], [0]\n"
     ]
    }
   ],
   "source": [
    "for s in information_set:\n",
    "    print(s.observation_string(1))"
   ]
  }
 ],
 "metadata": {
  "kernelspec": {
   "display_name": "Python [conda env:alpha_one] *",
   "language": "python",
   "name": "conda-env-alpha_one-py"
  },
  "language_info": {
   "codemirror_mode": {
    "name": "ipython",
    "version": 3
   },
   "file_extension": ".py",
   "mimetype": "text/x-python",
   "name": "python",
   "nbconvert_exporter": "python",
   "pygments_lexer": "ipython3",
   "version": "3.8.0"
  }
 },
 "nbformat": 4,
 "nbformat_minor": 5
}
