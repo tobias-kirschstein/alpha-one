{
 "cells": [
  {
   "cell_type": "code",
   "execution_count": null,
   "metadata": {},
   "outputs": [],
   "source": [
    "%cd ..\n",
    "%reload_ext autoreload\n",
    "%autoreload 2"
   ]
  },
  {
   "cell_type": "code",
   "execution_count": null,
   "metadata": {},
   "outputs": [],
   "source": [
    "import pyspiel\n",
    "\n",
    "from alpha_one.game.information_set import InformationSetGenerator\n",
    "from alpha_one.game.dummy import DummyGame\n",
    "from alpha_one.utils.timing import Timing"
   ]
  },
  {
   "cell_type": "markdown",
   "metadata": {},
   "source": [
    "# 1. Setup Game"
   ]
  },
  {
   "cell_type": "code",
   "execution_count": null,
   "metadata": {},
   "outputs": [],
   "source": [
    "game = DummyGame()\n",
    "#game = pyspiel.load_game('battleship', {'board_width': pyspiel.GameParameter(5), 'board_height': pyspiel.GameParameter(5), 'ship_sizes': pyspiel.GameParameter('[2;3]'), 'ship_values': pyspiel.GameParameter('[1.0;1.0]')})\n",
    "#game = pyspiel.load_game('universal_poker', {'numRanks': pyspiel.GameParameter(13), 'numRounds': pyspiel.GameParameter(4), 'numHoleCards': pyspiel.GameParameter(2), 'numBoardCards': pyspiel.GameParameter(\"0 3 1 1\")})\n",
    "state = game.new_initial_state()\n",
    "information_set_generator = InformationSetGenerator(game)"
   ]
  },
  {
   "cell_type": "markdown",
   "metadata": {},
   "source": [
    "# 2. Play some actions"
   ]
  },
  {
   "cell_type": "code",
   "execution_count": null,
   "metadata": {},
   "outputs": [],
   "source": [
    "print(state.current_player())\n",
    "print(state.legal_actions())\n",
    "#print([game.action_to_string(state.current_player(), action) for action in state.legal_actions()])\n",
    "if state.current_player() >= 0:\n",
    "    print(state.observation_string(state.current_player()))"
   ]
  },
  {
   "cell_type": "code",
   "execution_count": null,
   "metadata": {},
   "outputs": [],
   "source": [
    "action = 0\n",
    "information_set_generator.register_action(action)\n",
    "state.apply_action(action)\n",
    "information_set_generator.register_observation(state)\n",
    "print(f\"Player 1 Information Set size: {len(information_set_generator.calculate_information_set(0))}\")\n",
    "print(f\"Player 2 Information Set size: {len(information_set_generator.calculate_information_set(1))}\")"
   ]
  },
  {
   "cell_type": "code",
   "execution_count": null,
   "metadata": {},
   "outputs": [],
   "source": [
    "state.returns()"
   ]
  },
  {
   "cell_type": "markdown",
   "metadata": {},
   "source": [
    "# 3. Investigate Information Set"
   ]
  },
  {
   "cell_type": "code",
   "execution_count": null,
   "metadata": {},
   "outputs": [],
   "source": [
    "information_set_generator.calculate_information_set(0)[0].observation_tensor(0)"
   ]
  },
  {
   "cell_type": "code",
   "execution_count": null,
   "metadata": {},
   "outputs": [],
   "source": [
    "state.observation_string(1)"
   ]
  },
  {
   "cell_type": "code",
   "execution_count": null,
   "metadata": {},
   "outputs": [],
   "source": [
    "information_set_generator.observation_history"
   ]
  },
  {
   "cell_type": "code",
   "execution_count": null,
   "metadata": {},
   "outputs": [],
   "source": [
    "information_set_generator.action_history"
   ]
  },
  {
   "cell_type": "code",
   "execution_count": null,
   "metadata": {},
   "outputs": [],
   "source": [
    "information_set = information_set_generator.calculate_information_set(1)\n",
    "print(len(information_set))"
   ]
  },
  {
   "cell_type": "code",
   "execution_count": null,
   "metadata": {},
   "outputs": [],
   "source": [
    "for s in information_set:\n",
    "    print(s.observation_string(0))"
   ]
  }
 ],
 "metadata": {
  "kernelspec": {
   "display_name": "Python 3",
   "language": "python",
   "name": "python3"
  },
  "language_info": {
   "codemirror_mode": {
    "name": "ipython",
    "version": 3
   },
   "file_extension": ".py",
   "mimetype": "text/x-python",
   "name": "python",
   "nbconvert_exporter": "python",
   "pygments_lexer": "ipython3",
   "version": "3.8.5"
  }
 },
 "nbformat": 4,
 "nbformat_minor": 5
}
