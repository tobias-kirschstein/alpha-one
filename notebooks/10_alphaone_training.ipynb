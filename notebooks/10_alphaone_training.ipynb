{
 "cells": [
  {
   "cell_type": "code",
   "execution_count": 1,
   "metadata": {},
   "outputs": [
    {
     "name": "stdout",
     "output_type": "stream",
     "text": [
      "/Users/anantabhattarai/Documents/TUM/ADLR/tum-adlr-ws20-9\n"
     ]
    }
   ],
   "source": [
    "%cd ..\n",
    "%reload_ext autoreload\n",
    "%autoreload 2"
   ]
  },
  {
   "cell_type": "markdown",
   "metadata": {},
   "source": [
    "# Import Libraries"
   ]
  },
  {
   "cell_type": "code",
   "execution_count": 2,
   "metadata": {},
   "outputs": [],
   "source": [
    "from alpha_one.game.information_set import InformationSetGenerator\n",
    "import numpy as np\n",
    "import pyspiel\n",
    "\n",
    "from open_spiel.python.algorithms import mcts\n",
    "from open_spiel.python.algorithms.alpha_zero import evaluator as evaluator_lib\n",
    "from open_spiel.python.algorithms.alpha_zero import model as model_lib\n",
    "from open_spiel.python.algorithms.mcts import SearchNode\n",
    "\n",
    "from alpha_one.alg.imperfect_information import AlphaOneImperfectInformationMCTSEvaluator\n",
    "from alpha_one.alg.imperfect_information import DeterminizedMCTSEvaluator\n",
    "from alpha_one.alg.mcts import ImperfectInformationMCTSBot\n",
    "\n",
    "from alpha_one.utils.statemask import get_state_mask\n",
    "from open_spiel.python.algorithms import get_all_states\n",
    "\n",
    "\n",
    "from alpha_one.game import trajectory\n",
    "from alpha_one.game import buffer"
   ]
  },
  {
   "cell_type": "markdown",
   "metadata": {},
   "source": [
    "# Load game and define hyperparameters"
   ]
  },
  {
   "cell_type": "code",
   "execution_count": 3,
   "metadata": {},
   "outputs": [],
   "source": [
    "uct_c = 3                                     \n",
    "max_simulations = 100   \n",
    "verbose = False\n",
    "policy_epsilon = 0.25                             \n",
    "policy_alpha = 1\n",
    "temperature_drop = 20\n",
    "temperature = 0.5"
   ]
  },
  {
   "cell_type": "code",
   "execution_count": 4,
   "metadata": {},
   "outputs": [],
   "source": [
    "# state_to_value maps each possible state in the game to the value\n",
    "# for eg: intial state can be mapped as 1 and final state can be mapped as 53\n",
    "\n",
    "game_name = \"leduc_poker\"\n",
    "game = pyspiel.load_game(game_name)\n",
    "states = get_all_states.get_all_states(game)\n",
    "state_to_value = {}\n",
    "a = 0\n",
    "for key, values in states.items():\n",
    "    state_to_value[values.__str__()] = a\n",
    "    a += 1"
   ]
  },
  {
   "cell_type": "markdown",
   "metadata": {},
   "source": [
    "# Initialize Neural Network Model"
   ]
  },
  {
   "cell_type": "code",
   "execution_count": null,
   "metadata": {},
   "outputs": [],
   "source": [
    "model_saves_path = '../model_saves/kuhn_poker/obs_node_model'\n",
    "nn_width = 50\n",
    "nn_depth = 5\n",
    "learning_rate = 0.001\n",
    "weight_decay = 0.0001\n",
    "\n",
    "model_type = 'mlp'\n",
    "    \n",
    "obs_model = model_lib.Model.build_model(\n",
    "                              model_type, len(state_to_value), len(state_to_value),\n",
    "                              nn_width=nn_width, nn_depth=nn_depth, \n",
    "                              weight_decay=weight_decay, \n",
    "                              learning_rate=learning_rate, \n",
    "                              path=model_saves_path)"
   ]
  },
  {
   "cell_type": "code",
   "execution_count": null,
   "metadata": {},
   "outputs": [],
   "source": [
    "model_saves_path = '../model_saves/kuhn_poker/game_node_model'\n",
    "nn_width = 50\n",
    "nn_depth = 5\n",
    "learning_rate = 0.001\n",
    "weight_decay = 0.0001\n",
    "\n",
    "model_type = 'mlp'\n",
    "\n",
    "print(game.num_distinct_actions())\n",
    "    \n",
    "game_model = model_lib.Model.build_model(\n",
    "                              model_type, game.observation_tensor_shape(), game.num_distinct_actions(),\n",
    "                              nn_width=nn_width, nn_depth=nn_depth, \n",
    "                              weight_decay=weight_decay, \n",
    "                              learning_rate=learning_rate, \n",
    "                              path=model_saves_path)"
   ]
  },
  {
   "cell_type": "markdown",
   "metadata": {},
   "source": [
    "# Define Required Functions"
   ]
  },
  {
   "cell_type": "code",
   "execution_count": null,
   "metadata": {},
   "outputs": [],
   "source": [
    "evaluator = AlphaOneImperfectInformationMCTSEvaluator(state_to_value, obs_model, game_model)"
   ]
  },
  {
   "cell_type": "code",
   "execution_count": null,
   "metadata": {},
   "outputs": [],
   "source": [
    "# get policy and value at the observation node\n",
    "def get_policy_value_obs_node(root, state_mask, index_track):\n",
    "    \n",
    "    # state_mask and state_masked_policy are used while training NN\n",
    "\n",
    "    policy = np.zeros(len(root.children))\n",
    "    for c in root.children:\n",
    "        #policy[c.action] = c.explore_count\n",
    "        if c.explore_count == 0:\n",
    "            policy[c.action] += c.total_reward\n",
    "        else:\n",
    "            policy[c.action] += c.total_reward / c.explore_count\n",
    "    \n",
    "    policy = (policy - policy.min()) / (policy.max() - policy.min())\n",
    "    policy /= policy.sum()\n",
    "\n",
    "    state_masked_policy = np.zeros(len(state_mask))\n",
    "    \n",
    "    for i in range(len(index_track)):\n",
    "        state_masked_policy[index_track] = policy[i]\n",
    "        \n",
    "    return state_masked_policy, policy"
   ]
  },
  {
   "cell_type": "code",
   "execution_count": null,
   "metadata": {},
   "outputs": [],
   "source": [
    "# get policy and value at the game node after guessing the state\n",
    "def get_policy_value_game_node(root, guess_state):\n",
    "    \n",
    "    game_name = \"leduc_poker\"\n",
    "    game_temp = pyspiel.load_game(game_name)\n",
    "    policy = np.zeros(game_temp.num_distinct_actions())\n",
    "    \n",
    "    for c in root.children[guess_state].children:\n",
    "        #policy[c.action] = c.explore_count\n",
    "        if c.explore_count == 0:\n",
    "            policy[c.action] += c.total_reward\n",
    "        else:\n",
    "            policy[c.action] += c.total_reward / c.explore_count\n",
    "    \n",
    "    policy = (policy - policy.min()) / (policy.max() - policy.min())\n",
    "    policy /= policy.sum()\n",
    "    \n",
    "    return policy"
   ]
  },
  {
   "cell_type": "code",
   "execution_count": null,
   "metadata": {},
   "outputs": [],
   "source": [
    "def ii_mcts_agent(information_set_generator, state_to_value, ii_mcts_bot):\n",
    "    root, _ = ii_mcts_bot.mcts_search(information_set_generator)\n",
    "    \n",
    "    information_set = information_set_generator.calculate_information_set()\n",
    "    \n",
    "    state_mask, index_track = get_state_mask(state_to_value, information_set)\n",
    "    \n",
    "    state_masked_policy, state_policy = get_policy_value_obs_node(root, state_mask, index_track)\n",
    "    \n",
    "    guess_state = np.argmax(state_policy)\n",
    "    \n",
    "    game_node_policy = get_policy_value_game_node(root, guess_state)\n",
    "\n",
    "    return state_masked_policy, game_node_policy, information_set[guess_state], state_mask"
   ]
  },
  {
   "cell_type": "code",
   "execution_count": null,
   "metadata": {},
   "outputs": [],
   "source": [
    "def play_one_game():\n",
    "    \n",
    "    # trajectory of the observation nodes for training NN\n",
    "    trajectory_obs = trajectory.GameTrajectory()\n",
    "    \n",
    "    # trajectory of the game nodes for training NN\n",
    "    trajectory_game = trajectory.GameTrajectory()\n",
    "    \n",
    "    actions = []\n",
    "    \n",
    "    \n",
    "    state = game.new_initial_state()\n",
    "    information_set_generator = InformationSetGenerator(game)\n",
    "    \n",
    "    ii_mcts_bot = ImperfectInformationMCTSBot(game,\n",
    "                                            uct_c,\n",
    "                                                  max_simulations,\n",
    "                                                  evaluator,\n",
    "                                                  False,\n",
    "                                                  child_selection_fn=SearchNode.puct_value)\n",
    "    while not state.is_terminal():\n",
    "        \n",
    "        if state.current_player() < 0:\n",
    "            action = np.random.choice(state.legal_actions())\n",
    "\n",
    "            information_set_generator.register_action(action)\n",
    "            state.apply_action(action)\n",
    "            information_set_generator.register_observation(state)\n",
    "            \n",
    "            \n",
    "        else:\n",
    "            \n",
    "            #observations = information_set_generator._get_observation(state, state.current_player())\n",
    "            \n",
    "            state_masked_policy, game_node_policy, guess_state, state_mask = ii_mcts_agent(\n",
    "                                                                     information_set_generator, \n",
    "                                                                     state_to_value, \n",
    "                                                                     ii_mcts_bot)\n",
    "            \n",
    "            #if len(actions) > temperature_drop:\n",
    "            #    action = np.argmax(game_node_policy)\n",
    "            #else:\n",
    "            action = np.random.choice(len(game_node_policy), p=game_node_policy)\n",
    "            \n",
    "            actions.append(action)\n",
    "            \n",
    "            trajectory_obs.states.append(trajectory.TrajectoryState(state_mask, \n",
    "                                                                    state.current_player(), \n",
    "                                                                    state_mask, \n",
    "                                                                    action,\n",
    "                                                                    state_masked_policy))\n",
    "                                         \n",
    "            trajectory_game.states.append(trajectory.TrajectoryState(guess_state.observation_tensor(), \n",
    "                                                                    state.current_player(), \n",
    "                                                                    state.legal_actions_mask(), \n",
    "                                                                    action,\n",
    "                                                                    game_node_policy))\n",
    "            \n",
    "            \n",
    "            information_set_generator.register_action(action)\n",
    "            state.apply_action(action)\n",
    "            information_set_generator.register_observation(state)\n",
    "            \n",
    "            \n",
    "    trajectory_obs.returns = state.returns()\n",
    "    trajectory_game.returns = state.returns()\n",
    "    return trajectory_obs, trajectory_game"
   ]
  },
  {
   "cell_type": "code",
   "execution_count": null,
   "metadata": {},
   "outputs": [],
   "source": [
    "def collect_trajectories(replay_buffer_obs, replay_buffer_game):\n",
    "    \n",
    "    for j in range(30):\n",
    "        trajectory_obs, trajectory_game = play_one_game()\n",
    "        \n",
    "        p1_outcome = trajectory_obs.returns[0]\n",
    "        \n",
    "        \n",
    "        replay_buffer_obs.extend(model_lib.TrainInput(s.observation, s.legals_mask, s.policy, p1_outcome) \n",
    "                             for s in trajectory_obs.states)\n",
    "        \n",
    "        replay_buffer_game.extend(model_lib.TrainInput(s.observation, s.legals_mask, s.policy, p1_outcome) \n",
    "                             for s in trajectory_game.states)"
   ]
  },
  {
   "cell_type": "code",
   "execution_count": null,
   "metadata": {},
   "outputs": [],
   "source": [
    "replay_buffer_obs = buffer.ReplayBuffer(100)\n",
    "replay_buffer_game = buffer.ReplayBuffer(100)"
   ]
  },
  {
   "cell_type": "markdown",
   "metadata": {},
   "source": [
    "# Train AlphaOne"
   ]
  },
  {
   "cell_type": "code",
   "execution_count": null,
   "metadata": {},
   "outputs": [],
   "source": [
    "for i in range(11):\n",
    "    losses_obs = []\n",
    "    losses_game = []\n",
    "    \n",
    "    collect_trajectories(replay_buffer_obs, replay_buffer_game)\n",
    "    \n",
    "    for _ in range(100 // 20):\n",
    "        data_obs = replay_buffer_obs.sample(20)\n",
    "        data_game = replay_buffer_game.sample(20)\n",
    "        \n",
    "        \n",
    "        losses_obs.append(obs_model.update(data_obs))\n",
    "        losses_game.append(game_model.update(data_game))\n",
    "        \n",
    "    losses = sum(losses_obs, model_lib.Losses(0, 0, 0)) / len(losses_obs)\n",
    "        \n",
    "    print(f\"Loss at iteration {i} of observation model: {losses}\")\n",
    "        \n",
    "    losses = sum(losses_game, model_lib.Losses(0, 0, 0)) / len(losses_game)\n",
    "        \n",
    "    print(f\"Loss at iteration {i} of game model: {losses}\")\n",
    "    \n",
    "    print(\"\")"
   ]
  },
  {
   "cell_type": "markdown",
   "metadata": {},
   "source": [
    "# Train Determinized MCTS"
   ]
  },
  {
   "cell_type": "code",
   "execution_count": 5,
   "metadata": {},
   "outputs": [
    {
     "name": "stdout",
     "output_type": "stream",
     "text": [
      "3\n",
      "WARNING:tensorflow:From /Users/anantabhattarai/opt/anaconda3/envs/adlr/lib/python3.8/site-packages/tensorflow/python/ops/resource_variable_ops.py:1659: calling BaseResourceVariable.__init__ (from tensorflow.python.ops.resource_variable_ops) with constraint is deprecated and will be removed in a future version.\n",
      "Instructions for updating:\n",
      "If using Keras pass *_constraint arguments to layers.\n"
     ]
    }
   ],
   "source": [
    "model_saves_path = '../model_saves/kuhn_poker/determinized_model'\n",
    "nn_width = 50\n",
    "nn_depth = 5\n",
    "learning_rate = 0.001\n",
    "weight_decay = 0.0001\n",
    "\n",
    "model_type = 'mlp'\n",
    "\n",
    "print(game.num_distinct_actions())\n",
    "    \n",
    "determinized_model = model_lib.Model.build_model(\n",
    "                              model_type, game.observation_tensor_shape(), game.num_distinct_actions(),\n",
    "                              nn_width=nn_width, nn_depth=nn_depth, \n",
    "                              weight_decay=weight_decay, \n",
    "                              learning_rate=learning_rate, \n",
    "                              path=model_saves_path)"
   ]
  },
  {
   "cell_type": "code",
   "execution_count": 6,
   "metadata": {},
   "outputs": [],
   "source": [
    "def initialize_bot(game, uct_c, max_simulations, policy_epsilon, policy_alpha):\n",
    "    \n",
    "    if policy_epsilon == None or policy_alpha == None:\n",
    "        noise = None\n",
    "    else:\n",
    "        noise = (policy_epsilon, policy_alpha)\n",
    "    \n",
    "    _evaluator = DeterminizedMCTSEvaluator(determinized_model)\n",
    "\n",
    "    bot = mcts.MCTSBot(\n",
    "          game,\n",
    "          uct_c,\n",
    "          max_simulations,\n",
    "          _evaluator,\n",
    "          solve=False,\n",
    "          dirichlet_noise=noise,\n",
    "          child_selection_fn=mcts.SearchNode.puct_value,\n",
    "          verbose=False)\n",
    "    \n",
    "    return bot"
   ]
  },
  {
   "cell_type": "code",
   "execution_count": 7,
   "metadata": {},
   "outputs": [],
   "source": [
    "def mcts_agent(state, information_set_generator):\n",
    "    current_player = state.current_player()\n",
    "    information_set = information_set_generator.calculate_information_set(current_player)\n",
    "    policy = np.zeros(game.num_distinct_actions())\n",
    "\n",
    "    # Evaluate each state in the information set by MCTS independently.\n",
    "    # After the searches are completed, the numbers of visits for each action from the root \n",
    "    # are summed across all trees, \n",
    "    # and an action is chosen that maximises the total number of visits.\n",
    "    for s in information_set:\n",
    "        bot = initialize_bot(game, uct_c, max_simulations, policy_epsilon, policy_alpha)\n",
    "        root = bot.mcts_search(s)\n",
    "        if verbose:\n",
    "            print_game_tree(root)\n",
    "        for c in root.children:\n",
    "            #policy[c.action] += c.explore_count\n",
    "            #if c.explore_count == 0:\n",
    "            #    policy[c.action] += c.total_reward\n",
    "            #else:\n",
    "            policy[c.action] += c.explore_count\n",
    "    if temperature != 0:\n",
    "        policy = policy ** (1 / temperature)\n",
    "    policy /= policy.sum()\n",
    "    return policy"
   ]
  },
  {
   "cell_type": "code",
   "execution_count": 8,
   "metadata": {},
   "outputs": [],
   "source": [
    "def play_one_game_determinized_MCTS():\n",
    "\n",
    "    trajectory_game = trajectory.GameTrajectory()\n",
    "    \n",
    "    actions = []\n",
    "    \n",
    "    state = game.new_initial_state()\n",
    "    information_set_generator = InformationSetGenerator(game)\n",
    "    \n",
    "    while not state.is_terminal():\n",
    "        \n",
    "        if state.current_player() < 0:\n",
    "            action = np.random.choice(state.legal_actions())\n",
    "\n",
    "            information_set_generator.register_action(action)\n",
    "            state.apply_action(action)\n",
    "            information_set_generator.register_observation(state)\n",
    "            \n",
    "            \n",
    "        else:\n",
    "            \n",
    "            policy = mcts_agent(state, information_set_generator)\n",
    "            \n",
    "            if temperature_drop == None:\n",
    "                action = np.argmax(policy)\n",
    "            elif len(actions) < temperature_drop:\n",
    "                action = np.random.choice(len(policy), p=policy)\n",
    "            else:\n",
    "                action = np.argmax(policy)\n",
    "            \n",
    "            actions.append(action)\n",
    "            \n",
    "            trajectory_game.states.append(trajectory.TrajectoryState(state.observation_tensor(), \n",
    "                                                                    state.current_player(), \n",
    "                                                                    state.legal_actions_mask(), \n",
    "                                                                    action,\n",
    "                                                                    policy))\n",
    "            \n",
    "            \n",
    "            information_set_generator.register_action(action)\n",
    "            state.apply_action(action)\n",
    "            information_set_generator.register_observation(state)\n",
    "            \n",
    "            \n",
    "    trajectory_game.returns = state.returns()\n",
    "    return trajectory_game\n",
    "    "
   ]
  },
  {
   "cell_type": "code",
   "execution_count": 9,
   "metadata": {},
   "outputs": [],
   "source": [
    "def collect_trajectories(replay_buffer):\n",
    "    \n",
    "    for j in range(30):\n",
    "        trajectory_game = play_one_game_determinized_MCTS()\n",
    "        \n",
    "        p1_outcome = trajectory_game.returns[0]\n",
    "        \n",
    "        \n",
    "        replay_buffer.extend(model_lib.TrainInput(s.observation, s.legals_mask, s.policy, p1_outcome) \n",
    "                             for s in trajectory_game.states)"
   ]
  },
  {
   "cell_type": "code",
   "execution_count": 10,
   "metadata": {},
   "outputs": [],
   "source": [
    "replay_buffer = buffer.ReplayBuffer(100)"
   ]
  },
  {
   "cell_type": "code",
   "execution_count": 11,
   "metadata": {},
   "outputs": [
    {
     "name": "stdout",
     "output_type": "stream",
     "text": [
      "Loss at iteration 0 of determinized model: Losses(total: 27.671, policy: 0.779, value: 26.876, l2: 0.016)\n",
      "\n",
      "Loss at iteration 1 of determinized model: Losses(total: 29.054, policy: 0.693, value: 28.346, l2: 0.016)\n",
      "\n"
     ]
    },
    {
     "ename": "KeyboardInterrupt",
     "evalue": "",
     "output_type": "error",
     "traceback": [
      "\u001b[0;31m---------------------------------------------------------------------------\u001b[0m",
      "\u001b[0;31mKeyboardInterrupt\u001b[0m                         Traceback (most recent call last)",
      "\u001b[0;32m<ipython-input-11-627dd5eef71f>\u001b[0m in \u001b[0;36m<module>\u001b[0;34m\u001b[0m\n\u001b[1;32m      2\u001b[0m     \u001b[0mlosses\u001b[0m \u001b[0;34m=\u001b[0m \u001b[0;34m[\u001b[0m\u001b[0;34m]\u001b[0m\u001b[0;34m\u001b[0m\u001b[0;34m\u001b[0m\u001b[0m\n\u001b[1;32m      3\u001b[0m \u001b[0;34m\u001b[0m\u001b[0m\n\u001b[0;32m----> 4\u001b[0;31m     \u001b[0mcollect_trajectories\u001b[0m\u001b[0;34m(\u001b[0m\u001b[0mreplay_buffer\u001b[0m\u001b[0;34m)\u001b[0m\u001b[0;34m\u001b[0m\u001b[0;34m\u001b[0m\u001b[0m\n\u001b[0m\u001b[1;32m      5\u001b[0m \u001b[0;34m\u001b[0m\u001b[0m\n\u001b[1;32m      6\u001b[0m     \u001b[0;32mfor\u001b[0m \u001b[0m_\u001b[0m \u001b[0;32min\u001b[0m \u001b[0mrange\u001b[0m\u001b[0;34m(\u001b[0m\u001b[0;36m100\u001b[0m \u001b[0;34m//\u001b[0m \u001b[0;36m20\u001b[0m\u001b[0;34m)\u001b[0m\u001b[0;34m:\u001b[0m\u001b[0;34m\u001b[0m\u001b[0;34m\u001b[0m\u001b[0m\n",
      "\u001b[0;32m<ipython-input-9-e15dcb7b985c>\u001b[0m in \u001b[0;36mcollect_trajectories\u001b[0;34m(replay_buffer)\u001b[0m\n\u001b[1;32m      2\u001b[0m \u001b[0;34m\u001b[0m\u001b[0m\n\u001b[1;32m      3\u001b[0m     \u001b[0;32mfor\u001b[0m \u001b[0mj\u001b[0m \u001b[0;32min\u001b[0m \u001b[0mrange\u001b[0m\u001b[0;34m(\u001b[0m\u001b[0;36m30\u001b[0m\u001b[0;34m)\u001b[0m\u001b[0;34m:\u001b[0m\u001b[0;34m\u001b[0m\u001b[0;34m\u001b[0m\u001b[0m\n\u001b[0;32m----> 4\u001b[0;31m         \u001b[0mtrajectory_game\u001b[0m \u001b[0;34m=\u001b[0m \u001b[0mplay_one_game_determinized_MCTS\u001b[0m\u001b[0;34m(\u001b[0m\u001b[0;34m)\u001b[0m\u001b[0;34m\u001b[0m\u001b[0;34m\u001b[0m\u001b[0m\n\u001b[0m\u001b[1;32m      5\u001b[0m \u001b[0;34m\u001b[0m\u001b[0m\n\u001b[1;32m      6\u001b[0m         \u001b[0mp1_outcome\u001b[0m \u001b[0;34m=\u001b[0m \u001b[0mtrajectory_game\u001b[0m\u001b[0;34m.\u001b[0m\u001b[0mreturns\u001b[0m\u001b[0;34m[\u001b[0m\u001b[0;36m0\u001b[0m\u001b[0;34m]\u001b[0m\u001b[0;34m\u001b[0m\u001b[0;34m\u001b[0m\u001b[0m\n",
      "\u001b[0;32m<ipython-input-8-cd79da2604b7>\u001b[0m in \u001b[0;36mplay_one_game_determinized_MCTS\u001b[0;34m()\u001b[0m\n\u001b[1;32m     21\u001b[0m         \u001b[0;32melse\u001b[0m\u001b[0;34m:\u001b[0m\u001b[0;34m\u001b[0m\u001b[0;34m\u001b[0m\u001b[0m\n\u001b[1;32m     22\u001b[0m \u001b[0;34m\u001b[0m\u001b[0m\n\u001b[0;32m---> 23\u001b[0;31m             \u001b[0mpolicy\u001b[0m \u001b[0;34m=\u001b[0m \u001b[0mmcts_agent\u001b[0m\u001b[0;34m(\u001b[0m\u001b[0mstate\u001b[0m\u001b[0;34m,\u001b[0m \u001b[0minformation_set_generator\u001b[0m\u001b[0;34m)\u001b[0m\u001b[0;34m\u001b[0m\u001b[0;34m\u001b[0m\u001b[0m\n\u001b[0m\u001b[1;32m     24\u001b[0m \u001b[0;34m\u001b[0m\u001b[0m\n\u001b[1;32m     25\u001b[0m             \u001b[0;32mif\u001b[0m \u001b[0mtemperature_drop\u001b[0m \u001b[0;34m==\u001b[0m \u001b[0;32mNone\u001b[0m\u001b[0;34m:\u001b[0m\u001b[0;34m\u001b[0m\u001b[0;34m\u001b[0m\u001b[0m\n",
      "\u001b[0;32m<ipython-input-7-1c6d412d062e>\u001b[0m in \u001b[0;36mmcts_agent\u001b[0;34m(state, information_set_generator)\u001b[0m\n\u001b[1;32m     12\u001b[0m     \u001b[0;32mfor\u001b[0m \u001b[0ms\u001b[0m \u001b[0;32min\u001b[0m \u001b[0minformation_set\u001b[0m\u001b[0;34m:\u001b[0m\u001b[0;34m\u001b[0m\u001b[0;34m\u001b[0m\u001b[0m\n\u001b[1;32m     13\u001b[0m         \u001b[0mbot\u001b[0m \u001b[0;34m=\u001b[0m \u001b[0minitialize_bot\u001b[0m\u001b[0;34m(\u001b[0m\u001b[0mgame\u001b[0m\u001b[0;34m,\u001b[0m \u001b[0muct_c\u001b[0m\u001b[0;34m,\u001b[0m \u001b[0mmax_simulations\u001b[0m\u001b[0;34m,\u001b[0m \u001b[0mpolicy_epsilon\u001b[0m\u001b[0;34m,\u001b[0m \u001b[0mpolicy_alpha\u001b[0m\u001b[0;34m)\u001b[0m\u001b[0;34m\u001b[0m\u001b[0;34m\u001b[0m\u001b[0m\n\u001b[0;32m---> 14\u001b[0;31m         \u001b[0mroot\u001b[0m \u001b[0;34m=\u001b[0m \u001b[0mbot\u001b[0m\u001b[0;34m.\u001b[0m\u001b[0mmcts_search\u001b[0m\u001b[0;34m(\u001b[0m\u001b[0ms\u001b[0m\u001b[0;34m)\u001b[0m\u001b[0;34m\u001b[0m\u001b[0;34m\u001b[0m\u001b[0m\n\u001b[0m\u001b[1;32m     15\u001b[0m         \u001b[0;32mif\u001b[0m \u001b[0mverbose\u001b[0m\u001b[0;34m:\u001b[0m\u001b[0;34m\u001b[0m\u001b[0;34m\u001b[0m\u001b[0m\n\u001b[1;32m     16\u001b[0m             \u001b[0mprint_game_tree\u001b[0m\u001b[0;34m(\u001b[0m\u001b[0mroot\u001b[0m\u001b[0;34m)\u001b[0m\u001b[0;34m\u001b[0m\u001b[0;34m\u001b[0m\u001b[0m\n",
      "\u001b[0;32m~/Documents/TUM/ADLR/open_spiel/open_spiel/python/algorithms/mcts.py\u001b[0m in \u001b[0;36mmcts_search\u001b[0;34m(self, state)\u001b[0m\n\u001b[1;32m    397\u001b[0m     \u001b[0mroot\u001b[0m \u001b[0;34m=\u001b[0m \u001b[0mSearchNode\u001b[0m\u001b[0;34m(\u001b[0m\u001b[0;32mNone\u001b[0m\u001b[0;34m,\u001b[0m \u001b[0mstate\u001b[0m\u001b[0;34m.\u001b[0m\u001b[0mcurrent_player\u001b[0m\u001b[0;34m(\u001b[0m\u001b[0;34m)\u001b[0m\u001b[0;34m,\u001b[0m \u001b[0;36m1\u001b[0m\u001b[0;34m)\u001b[0m\u001b[0;34m\u001b[0m\u001b[0;34m\u001b[0m\u001b[0m\n\u001b[1;32m    398\u001b[0m     \u001b[0;32mfor\u001b[0m \u001b[0m_\u001b[0m \u001b[0;32min\u001b[0m \u001b[0mrange\u001b[0m\u001b[0;34m(\u001b[0m\u001b[0mself\u001b[0m\u001b[0;34m.\u001b[0m\u001b[0mmax_simulations\u001b[0m\u001b[0;34m)\u001b[0m\u001b[0;34m:\u001b[0m\u001b[0;34m\u001b[0m\u001b[0;34m\u001b[0m\u001b[0m\n\u001b[0;32m--> 399\u001b[0;31m       \u001b[0mvisit_path\u001b[0m\u001b[0;34m,\u001b[0m \u001b[0mworking_state\u001b[0m \u001b[0;34m=\u001b[0m \u001b[0mself\u001b[0m\u001b[0;34m.\u001b[0m\u001b[0m_apply_tree_policy\u001b[0m\u001b[0;34m(\u001b[0m\u001b[0mroot\u001b[0m\u001b[0;34m,\u001b[0m \u001b[0mstate\u001b[0m\u001b[0;34m)\u001b[0m\u001b[0;34m\u001b[0m\u001b[0;34m\u001b[0m\u001b[0m\n\u001b[0m\u001b[1;32m    400\u001b[0m       \u001b[0;32mif\u001b[0m \u001b[0mworking_state\u001b[0m\u001b[0;34m.\u001b[0m\u001b[0mis_terminal\u001b[0m\u001b[0;34m(\u001b[0m\u001b[0;34m)\u001b[0m\u001b[0;34m:\u001b[0m\u001b[0;34m\u001b[0m\u001b[0;34m\u001b[0m\u001b[0m\n\u001b[1;32m    401\u001b[0m         \u001b[0mreturns\u001b[0m \u001b[0;34m=\u001b[0m \u001b[0mworking_state\u001b[0m\u001b[0;34m.\u001b[0m\u001b[0mreturns\u001b[0m\u001b[0;34m(\u001b[0m\u001b[0;34m)\u001b[0m\u001b[0;34m\u001b[0m\u001b[0;34m\u001b[0m\u001b[0m\n",
      "\u001b[0;32m~/Documents/TUM/ADLR/open_spiel/open_spiel/python/algorithms/mcts.py\u001b[0m in \u001b[0;36m_apply_tree_policy\u001b[0;34m(self, root, state)\u001b[0m\n\u001b[1;32m    311\u001b[0m       \u001b[0;32mif\u001b[0m \u001b[0;32mnot\u001b[0m \u001b[0mcurrent_node\u001b[0m\u001b[0;34m.\u001b[0m\u001b[0mchildren\u001b[0m\u001b[0;34m:\u001b[0m\u001b[0;34m\u001b[0m\u001b[0;34m\u001b[0m\u001b[0m\n\u001b[1;32m    312\u001b[0m         \u001b[0;31m# For a new node, initialize its state, then choose a child as normal.\u001b[0m\u001b[0;34m\u001b[0m\u001b[0;34m\u001b[0m\u001b[0;34m\u001b[0m\u001b[0m\n\u001b[0;32m--> 313\u001b[0;31m         \u001b[0mlegal_actions\u001b[0m \u001b[0;34m=\u001b[0m \u001b[0mself\u001b[0m\u001b[0;34m.\u001b[0m\u001b[0mevaluator\u001b[0m\u001b[0;34m.\u001b[0m\u001b[0mprior\u001b[0m\u001b[0;34m(\u001b[0m\u001b[0mworking_state\u001b[0m\u001b[0;34m)\u001b[0m\u001b[0;34m\u001b[0m\u001b[0;34m\u001b[0m\u001b[0m\n\u001b[0m\u001b[1;32m    314\u001b[0m         \u001b[0;32mif\u001b[0m \u001b[0mcurrent_node\u001b[0m \u001b[0;32mis\u001b[0m \u001b[0mroot\u001b[0m \u001b[0;32mand\u001b[0m \u001b[0mself\u001b[0m\u001b[0;34m.\u001b[0m\u001b[0m_dirichlet_noise\u001b[0m\u001b[0;34m:\u001b[0m\u001b[0;34m\u001b[0m\u001b[0;34m\u001b[0m\u001b[0m\n\u001b[1;32m    315\u001b[0m           \u001b[0mepsilon\u001b[0m\u001b[0;34m,\u001b[0m \u001b[0malpha\u001b[0m \u001b[0;34m=\u001b[0m \u001b[0mself\u001b[0m\u001b[0;34m.\u001b[0m\u001b[0m_dirichlet_noise\u001b[0m\u001b[0;34m\u001b[0m\u001b[0;34m\u001b[0m\u001b[0m\n",
      "\u001b[0;32m~/Documents/TUM/ADLR/tum-adlr-ws20-9/alpha_one/alg/imperfect_information.py\u001b[0m in \u001b[0;36mprior\u001b[0;34m(self, state)\u001b[0m\n\u001b[1;32m    137\u001b[0m             \u001b[0;32mreturn\u001b[0m \u001b[0mstate\u001b[0m\u001b[0;34m.\u001b[0m\u001b[0mchance_outcomes\u001b[0m\u001b[0;34m(\u001b[0m\u001b[0;34m)\u001b[0m\u001b[0;34m\u001b[0m\u001b[0;34m\u001b[0m\u001b[0m\n\u001b[1;32m    138\u001b[0m \u001b[0;34m\u001b[0m\u001b[0m\n\u001b[0;32m--> 139\u001b[0;31m         \u001b[0mobs\u001b[0m \u001b[0;34m=\u001b[0m \u001b[0mnp\u001b[0m\u001b[0;34m.\u001b[0m\u001b[0mexpand_dims\u001b[0m\u001b[0;34m(\u001b[0m\u001b[0mstate\u001b[0m\u001b[0;34m.\u001b[0m\u001b[0mobservation_tensor\u001b[0m\u001b[0;34m(\u001b[0m\u001b[0;34m)\u001b[0m\u001b[0;34m,\u001b[0m \u001b[0;36m0\u001b[0m\u001b[0;34m)\u001b[0m\u001b[0;34m\u001b[0m\u001b[0;34m\u001b[0m\u001b[0m\n\u001b[0m\u001b[1;32m    140\u001b[0m         \u001b[0mmask\u001b[0m \u001b[0;34m=\u001b[0m \u001b[0mnp\u001b[0m\u001b[0;34m.\u001b[0m\u001b[0mexpand_dims\u001b[0m\u001b[0;34m(\u001b[0m\u001b[0mstate\u001b[0m\u001b[0;34m.\u001b[0m\u001b[0mlegal_actions_mask\u001b[0m\u001b[0;34m(\u001b[0m\u001b[0;34m)\u001b[0m\u001b[0;34m,\u001b[0m \u001b[0;36m0\u001b[0m\u001b[0;34m)\u001b[0m\u001b[0;34m\u001b[0m\u001b[0;34m\u001b[0m\u001b[0m\n\u001b[1;32m    141\u001b[0m \u001b[0;34m\u001b[0m\u001b[0m\n",
      "\u001b[0;32m<__array_function__ internals>\u001b[0m in \u001b[0;36mexpand_dims\u001b[0;34m(*args, **kwargs)\u001b[0m\n",
      "\u001b[0;32m~/opt/anaconda3/envs/adlr/lib/python3.8/site-packages/numpy/lib/shape_base.py\u001b[0m in \u001b[0;36mexpand_dims\u001b[0;34m(a, axis)\u001b[0m\n\u001b[1;32m    595\u001b[0m \u001b[0;34m\u001b[0m\u001b[0m\n\u001b[1;32m    596\u001b[0m     \u001b[0mout_ndim\u001b[0m \u001b[0;34m=\u001b[0m \u001b[0mlen\u001b[0m\u001b[0;34m(\u001b[0m\u001b[0maxis\u001b[0m\u001b[0;34m)\u001b[0m \u001b[0;34m+\u001b[0m \u001b[0ma\u001b[0m\u001b[0;34m.\u001b[0m\u001b[0mndim\u001b[0m\u001b[0;34m\u001b[0m\u001b[0;34m\u001b[0m\u001b[0m\n\u001b[0;32m--> 597\u001b[0;31m     \u001b[0maxis\u001b[0m \u001b[0;34m=\u001b[0m \u001b[0mnormalize_axis_tuple\u001b[0m\u001b[0;34m(\u001b[0m\u001b[0maxis\u001b[0m\u001b[0;34m,\u001b[0m \u001b[0mout_ndim\u001b[0m\u001b[0;34m)\u001b[0m\u001b[0;34m\u001b[0m\u001b[0;34m\u001b[0m\u001b[0m\n\u001b[0m\u001b[1;32m    598\u001b[0m \u001b[0;34m\u001b[0m\u001b[0m\n\u001b[1;32m    599\u001b[0m     \u001b[0mshape_it\u001b[0m \u001b[0;34m=\u001b[0m \u001b[0miter\u001b[0m\u001b[0;34m(\u001b[0m\u001b[0ma\u001b[0m\u001b[0;34m.\u001b[0m\u001b[0mshape\u001b[0m\u001b[0;34m)\u001b[0m\u001b[0;34m\u001b[0m\u001b[0;34m\u001b[0m\u001b[0m\n",
      "\u001b[0;32m~/opt/anaconda3/envs/adlr/lib/python3.8/site-packages/numpy/core/numeric.py\u001b[0m in \u001b[0;36mnormalize_axis_tuple\u001b[0;34m(axis, ndim, argname, allow_duplicate)\u001b[0m\n\u001b[1;32m   1325\u001b[0m             \u001b[0;32mpass\u001b[0m\u001b[0;34m\u001b[0m\u001b[0;34m\u001b[0m\u001b[0m\n\u001b[1;32m   1326\u001b[0m     \u001b[0;31m# Going via an iterator directly is slower than via list comprehension.\u001b[0m\u001b[0;34m\u001b[0m\u001b[0;34m\u001b[0m\u001b[0;34m\u001b[0m\u001b[0m\n\u001b[0;32m-> 1327\u001b[0;31m     \u001b[0maxis\u001b[0m \u001b[0;34m=\u001b[0m \u001b[0mtuple\u001b[0m\u001b[0;34m(\u001b[0m\u001b[0;34m[\u001b[0m\u001b[0mnormalize_axis_index\u001b[0m\u001b[0;34m(\u001b[0m\u001b[0max\u001b[0m\u001b[0;34m,\u001b[0m \u001b[0mndim\u001b[0m\u001b[0;34m,\u001b[0m \u001b[0margname\u001b[0m\u001b[0;34m)\u001b[0m \u001b[0;32mfor\u001b[0m \u001b[0max\u001b[0m \u001b[0;32min\u001b[0m \u001b[0maxis\u001b[0m\u001b[0;34m]\u001b[0m\u001b[0;34m)\u001b[0m\u001b[0;34m\u001b[0m\u001b[0;34m\u001b[0m\u001b[0m\n\u001b[0m\u001b[1;32m   1328\u001b[0m     \u001b[0;32mif\u001b[0m \u001b[0;32mnot\u001b[0m \u001b[0mallow_duplicate\u001b[0m \u001b[0;32mand\u001b[0m \u001b[0mlen\u001b[0m\u001b[0;34m(\u001b[0m\u001b[0mset\u001b[0m\u001b[0;34m(\u001b[0m\u001b[0maxis\u001b[0m\u001b[0;34m)\u001b[0m\u001b[0;34m)\u001b[0m \u001b[0;34m!=\u001b[0m \u001b[0mlen\u001b[0m\u001b[0;34m(\u001b[0m\u001b[0maxis\u001b[0m\u001b[0;34m)\u001b[0m\u001b[0;34m:\u001b[0m\u001b[0;34m\u001b[0m\u001b[0;34m\u001b[0m\u001b[0m\n\u001b[1;32m   1329\u001b[0m         \u001b[0;32mif\u001b[0m \u001b[0margname\u001b[0m\u001b[0;34m:\u001b[0m\u001b[0;34m\u001b[0m\u001b[0;34m\u001b[0m\u001b[0m\n",
      "\u001b[0;32m~/opt/anaconda3/envs/adlr/lib/python3.8/site-packages/numpy/core/numeric.py\u001b[0m in \u001b[0;36m<listcomp>\u001b[0;34m(.0)\u001b[0m\n\u001b[1;32m   1325\u001b[0m             \u001b[0;32mpass\u001b[0m\u001b[0;34m\u001b[0m\u001b[0;34m\u001b[0m\u001b[0m\n\u001b[1;32m   1326\u001b[0m     \u001b[0;31m# Going via an iterator directly is slower than via list comprehension.\u001b[0m\u001b[0;34m\u001b[0m\u001b[0;34m\u001b[0m\u001b[0;34m\u001b[0m\u001b[0m\n\u001b[0;32m-> 1327\u001b[0;31m     \u001b[0maxis\u001b[0m \u001b[0;34m=\u001b[0m \u001b[0mtuple\u001b[0m\u001b[0;34m(\u001b[0m\u001b[0;34m[\u001b[0m\u001b[0mnormalize_axis_index\u001b[0m\u001b[0;34m(\u001b[0m\u001b[0max\u001b[0m\u001b[0;34m,\u001b[0m \u001b[0mndim\u001b[0m\u001b[0;34m,\u001b[0m \u001b[0margname\u001b[0m\u001b[0;34m)\u001b[0m \u001b[0;32mfor\u001b[0m \u001b[0max\u001b[0m \u001b[0;32min\u001b[0m \u001b[0maxis\u001b[0m\u001b[0;34m]\u001b[0m\u001b[0;34m)\u001b[0m\u001b[0;34m\u001b[0m\u001b[0;34m\u001b[0m\u001b[0m\n\u001b[0m\u001b[1;32m   1328\u001b[0m     \u001b[0;32mif\u001b[0m \u001b[0;32mnot\u001b[0m \u001b[0mallow_duplicate\u001b[0m \u001b[0;32mand\u001b[0m \u001b[0mlen\u001b[0m\u001b[0;34m(\u001b[0m\u001b[0mset\u001b[0m\u001b[0;34m(\u001b[0m\u001b[0maxis\u001b[0m\u001b[0;34m)\u001b[0m\u001b[0;34m)\u001b[0m \u001b[0;34m!=\u001b[0m \u001b[0mlen\u001b[0m\u001b[0;34m(\u001b[0m\u001b[0maxis\u001b[0m\u001b[0;34m)\u001b[0m\u001b[0;34m:\u001b[0m\u001b[0;34m\u001b[0m\u001b[0;34m\u001b[0m\u001b[0m\n\u001b[1;32m   1329\u001b[0m         \u001b[0;32mif\u001b[0m \u001b[0margname\u001b[0m\u001b[0;34m:\u001b[0m\u001b[0;34m\u001b[0m\u001b[0;34m\u001b[0m\u001b[0m\n",
      "\u001b[0;31mKeyboardInterrupt\u001b[0m: "
     ]
    }
   ],
   "source": [
    "for i in range(15):\n",
    "    losses = []\n",
    "    \n",
    "    collect_trajectories(replay_buffer)\n",
    "    \n",
    "    for _ in range(100 // 20):\n",
    "        data = replay_buffer.sample(20)\n",
    "        \n",
    "        \n",
    "        losses.append(determinized_model.update(data))\n",
    "        \n",
    "    losses = sum(losses, model_lib.Losses(0, 0, 0)) / len(losses)\n",
    "        \n",
    "    print(f\"Loss at iteration {i} of determinized model: {losses}\")\n",
    "    \n",
    "    print(\"\")"
   ]
  },
  {
   "cell_type": "markdown",
   "metadata": {},
   "source": [
    "# Evaluations"
   ]
  },
  {
   "cell_type": "code",
   "execution_count": null,
   "metadata": {},
   "outputs": [],
   "source": [
    "game_returns = []\n",
    "for _ in range(100):\n",
    "    actions = []\n",
    "    state = game.new_initial_state()\n",
    "    information_set_generator = InformationSetGenerator(game)\n",
    "    \n",
    "    ii_mcts_bot = ImperfectInformationMCTSBot(game,\n",
    "                                            uct_c,\n",
    "                                                  max_simulations,\n",
    "                                                  evaluator,\n",
    "                                                  False,\n",
    "                                                  child_selection_fn=SearchNode.puct_value)\n",
    "    \n",
    "    while not state.is_terminal():\n",
    "\n",
    "        # environment state\n",
    "        if state.current_player() < 0:\n",
    "            action = np.random.choice(state.legal_actions())\n",
    "\n",
    "            action_str = state.action_to_string(state.current_player(), action)\n",
    "            actions.append(action_str)\n",
    "\n",
    "            information_set_generator.register_action(action)\n",
    "            state.apply_action(action)\n",
    "            information_set_generator.register_observation(state)\n",
    "\n",
    "        # player 1 as a MCTS bot\n",
    "        elif state.current_player() == 0:\n",
    "            policy = mcts_agent(state, information_set_generator)\n",
    "            action = np.argmax(policy)\n",
    "\n",
    "            action_str = state.action_to_string(state.current_player(), action)\n",
    "            actions.append(action_str)\n",
    "\n",
    "            information_set_generator.register_action(action)\n",
    "            state.apply_action(action)\n",
    "            information_set_generator.register_observation(state)\n",
    "\n",
    "        # player 2 as IIG-MCTS bot\n",
    "        else:\n",
    "            # action = np.random.choice(state.legal_actions())\n",
    "            \n",
    "            state_masked_policy, game_node_policy, guess_state, state_mask = ii_mcts_agent(\n",
    "                                                                     information_set_generator, \n",
    "                                                                     state_to_value, \n",
    "                                                                     ii_mcts_bot)\n",
    "            action = np.argmax(game_node_policy)\n",
    "\n",
    "            action_str = state.action_to_string(state.current_player(), action)\n",
    "            actions.append(action_str)\n",
    "\n",
    "            information_set_generator.register_action(action)\n",
    "            state.apply_action(action)\n",
    "            information_set_generator.register_observation(state)\n",
    "\n",
    "\n",
    "    #print(actions)       \n",
    "    #print(state.returns())\n",
    "    #print()\n",
    "    game_returns.append(state.returns())"
   ]
  },
  {
   "cell_type": "code",
   "execution_count": null,
   "metadata": {},
   "outputs": [],
   "source": [
    "game_returns = np.array(game_returns)\n",
    "print(f\"Average return: {game_returns.mean(axis=0)}\")"
   ]
  },
  {
   "cell_type": "code",
   "execution_count": null,
   "metadata": {},
   "outputs": [],
   "source": []
  }
 ],
 "metadata": {
  "kernelspec": {
   "display_name": "Python 3",
   "language": "python",
   "name": "python3"
  },
  "language_info": {
   "codemirror_mode": {
    "name": "ipython",
    "version": 3
   },
   "file_extension": ".py",
   "mimetype": "text/x-python",
   "name": "python",
   "nbconvert_exporter": "python",
   "pygments_lexer": "ipython3",
   "version": "3.8.5"
  }
 },
 "nbformat": 4,
 "nbformat_minor": 4
}
