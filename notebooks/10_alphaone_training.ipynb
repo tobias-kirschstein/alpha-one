{
 "cells": [
  {
   "cell_type": "code",
   "execution_count": 1,
   "metadata": {},
   "outputs": [
    {
     "name": "stdout",
     "output_type": "stream",
     "text": [
      "/Users/anantabhattarai/Documents/TUM/ADLR/tum-adlr-ws20-9\n"
     ]
    }
   ],
   "source": [
    "%cd ..\n",
    "%reload_ext autoreload\n",
    "%autoreload 2"
   ]
  },
  {
   "cell_type": "markdown",
   "metadata": {},
   "source": [
    "# Import Libraries"
   ]
  },
  {
   "cell_type": "code",
   "execution_count": 2,
   "metadata": {},
   "outputs": [],
   "source": [
    "from alpha_one.game.information_set import InformationSetGenerator\n",
    "import numpy as np\n",
    "import pyspiel\n",
    "\n",
    "from open_spiel.python.algorithms import mcts\n",
    "from open_spiel.python.algorithms.alpha_zero import evaluator as evaluator_lib\n",
    "from open_spiel.python.algorithms.alpha_zero import model as model_lib\n",
    "from open_spiel.python.algorithms.mcts import SearchNode\n",
    "\n",
    "from alpha_one.alg.imperfect_information import AlphaOneImperfectInformationMCTSEvaluator\n",
    "from alpha_one.alg.mcts import ImperfectInformationMCTSBot\n",
    "\n",
    "from alpha_one.utils.statemask import get_state_mask\n",
    "from open_spiel.python.algorithms import get_all_states\n",
    "\n",
    "\n",
    "from alpha_one.game import trajectory\n",
    "from alpha_one.game import buffer"
   ]
  },
  {
   "cell_type": "markdown",
   "metadata": {},
   "source": [
    "# Load game and define hyperparameters"
   ]
  },
  {
   "cell_type": "code",
   "execution_count": 3,
   "metadata": {},
   "outputs": [],
   "source": [
    "uct_c = 3                                     \n",
    "max_simulations = 100   \n",
    "verbose = False\n",
    "policy_epsilon = 0.25                             \n",
    "policy_alpha = 1"
   ]
  },
  {
   "cell_type": "code",
   "execution_count": 4,
   "metadata": {},
   "outputs": [],
   "source": [
    "# state_to_value maps each possible state in the game to the value\n",
    "# for eg: intial state can be mapped as 1 and final state can be mapped as 53\n",
    "\n",
    "game_name = \"kuhn_poker\"\n",
    "game = pyspiel.load_game(game_name)\n",
    "states = get_all_states.get_all_states(game)\n",
    "state_to_value = {}\n",
    "a = 0\n",
    "for key, values in states.items():\n",
    "    state_to_value[values.__str__()] = a\n",
    "    a += 1"
   ]
  },
  {
   "cell_type": "markdown",
   "metadata": {},
   "source": [
    "# Initialize Neural Network Model"
   ]
  },
  {
   "cell_type": "code",
   "execution_count": 5,
   "metadata": {},
   "outputs": [
    {
     "name": "stdout",
     "output_type": "stream",
     "text": [
      "WARNING:tensorflow:From /Users/anantabhattarai/opt/anaconda3/envs/adlr/lib/python3.8/site-packages/tensorflow/python/ops/resource_variable_ops.py:1659: calling BaseResourceVariable.__init__ (from tensorflow.python.ops.resource_variable_ops) with constraint is deprecated and will be removed in a future version.\n",
      "Instructions for updating:\n",
      "If using Keras pass *_constraint arguments to layers.\n"
     ]
    }
   ],
   "source": [
    "model_saves_path = '../model_saves/kuhn_poker/obs_node_model'\n",
    "nn_width = 50\n",
    "nn_depth = 5\n",
    "learning_rate = 0.001\n",
    "weight_decay = 0.0001\n",
    "\n",
    "model_type = 'mlp'\n",
    "    \n",
    "obs_model = model_lib.Model.build_model(\n",
    "                              model_type, game.observation_tensor_shape(), len(state_to_value),\n",
    "                              nn_width=nn_width, nn_depth=nn_depth, \n",
    "                              weight_decay=weight_decay, \n",
    "                              learning_rate=learning_rate, \n",
    "                              path=model_saves_path)"
   ]
  },
  {
   "cell_type": "code",
   "execution_count": 6,
   "metadata": {},
   "outputs": [],
   "source": [
    "model_saves_path = '../model_saves/kuhn_poker/game_node_model'\n",
    "nn_width = 50\n",
    "nn_depth = 5\n",
    "learning_rate = 0.001\n",
    "weight_decay = 0.0001\n",
    "\n",
    "model_type = 'mlp'\n",
    "    \n",
    "game_model = model_lib.Model.build_model(\n",
    "                              model_type, game.observation_tensor_shape(), game.num_distinct_actions(),\n",
    "                              nn_width=nn_width, nn_depth=nn_depth, \n",
    "                              weight_decay=weight_decay, \n",
    "                              learning_rate=learning_rate, \n",
    "                              path=model_saves_path)"
   ]
  },
  {
   "cell_type": "markdown",
   "metadata": {},
   "source": [
    "# Define Required Functions"
   ]
  },
  {
   "cell_type": "code",
   "execution_count": 7,
   "metadata": {},
   "outputs": [],
   "source": [
    "evaluator = AlphaOneImperfectInformationMCTSEvaluator(state_to_value, obs_model, game_model)"
   ]
  },
  {
   "cell_type": "code",
   "execution_count": 8,
   "metadata": {},
   "outputs": [],
   "source": [
    "# get policy and value at the observation node\n",
    "def get_policy_value_obs_node(root, state_mask, index_track):\n",
    "    \n",
    "    # state_mask and state_masked_policy are used while training NN\n",
    "\n",
    "    policy = np.zeros(len(root.children))\n",
    "    for c in root.children:\n",
    "        policy[c.action] = c.explore_count # used explore count because policy can be negative when using rewards\n",
    "\n",
    "    policy /= policy.sum()\n",
    "\n",
    "    state_masked_policy = np.zeros(len(state_mask))\n",
    "    \n",
    "    for i in range(len(index_track)):\n",
    "        state_masked_policy[index_track] = policy[i]\n",
    "        \n",
    "    return state_masked_policy, policy"
   ]
  },
  {
   "cell_type": "code",
   "execution_count": 9,
   "metadata": {},
   "outputs": [],
   "source": [
    "# get policy and value at the game node after guessing the state\n",
    "def get_policy_value_game_node(root, guess_state):\n",
    "    \n",
    "    game_name = \"kuhn_poker\"\n",
    "    game_temp = pyspiel.load_game(game_name)\n",
    "    policy = np.zeros(game_temp.num_distinct_actions())\n",
    "    \n",
    "    for c in root.children[guess_state].children:\n",
    "        policy[c.action] = c.explore_count\n",
    "    \n",
    "    policy /= policy.sum()\n",
    "    \n",
    "    return policy"
   ]
  },
  {
   "cell_type": "code",
   "execution_count": 10,
   "metadata": {},
   "outputs": [],
   "source": [
    "def ii_mcts_agent(information_set_generator, state_to_value, ii_mcts_bot):\n",
    "    root, _ = ii_mcts_bot.mcts_search(information_set_generator)\n",
    "    \n",
    "    information_set = information_set_generator.calculate_information_set()\n",
    "    \n",
    "    state_mask, index_track = get_state_mask(state_to_value, information_set)\n",
    "    \n",
    "    state_masked_policy, state_policy = get_policy_value_obs_node(root, state_mask, index_track)\n",
    "    \n",
    "    guess_state = np.argmax(state_policy)\n",
    "    \n",
    "    game_node_policy = get_policy_value_game_node(root, guess_state)\n",
    "\n",
    "    return state_masked_policy, game_node_policy, information_set[guess_state], state_mask"
   ]
  },
  {
   "cell_type": "code",
   "execution_count": 11,
   "metadata": {},
   "outputs": [],
   "source": [
    "def play_one_game():\n",
    "    \n",
    "    # trajectory of the observation nodes for training NN\n",
    "    trajectory_obs = trajectory.GameTrajectory()\n",
    "    \n",
    "    # trajectory of the game nodes for training NN\n",
    "    trajectory_game = trajectory.GameTrajectory()\n",
    "    \n",
    "    \n",
    "    state = game.new_initial_state()\n",
    "    information_set_generator = InformationSetGenerator(game)\n",
    "    \n",
    "    ii_mcts_bot = ImperfectInformationMCTSBot(game,\n",
    "                                            uct_c,\n",
    "                                                  max_simulations,\n",
    "                                                  evaluator,\n",
    "                                                  False,\n",
    "                                                  child_selection_fn=SearchNode.puct_value)\n",
    "    while not state.is_terminal():\n",
    "        \n",
    "        if state.current_player() < 0:\n",
    "            action = np.random.choice(state.legal_actions())\n",
    "\n",
    "            information_set_generator.register_action(action)\n",
    "            state.apply_action(action)\n",
    "            information_set_generator.register_observation(state)\n",
    "            \n",
    "            \n",
    "        else:\n",
    "            \n",
    "            observations = information_set_generator._get_observation(state, state.current_player())\n",
    "            \n",
    "            state_masked_policy, game_node_policy, guess_state, state_mask = ii_mcts_agent(\n",
    "                                                                     information_set_generator, \n",
    "                                                                     state_to_value, \n",
    "                                                                     ii_mcts_bot)\n",
    "            action = np.argmax(game_node_policy)\n",
    "            \n",
    "            \n",
    "            trajectory_obs.states.append(trajectory.TrajectoryState(observations, \n",
    "                                                                    state.current_player(), \n",
    "                                                                    state_mask, \n",
    "                                                                    action,\n",
    "                                                                    state_masked_policy))\n",
    "                                         \n",
    "            trajectory_game.states.append(trajectory.TrajectoryState(guess_state.observation_tensor(), \n",
    "                                                                    state.current_player(), \n",
    "                                                                    state.legal_actions_mask(), \n",
    "                                                                    action,\n",
    "                                                                    game_node_policy))\n",
    "            \n",
    "            \n",
    "            information_set_generator.register_action(action)\n",
    "            state.apply_action(action)\n",
    "            information_set_generator.register_observation(state)\n",
    "            \n",
    "            \n",
    "    trajectory_obs.returns = state.returns()\n",
    "    trajectory_game.returns = state.returns()\n",
    "    return trajectory_obs, trajectory_game"
   ]
  },
  {
   "cell_type": "code",
   "execution_count": 12,
   "metadata": {},
   "outputs": [],
   "source": [
    "def collect_trajectories(replay_buffer_obs, replay_buffer_game):\n",
    "    \n",
    "    for j in range(30):\n",
    "        trajectory_obs, trajectory_game = play_one_game()\n",
    "        \n",
    "        p1_outcome = trajectory_obs.returns[0]\n",
    "        \n",
    "        \n",
    "        replay_buffer_obs.extend(model_lib.TrainInput(s.observation, s.legals_mask, s.policy, p1_outcome) \n",
    "                             for s in trajectory_obs.states)\n",
    "        \n",
    "        replay_buffer_game.extend(model_lib.TrainInput(s.observation, s.legals_mask, s.policy, p1_outcome) \n",
    "                             for s in trajectory_game.states)"
   ]
  },
  {
   "cell_type": "code",
   "execution_count": 13,
   "metadata": {},
   "outputs": [],
   "source": [
    "replay_buffer_obs = buffer.ReplayBuffer(100)\n",
    "replay_buffer_game = buffer.ReplayBuffer(100)"
   ]
  },
  {
   "cell_type": "markdown",
   "metadata": {},
   "source": [
    "# Train Neural Network"
   ]
  },
  {
   "cell_type": "code",
   "execution_count": 14,
   "metadata": {},
   "outputs": [
    {
     "name": "stdout",
     "output_type": "stream",
     "text": [
      "Loss at iteration 0 of observation model: Losses(total: 2.441, policy: 0.545, value: 1.878, l2: 0.018)\n",
      "Loss at iteration 0 of game model: Losses(total: 2.557, policy: 0.687, value: 1.854, l2: 0.016)\n",
      "\n",
      "Loss at iteration 1 of observation model: Losses(total: 2.069, policy: 0.592, value: 1.460, l2: 0.018)\n",
      "Loss at iteration 1 of game model: Losses(total: 2.464, policy: 0.669, value: 1.779, l2: 0.015)\n",
      "\n",
      "Loss at iteration 2 of observation model: Losses(total: 2.564, policy: 0.528, value: 2.019, l2: 0.017)\n",
      "Loss at iteration 2 of game model: Losses(total: 2.573, policy: 0.659, value: 1.899, l2: 0.015)\n",
      "\n",
      "Loss at iteration 3 of observation model: Losses(total: 2.633, policy: 0.531, value: 2.085, l2: 0.017)\n",
      "Loss at iteration 3 of game model: Losses(total: 2.616, policy: 0.641, value: 1.961, l2: 0.014)\n",
      "\n",
      "Loss at iteration 4 of observation model: Losses(total: 2.221, policy: 0.611, value: 1.593, l2: 0.016)\n",
      "Loss at iteration 4 of game model: Losses(total: 2.489, policy: 0.617, value: 1.858, l2: 0.014)\n",
      "\n",
      "Loss at iteration 5 of observation model: Losses(total: 2.399, policy: 0.579, value: 1.804, l2: 0.016)\n",
      "Loss at iteration 5 of game model: Losses(total: 2.192, policy: 0.570, value: 1.608, l2: 0.014)\n",
      "\n",
      "Loss at iteration 6 of observation model: Losses(total: 2.009, policy: 0.613, value: 1.380, l2: 0.016)\n",
      "Loss at iteration 6 of game model: Losses(total: 1.829, policy: 0.568, value: 1.248, l2: 0.013)\n",
      "\n",
      "Loss at iteration 7 of observation model: Losses(total: 1.794, policy: 0.693, value: 1.086, l2: 0.015)\n",
      "Loss at iteration 7 of game model: Losses(total: 2.000, policy: 0.620, value: 1.367, l2: 0.013)\n",
      "\n",
      "Loss at iteration 8 of observation model: Losses(total: 1.579, policy: 0.694, value: 0.870, l2: 0.015)\n",
      "Loss at iteration 8 of game model: Losses(total: 1.785, policy: 0.561, value: 1.212, l2: 0.013)\n",
      "\n",
      "Loss at iteration 9 of observation model: Losses(total: 1.580, policy: 0.598, value: 0.968, l2: 0.015)\n",
      "Loss at iteration 9 of game model: Losses(total: 1.692, policy: 0.512, value: 1.167, l2: 0.013)\n",
      "\n",
      "Loss at iteration 10 of observation model: Losses(total: 1.215, policy: 0.693, value: 0.507, l2: 0.015)\n",
      "Loss at iteration 10 of game model: Losses(total: 1.346, policy: 0.464, value: 0.869, l2: 0.013)\n",
      "\n",
      "Loss at iteration 11 of observation model: Losses(total: 1.573, policy: 0.561, value: 0.998, l2: 0.015)\n",
      "Loss at iteration 11 of game model: Losses(total: 2.037, policy: 0.519, value: 1.506, l2: 0.012)\n",
      "\n",
      "Loss at iteration 12 of observation model: Losses(total: 1.318, policy: 0.513, value: 0.791, l2: 0.014)\n",
      "Loss at iteration 12 of game model: Losses(total: 1.778, policy: 0.447, value: 1.319, l2: 0.012)\n",
      "\n",
      "Loss at iteration 13 of observation model: Losses(total: 1.220, policy: 0.530, value: 0.676, l2: 0.014)\n",
      "Loss at iteration 13 of game model: Losses(total: 1.257, policy: 0.354, value: 0.891, l2: 0.012)\n",
      "\n",
      "Loss at iteration 14 of observation model: Losses(total: 1.267, policy: 0.657, value: 0.595, l2: 0.014)\n",
      "Loss at iteration 14 of game model: Losses(total: 1.336, policy: 0.333, value: 0.991, l2: 0.012)\n",
      "\n",
      "Loss at iteration 15 of observation model: Losses(total: 1.209, policy: 0.537, value: 0.658, l2: 0.014)\n",
      "Loss at iteration 15 of game model: Losses(total: 0.825, policy: 0.299, value: 0.514, l2: 0.012)\n",
      "\n",
      "Loss at iteration 16 of observation model: Losses(total: 1.303, policy: 0.551, value: 0.738, l2: 0.014)\n",
      "Loss at iteration 16 of game model: Losses(total: 0.909, policy: 0.234, value: 0.663, l2: 0.012)\n",
      "\n",
      "Loss at iteration 17 of observation model: Losses(total: 1.208, policy: 0.655, value: 0.538, l2: 0.014)\n",
      "Loss at iteration 17 of game model: Losses(total: 0.798, policy: 0.225, value: 0.562, l2: 0.012)\n",
      "\n",
      "Loss at iteration 18 of observation model: Losses(total: 2.189, policy: 0.605, value: 1.570, l2: 0.015)\n",
      "Loss at iteration 18 of game model: Losses(total: 1.120, policy: 0.185, value: 0.923, l2: 0.012)\n",
      "\n",
      "Loss at iteration 19 of observation model: Losses(total: 3.020, policy: 0.746, value: 2.259, l2: 0.015)\n",
      "Loss at iteration 19 of game model: Losses(total: 1.011, policy: 0.156, value: 0.844, l2: 0.012)\n",
      "\n",
      "Loss at iteration 20 of observation model: Losses(total: 3.244, policy: 1.087, value: 2.142, l2: 0.015)\n",
      "Loss at iteration 20 of game model: Losses(total: 0.884, policy: 0.086, value: 0.786, l2: 0.012)\n",
      "\n",
      "Loss at iteration 21 of observation model: Losses(total: 4.536, policy: 1.151, value: 3.370, l2: 0.016)\n",
      "Loss at iteration 21 of game model: Losses(total: 0.623, policy: 0.079, value: 0.533, l2: 0.011)\n",
      "\n",
      "Loss at iteration 22 of observation model: Losses(total: 3.275, policy: 1.519, value: 1.740, l2: 0.016)\n",
      "Loss at iteration 22 of game model: Losses(total: 0.922, policy: 0.081, value: 0.830, l2: 0.011)\n",
      "\n",
      "Loss at iteration 23 of observation model: Losses(total: 7.070, policy: 4.514, value: 2.540, l2: 0.017)\n",
      "Loss at iteration 23 of game model: Losses(total: 1.247, policy: 0.230, value: 1.006, l2: 0.011)\n",
      "\n",
      "Loss at iteration 24 of observation model: Losses(total: 10.928, policy: 8.021, value: 2.890, l2: 0.017)\n",
      "Loss at iteration 24 of game model: Losses(total: 0.584, policy: 0.085, value: 0.488, l2: 0.011)\n",
      "\n",
      "Loss at iteration 25 of observation model: Losses(total: 20.290, policy: 17.422, value: 2.850, l2: 0.017)\n",
      "Loss at iteration 25 of game model: Losses(total: 1.109, policy: 0.257, value: 0.841, l2: 0.011)\n",
      "\n",
      "Loss at iteration 26 of observation model: Losses(total: 15.440, policy: 13.332, value: 2.090, l2: 0.018)\n",
      "Loss at iteration 26 of game model: Losses(total: 0.788, policy: 0.146, value: 0.631, l2: 0.011)\n",
      "\n",
      "Loss at iteration 27 of observation model: Losses(total: 34.562, policy: 31.864, value: 2.680, l2: 0.018)\n",
      "Loss at iteration 27 of game model: Losses(total: 0.890, policy: 0.185, value: 0.694, l2: 0.011)\n",
      "\n",
      "Loss at iteration 28 of observation model: Losses(total: 36.746, policy: 33.947, value: 2.780, l2: 0.019)\n",
      "Loss at iteration 28 of game model: Losses(total: 0.929, policy: 0.237, value: 0.681, l2: 0.011)\n",
      "\n",
      "Loss at iteration 29 of observation model: Losses(total: 42.930, policy: 40.930, value: 1.980, l2: 0.020)\n",
      "Loss at iteration 29 of game model: Losses(total: 0.910, policy: 0.283, value: 0.617, l2: 0.011)\n",
      "\n"
     ]
    }
   ],
   "source": [
    "for i in range(30):\n",
    "    losses_obs = []\n",
    "    losses_game = []\n",
    "    \n",
    "    collect_trajectories(replay_buffer_obs, replay_buffer_game)\n",
    "    \n",
    "    for _ in range(100 // 20):\n",
    "        data_obs = replay_buffer_obs.sample(20)\n",
    "        data_game = replay_buffer_game.sample(20)\n",
    "        \n",
    "        \n",
    "        losses_obs.append(obs_model.update(data_obs))\n",
    "        losses_game.append(game_model.update(data_game))\n",
    "        \n",
    "    losses = sum(losses_obs, model_lib.Losses(0, 0, 0)) / len(losses_obs)\n",
    "        \n",
    "    print(f\"Loss at iteration {i} of observation model: {losses}\")\n",
    "        \n",
    "    losses = sum(losses_game, model_lib.Losses(0, 0, 0)) / len(losses_game)\n",
    "        \n",
    "    print(f\"Loss at iteration {i} of game model: {losses}\")\n",
    "    \n",
    "    print(\"\")"
   ]
  },
  {
   "cell_type": "markdown",
   "metadata": {},
   "source": [
    "# Evaluations"
   ]
  },
  {
   "cell_type": "code",
   "execution_count": 15,
   "metadata": {},
   "outputs": [],
   "source": [
    "def initialize_bot(game, uct_c, max_simulations, policy_epsilon, policy_alpha):\n",
    "    \n",
    "    if policy_epsilon == None or policy_alpha == None:\n",
    "        noise = None\n",
    "    else:\n",
    "        noise = (policy_epsilon, policy_alpha)\n",
    "        \n",
    "\n",
    "    evaluator = mcts.RandomRolloutEvaluator(n_rollouts=100)\n",
    "\n",
    "    bot = mcts.MCTSBot(\n",
    "          game,\n",
    "          uct_c,\n",
    "          max_simulations,\n",
    "          evaluator,\n",
    "          solve=False,\n",
    "          dirichlet_noise=noise,\n",
    "          child_selection_fn=mcts.SearchNode.puct_value,\n",
    "          verbose=False)\n",
    "    \n",
    "    return bot"
   ]
  },
  {
   "cell_type": "code",
   "execution_count": 16,
   "metadata": {},
   "outputs": [],
   "source": [
    "def mcts_agent(state, information_set_generator):\n",
    "    current_player = state.current_player()\n",
    "    information_set = information_set_generator.calculate_information_set(current_player)\n",
    "    policy = np.zeros(game.num_distinct_actions())\n",
    "\n",
    "    # Evaluate each state in the information set by MCTS independently.\n",
    "    # After the searches are completed, the numbers of visits for each action from the root \n",
    "    # are summed across all trees, \n",
    "    # and an action is chosen that maximises the total number of visits.\n",
    "    for s in information_set:\n",
    "        bot = initialize_bot(game, uct_c, max_simulations, policy_epsilon, policy_alpha)\n",
    "        root = bot.mcts_search(s)\n",
    "        if verbose:\n",
    "            print_game_tree(root)\n",
    "        for c in root.children:\n",
    "            policy[c.action] += c.explore_count\n",
    "            #policy[c.action] += c.total_reward / c.explore_count  # Use value of node for selection\n",
    "    return policy"
   ]
  },
  {
   "cell_type": "code",
   "execution_count": 17,
   "metadata": {},
   "outputs": [],
   "source": [
    "game_returns = []\n",
    "for _ in range(100):\n",
    "    actions = []\n",
    "    state = game.new_initial_state()\n",
    "    information_set_generator = InformationSetGenerator(game)\n",
    "    \n",
    "    ii_mcts_bot = ImperfectInformationMCTSBot(game,\n",
    "                                            uct_c,\n",
    "                                                  max_simulations,\n",
    "                                                  evaluator,\n",
    "                                                  False,\n",
    "                                                  child_selection_fn=SearchNode.puct_value)\n",
    "    \n",
    "    while not state.is_terminal():\n",
    "\n",
    "        # environment state\n",
    "        if state.current_player() < 0:\n",
    "            action = np.random.choice(state.legal_actions())\n",
    "\n",
    "            action_str = state.action_to_string(state.current_player(), action)\n",
    "            actions.append(action_str)\n",
    "\n",
    "            information_set_generator.register_action(action)\n",
    "            state.apply_action(action)\n",
    "            information_set_generator.register_observation(state)\n",
    "\n",
    "        # player 1 as a MCTS bot\n",
    "        elif state.current_player() == 0:\n",
    "            policy = mcts_agent(state, information_set_generator)\n",
    "            action = np.argmax(policy)\n",
    "\n",
    "            action_str = state.action_to_string(state.current_player(), action)\n",
    "            actions.append(action_str)\n",
    "\n",
    "            information_set_generator.register_action(action)\n",
    "            state.apply_action(action)\n",
    "            information_set_generator.register_observation(state)\n",
    "\n",
    "        # player 2 as IIG-MCTS bot\n",
    "        else:\n",
    "            # action = np.random.choice(state.legal_actions())\n",
    "            \n",
    "            state_masked_policy, game_node_policy, guess_state, state_mask = ii_mcts_agent(\n",
    "                                                                     information_set_generator, \n",
    "                                                                     state_to_value, \n",
    "                                                                     ii_mcts_bot)\n",
    "            action = np.argmax(game_node_policy)\n",
    "\n",
    "            action_str = state.action_to_string(state.current_player(), action)\n",
    "            actions.append(action_str)\n",
    "\n",
    "            information_set_generator.register_action(action)\n",
    "            state.apply_action(action)\n",
    "            information_set_generator.register_observation(state)\n",
    "\n",
    "\n",
    "    #print(actions)       \n",
    "    #print(state.returns())\n",
    "    #print()\n",
    "    game_returns.append(state.returns())"
   ]
  },
  {
   "cell_type": "code",
   "execution_count": 18,
   "metadata": {},
   "outputs": [
    {
     "name": "stdout",
     "output_type": "stream",
     "text": [
      "Average return: [ 0.08 -0.08]\n"
     ]
    }
   ],
   "source": [
    "game_returns = np.array(game_returns)\n",
    "print(f\"Average return: {game_returns.mean(axis=0)}\")"
   ]
  },
  {
   "cell_type": "code",
   "execution_count": null,
   "metadata": {},
   "outputs": [],
   "source": []
  }
 ],
 "metadata": {
  "kernelspec": {
   "display_name": "Python 3",
   "language": "python",
   "name": "python3"
  },
  "language_info": {
   "codemirror_mode": {
    "name": "ipython",
    "version": 3
   },
   "file_extension": ".py",
   "mimetype": "text/x-python",
   "name": "python",
   "nbconvert_exporter": "python",
   "pygments_lexer": "ipython3",
   "version": "3.8.5"
  }
 },
 "nbformat": 4,
 "nbformat_minor": 4
}
