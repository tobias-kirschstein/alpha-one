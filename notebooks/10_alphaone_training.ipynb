{
 "cells": [
  {
   "cell_type": "code",
   "execution_count": 1,
   "metadata": {},
   "outputs": [
    {
     "name": "stdout",
     "output_type": "stream",
     "text": [
      "/Users/anantabhattarai/Documents/TUM/ADLR/tum-adlr-ws20-9\n"
     ]
    }
   ],
   "source": [
    "%cd ..\n",
    "%reload_ext autoreload\n",
    "%autoreload 2"
   ]
  },
  {
   "cell_type": "markdown",
   "metadata": {},
   "source": [
    "# Import Libraries"
   ]
  },
  {
   "cell_type": "code",
   "execution_count": 2,
   "metadata": {},
   "outputs": [],
   "source": [
    "from alpha_one.game.information_set import InformationSetGenerator\n",
    "import numpy as np\n",
    "import pyspiel\n",
    "\n",
    "from open_spiel.python.algorithms import mcts\n",
    "from open_spiel.python.algorithms.alpha_zero import evaluator as evaluator_lib\n",
    "from open_spiel.python.algorithms.alpha_zero import model as model_lib\n",
    "from open_spiel.python.algorithms.mcts import SearchNode\n",
    "\n",
    "from alpha_one.alg.imperfect_information import AlphaOneImperfectInformationMCTSEvaluator\n",
    "from alpha_one.alg.imperfect_information import DeterminizedMCTSEvaluator\n",
    "from alpha_one.alg.mcts import ImperfectInformationMCTSBot\n",
    "\n",
    "from alpha_one.utils.statemask import get_state_mask\n",
    "from open_spiel.python.algorithms import get_all_states\n",
    "\n",
    "\n",
    "from alpha_one.game import trajectory\n",
    "from alpha_one.game import buffer"
   ]
  },
  {
   "cell_type": "markdown",
   "metadata": {},
   "source": [
    "# Load game and define hyperparameters"
   ]
  },
  {
   "cell_type": "code",
   "execution_count": 3,
   "metadata": {},
   "outputs": [],
   "source": [
    "uct_c = 3                                     \n",
    "max_simulations = 100   \n",
    "verbose = False\n",
    "policy_epsilon = 0.25                             \n",
    "policy_alpha = 1"
   ]
  },
  {
   "cell_type": "code",
   "execution_count": 4,
   "metadata": {},
   "outputs": [],
   "source": [
    "# state_to_value maps each possible state in the game to the value\n",
    "# for eg: intial state can be mapped as 1 and final state can be mapped as 53\n",
    "\n",
    "game_name = \"kuhn_poker\"\n",
    "game = pyspiel.load_game(game_name)\n",
    "states = get_all_states.get_all_states(game)\n",
    "state_to_value = {}\n",
    "a = 0\n",
    "for key, values in states.items():\n",
    "    state_to_value[values.__str__()] = a\n",
    "    a += 1"
   ]
  },
  {
   "cell_type": "markdown",
   "metadata": {},
   "source": [
    "# Initialize Neural Network Model"
   ]
  },
  {
   "cell_type": "code",
   "execution_count": 5,
   "metadata": {},
   "outputs": [
    {
     "name": "stdout",
     "output_type": "stream",
     "text": [
      "WARNING:tensorflow:From /Users/anantabhattarai/opt/anaconda3/envs/adlr/lib/python3.8/site-packages/tensorflow/python/ops/resource_variable_ops.py:1659: calling BaseResourceVariable.__init__ (from tensorflow.python.ops.resource_variable_ops) with constraint is deprecated and will be removed in a future version.\n",
      "Instructions for updating:\n",
      "If using Keras pass *_constraint arguments to layers.\n"
     ]
    }
   ],
   "source": [
    "model_saves_path = '../model_saves/kuhn_poker/obs_node_model'\n",
    "nn_width = 50\n",
    "nn_depth = 5\n",
    "learning_rate = 0.001\n",
    "weight_decay = 0.0001\n",
    "\n",
    "model_type = 'mlp'\n",
    "    \n",
    "obs_model = model_lib.Model.build_model(\n",
    "                              model_type, game.observation_tensor_shape(), len(state_to_value),\n",
    "                              nn_width=nn_width, nn_depth=nn_depth, \n",
    "                              weight_decay=weight_decay, \n",
    "                              learning_rate=learning_rate, \n",
    "                              path=model_saves_path)"
   ]
  },
  {
   "cell_type": "code",
   "execution_count": 6,
   "metadata": {},
   "outputs": [],
   "source": [
    "model_saves_path = '../model_saves/kuhn_poker/game_node_model'\n",
    "nn_width = 50\n",
    "nn_depth = 5\n",
    "learning_rate = 0.001\n",
    "weight_decay = 0.0001\n",
    "\n",
    "model_type = 'mlp'\n",
    "    \n",
    "game_model = model_lib.Model.build_model(\n",
    "                              model_type, game.observation_tensor_shape(), game.num_distinct_actions(),\n",
    "                              nn_width=nn_width, nn_depth=nn_depth, \n",
    "                              weight_decay=weight_decay, \n",
    "                              learning_rate=learning_rate, \n",
    "                              path=model_saves_path)"
   ]
  },
  {
   "cell_type": "markdown",
   "metadata": {},
   "source": [
    "# Define Required Functions"
   ]
  },
  {
   "cell_type": "code",
   "execution_count": 7,
   "metadata": {},
   "outputs": [],
   "source": [
    "evaluator = AlphaOneImperfectInformationMCTSEvaluator(state_to_value, obs_model, game_model)"
   ]
  },
  {
   "cell_type": "code",
   "execution_count": 8,
   "metadata": {},
   "outputs": [],
   "source": [
    "# get policy and value at the observation node\n",
    "def get_policy_value_obs_node(root, state_mask, index_track):\n",
    "    \n",
    "    # state_mask and state_masked_policy are used while training NN\n",
    "\n",
    "    policy = np.zeros(len(root.children))\n",
    "    for c in root.children:\n",
    "        #policy[c.action] = c.explore_count\n",
    "        if c.explore_count == 0:\n",
    "            policy[c.action] += c.total_reward\n",
    "        else:\n",
    "            policy[c.action] += c.total_reward / c.explore_count\n",
    "    \n",
    "    policy = (policy - policy.min()) / (policy.max() - policy.min())\n",
    "    policy /= policy.sum()\n",
    "\n",
    "    state_masked_policy = np.zeros(len(state_mask))\n",
    "    \n",
    "    for i in range(len(index_track)):\n",
    "        state_masked_policy[index_track] = policy[i]\n",
    "        \n",
    "    return state_masked_policy, policy"
   ]
  },
  {
   "cell_type": "code",
   "execution_count": 9,
   "metadata": {},
   "outputs": [],
   "source": [
    "# get policy and value at the game node after guessing the state\n",
    "def get_policy_value_game_node(root, guess_state):\n",
    "    \n",
    "    game_name = \"kuhn_poker\"\n",
    "    game_temp = pyspiel.load_game(game_name)\n",
    "    policy = np.zeros(game_temp.num_distinct_actions())\n",
    "    \n",
    "    for c in root.children[guess_state].children:\n",
    "        #policy[c.action] = c.explore_count\n",
    "        if c.explore_count == 0:\n",
    "            policy[c.action] += c.total_reward\n",
    "        else:\n",
    "            policy[c.action] += c.total_reward / c.explore_count\n",
    "    \n",
    "    policy = (policy - policy.min()) / (policy.max() - policy.min())\n",
    "    policy /= policy.sum()\n",
    "    \n",
    "    return policy"
   ]
  },
  {
   "cell_type": "code",
   "execution_count": 10,
   "metadata": {},
   "outputs": [],
   "source": [
    "def ii_mcts_agent(information_set_generator, state_to_value, ii_mcts_bot):\n",
    "    root, _ = ii_mcts_bot.mcts_search(information_set_generator)\n",
    "    \n",
    "    information_set = information_set_generator.calculate_information_set()\n",
    "    \n",
    "    state_mask, index_track = get_state_mask(state_to_value, information_set)\n",
    "    \n",
    "    state_masked_policy, state_policy = get_policy_value_obs_node(root, state_mask, index_track)\n",
    "    \n",
    "    guess_state = np.argmax(state_policy)\n",
    "    \n",
    "    game_node_policy = get_policy_value_game_node(root, guess_state)\n",
    "\n",
    "    return state_masked_policy, game_node_policy, information_set[guess_state], state_mask"
   ]
  },
  {
   "cell_type": "code",
   "execution_count": 11,
   "metadata": {},
   "outputs": [],
   "source": [
    "def play_one_game():\n",
    "    \n",
    "    # trajectory of the observation nodes for training NN\n",
    "    trajectory_obs = trajectory.GameTrajectory()\n",
    "    \n",
    "    # trajectory of the game nodes for training NN\n",
    "    trajectory_game = trajectory.GameTrajectory()\n",
    "    \n",
    "    actions = []\n",
    "    #temperature_drop = 10\n",
    "    \n",
    "    \n",
    "    state = game.new_initial_state()\n",
    "    information_set_generator = InformationSetGenerator(game)\n",
    "    \n",
    "    ii_mcts_bot = ImperfectInformationMCTSBot(game,\n",
    "                                            uct_c,\n",
    "                                                  max_simulations,\n",
    "                                                  evaluator,\n",
    "                                                  False,\n",
    "                                                  child_selection_fn=SearchNode.puct_value)\n",
    "    while not state.is_terminal():\n",
    "        \n",
    "        if state.current_player() < 0:\n",
    "            action = np.random.choice(state.legal_actions())\n",
    "\n",
    "            information_set_generator.register_action(action)\n",
    "            state.apply_action(action)\n",
    "            information_set_generator.register_observation(state)\n",
    "            \n",
    "            \n",
    "        else:\n",
    "            \n",
    "            observations = information_set_generator._get_observation(state, state.current_player())\n",
    "            \n",
    "            state_masked_policy, game_node_policy, guess_state, state_mask = ii_mcts_agent(\n",
    "                                                                     information_set_generator, \n",
    "                                                                     state_to_value, \n",
    "                                                                     ii_mcts_bot)\n",
    "            \n",
    "            #if len(actions) > temperature_drop:\n",
    "            #    action = np.argmax(game_node_policy)\n",
    "            #else:\n",
    "            action = np.random.choice(len(game_node_policy), p=game_node_policy)\n",
    "            \n",
    "            actions.append(action)\n",
    "            \n",
    "            trajectory_obs.states.append(trajectory.TrajectoryState(observations, \n",
    "                                                                    state.current_player(), \n",
    "                                                                    state_mask, \n",
    "                                                                    action,\n",
    "                                                                    state_masked_policy))\n",
    "                                         \n",
    "            trajectory_game.states.append(trajectory.TrajectoryState(guess_state.observation_tensor(), \n",
    "                                                                    state.current_player(), \n",
    "                                                                    state.legal_actions_mask(), \n",
    "                                                                    action,\n",
    "                                                                    game_node_policy))\n",
    "            \n",
    "            \n",
    "            information_set_generator.register_action(action)\n",
    "            state.apply_action(action)\n",
    "            information_set_generator.register_observation(state)\n",
    "            \n",
    "            \n",
    "    trajectory_obs.returns = state.returns()\n",
    "    trajectory_game.returns = state.returns()\n",
    "    return trajectory_obs, trajectory_game"
   ]
  },
  {
   "cell_type": "code",
   "execution_count": 12,
   "metadata": {},
   "outputs": [],
   "source": [
    "def collect_trajectories(replay_buffer_obs, replay_buffer_game):\n",
    "    \n",
    "    for j in range(30):\n",
    "        trajectory_obs, trajectory_game = play_one_game()\n",
    "        \n",
    "        p1_outcome = trajectory_obs.returns[0]\n",
    "        \n",
    "        \n",
    "        replay_buffer_obs.extend(model_lib.TrainInput(s.observation, s.legals_mask, s.policy, p1_outcome) \n",
    "                             for s in trajectory_obs.states)\n",
    "        \n",
    "        replay_buffer_game.extend(model_lib.TrainInput(s.observation, s.legals_mask, s.policy, p1_outcome) \n",
    "                             for s in trajectory_game.states)"
   ]
  },
  {
   "cell_type": "code",
   "execution_count": 13,
   "metadata": {},
   "outputs": [],
   "source": [
    "replay_buffer_obs = buffer.ReplayBuffer(100)\n",
    "replay_buffer_game = buffer.ReplayBuffer(100)"
   ]
  },
  {
   "cell_type": "markdown",
   "metadata": {},
   "source": [
    "# Train AlphaOne"
   ]
  },
  {
   "cell_type": "code",
   "execution_count": 14,
   "metadata": {},
   "outputs": [
    {
     "name": "stdout",
     "output_type": "stream",
     "text": [
      "Loss at iteration 0 of observation model: Losses(total: 2.849, policy: 0.680, value: 2.151, l2: 0.018)\n",
      "Loss at iteration 0 of game model: Losses(total: 2.785, policy: 0.709, value: 2.061, l2: 0.016)\n",
      "\n",
      "Loss at iteration 1 of observation model: Losses(total: 2.921, policy: 0.708, value: 2.196, l2: 0.018)\n",
      "Loss at iteration 1 of game model: Losses(total: 2.919, policy: 0.677, value: 2.227, l2: 0.015)\n",
      "\n",
      "Loss at iteration 2 of observation model: Losses(total: 2.706, policy: 0.514, value: 2.175, l2: 0.017)\n",
      "Loss at iteration 2 of game model: Losses(total: 2.920, policy: 0.670, value: 2.235, l2: 0.015)\n",
      "\n",
      "Loss at iteration 3 of observation model: Losses(total: 2.788, policy: 0.653, value: 2.118, l2: 0.017)\n",
      "Loss at iteration 3 of game model: Losses(total: 2.479, policy: 0.651, value: 1.813, l2: 0.015)\n",
      "\n",
      "Loss at iteration 4 of observation model: Losses(total: 1.875, policy: 0.446, value: 1.412, l2: 0.016)\n",
      "Loss at iteration 4 of game model: Losses(total: 2.071, policy: 0.641, value: 1.416, l2: 0.014)\n",
      "\n",
      "Loss at iteration 5 of observation model: Losses(total: 2.225, policy: 0.643, value: 1.566, l2: 0.016)\n",
      "Loss at iteration 5 of game model: Losses(total: 1.947, policy: 0.603, value: 1.330, l2: 0.014)\n",
      "\n",
      "Loss at iteration 6 of observation model: Losses(total: 1.898, policy: 0.505, value: 1.378, l2: 0.016)\n",
      "Loss at iteration 6 of game model: Losses(total: 1.905, policy: 0.558, value: 1.333, l2: 0.014)\n",
      "\n",
      "Loss at iteration 7 of observation model: Losses(total: 1.852, policy: 0.424, value: 1.413, l2: 0.015)\n",
      "Loss at iteration 7 of game model: Losses(total: 1.789, policy: 0.525, value: 1.250, l2: 0.014)\n",
      "\n",
      "Loss at iteration 8 of observation model: Losses(total: 1.524, policy: 0.405, value: 1.104, l2: 0.015)\n",
      "Loss at iteration 8 of game model: Losses(total: 1.510, policy: 0.455, value: 1.041, l2: 0.013)\n",
      "\n",
      "Loss at iteration 9 of observation model: Losses(total: 1.615, policy: 0.460, value: 1.140, l2: 0.015)\n",
      "Loss at iteration 9 of game model: Losses(total: 1.528, policy: 0.430, value: 1.085, l2: 0.013)\n",
      "\n"
     ]
    }
   ],
   "source": [
    "for i in range(10):\n",
    "    losses_obs = []\n",
    "    losses_game = []\n",
    "    \n",
    "    collect_trajectories(replay_buffer_obs, replay_buffer_game)\n",
    "    \n",
    "    for _ in range(100 // 20):\n",
    "        data_obs = replay_buffer_obs.sample(20)\n",
    "        data_game = replay_buffer_game.sample(20)\n",
    "        \n",
    "        \n",
    "        losses_obs.append(obs_model.update(data_obs))\n",
    "        losses_game.append(game_model.update(data_game))\n",
    "        \n",
    "    losses = sum(losses_obs, model_lib.Losses(0, 0, 0)) / len(losses_obs)\n",
    "        \n",
    "    print(f\"Loss at iteration {i} of observation model: {losses}\")\n",
    "        \n",
    "    losses = sum(losses_game, model_lib.Losses(0, 0, 0)) / len(losses_game)\n",
    "        \n",
    "    print(f\"Loss at iteration {i} of game model: {losses}\")\n",
    "    \n",
    "    print(\"\")"
   ]
  },
  {
   "cell_type": "markdown",
   "metadata": {},
   "source": [
    "# Train Determinized MCTS"
   ]
  },
  {
   "cell_type": "code",
   "execution_count": 15,
   "metadata": {},
   "outputs": [],
   "source": [
    "model_saves_path = '../model_saves/kuhn_poker/determinized_model'\n",
    "nn_width = 50\n",
    "nn_depth = 5\n",
    "learning_rate = 0.001\n",
    "weight_decay = 0.0001\n",
    "\n",
    "model_type = 'mlp'\n",
    "    \n",
    "determinized_model = model_lib.Model.build_model(\n",
    "                              model_type, game.observation_tensor_shape(), game.num_distinct_actions(),\n",
    "                              nn_width=nn_width, nn_depth=nn_depth, \n",
    "                              weight_decay=weight_decay, \n",
    "                              learning_rate=learning_rate, \n",
    "                              path=model_saves_path)"
   ]
  },
  {
   "cell_type": "code",
   "execution_count": 16,
   "metadata": {},
   "outputs": [],
   "source": [
    "def initialize_bot(game, uct_c, max_simulations, policy_epsilon, policy_alpha):\n",
    "    \n",
    "    if policy_epsilon == None or policy_alpha == None:\n",
    "        noise = None\n",
    "    else:\n",
    "        noise = (policy_epsilon, policy_alpha)\n",
    "    \n",
    "    _evaluator = DeterminizedMCTSEvaluator(determinized_model)\n",
    "\n",
    "    bot = mcts.MCTSBot(\n",
    "          game,\n",
    "          uct_c,\n",
    "          max_simulations,\n",
    "          _evaluator,\n",
    "          solve=False,\n",
    "          dirichlet_noise=noise,\n",
    "          child_selection_fn=mcts.SearchNode.puct_value,\n",
    "          verbose=False)\n",
    "    \n",
    "    return bot"
   ]
  },
  {
   "cell_type": "code",
   "execution_count": 17,
   "metadata": {},
   "outputs": [],
   "source": [
    "def mcts_agent(state, information_set_generator):\n",
    "    current_player = state.current_player()\n",
    "    information_set = information_set_generator.calculate_information_set(current_player)\n",
    "    policy = np.zeros(game.num_distinct_actions())\n",
    "\n",
    "    # Evaluate each state in the information set by MCTS independently.\n",
    "    # After the searches are completed, the numbers of visits for each action from the root \n",
    "    # are summed across all trees, \n",
    "    # and an action is chosen that maximises the total number of visits.\n",
    "    for s in information_set:\n",
    "        bot = initialize_bot(game, uct_c, max_simulations, policy_epsilon, policy_alpha)\n",
    "        root = bot.mcts_search(s)\n",
    "        if verbose:\n",
    "            print_game_tree(root)\n",
    "        for c in root.children:\n",
    "            #policy[c.action] += c.explore_count\n",
    "            if c.explore_count == 0:\n",
    "                policy[c.action] += c.total_reward\n",
    "            else:\n",
    "                policy[c.action] += c.total_reward / c.explore_count\n",
    "    \n",
    "    policy = (policy - policy.min()) / (policy.max() - policy.min())\n",
    "    policy /= policy.sum()\n",
    "    return policy"
   ]
  },
  {
   "cell_type": "code",
   "execution_count": 18,
   "metadata": {},
   "outputs": [],
   "source": [
    "def play_one_game_determinized_MCTS():\n",
    "\n",
    "    trajectory_game = trajectory.GameTrajectory()\n",
    "    \n",
    "    actions = []\n",
    "    temperature_drop = 5\n",
    "    \n",
    "    state = game.new_initial_state()\n",
    "    information_set_generator = InformationSetGenerator(game)\n",
    "    \n",
    "    while not state.is_terminal():\n",
    "        \n",
    "        if state.current_player() < 0:\n",
    "            action = np.random.choice(state.legal_actions())\n",
    "\n",
    "            information_set_generator.register_action(action)\n",
    "            state.apply_action(action)\n",
    "            information_set_generator.register_observation(state)\n",
    "            \n",
    "            \n",
    "        else:\n",
    "            \n",
    "            policy = mcts_agent(state, information_set_generator)\n",
    "            \n",
    "            #if len(actions) > temperature_drop:\n",
    "            #    action = np.argmax(policy)\n",
    "            #else:\n",
    "            action = np.random.choice(len(policy), p=policy)\n",
    "            \n",
    "            actions.append(action)\n",
    "            \n",
    "            trajectory_game.states.append(trajectory.TrajectoryState(state.observation_tensor(), \n",
    "                                                                    state.current_player(), \n",
    "                                                                    state.legal_actions_mask(), \n",
    "                                                                    action,\n",
    "                                                                    policy))\n",
    "            \n",
    "            \n",
    "            information_set_generator.register_action(action)\n",
    "            state.apply_action(action)\n",
    "            information_set_generator.register_observation(state)\n",
    "            \n",
    "            \n",
    "    trajectory_game.returns = state.returns()\n",
    "    return trajectory_game\n",
    "    "
   ]
  },
  {
   "cell_type": "code",
   "execution_count": 19,
   "metadata": {},
   "outputs": [],
   "source": [
    "def collect_trajectories(replay_buffer):\n",
    "    \n",
    "    for j in range(30):\n",
    "        trajectory_game = play_one_game_determinized_MCTS()\n",
    "        \n",
    "        p1_outcome = trajectory_game.returns[0]\n",
    "        \n",
    "        \n",
    "        replay_buffer.extend(model_lib.TrainInput(s.observation, s.legals_mask, s.policy, p1_outcome) \n",
    "                             for s in trajectory_game.states)"
   ]
  },
  {
   "cell_type": "code",
   "execution_count": 20,
   "metadata": {},
   "outputs": [],
   "source": [
    "replay_buffer = buffer.ReplayBuffer(100)"
   ]
  },
  {
   "cell_type": "code",
   "execution_count": 21,
   "metadata": {},
   "outputs": [
    {
     "name": "stdout",
     "output_type": "stream",
     "text": [
      "Loss at iteration 0 of determinized model: Losses(total: 2.471, policy: 0.658, value: 1.797, l2: 0.016)\n",
      "\n",
      "Loss at iteration 1 of determinized model: Losses(total: 1.819, policy: 0.532, value: 1.271, l2: 0.015)\n",
      "\n",
      "Loss at iteration 2 of determinized model: Losses(total: 1.852, policy: 0.507, value: 1.330, l2: 0.015)\n",
      "\n",
      "Loss at iteration 3 of determinized model: Losses(total: 1.513, policy: 0.441, value: 1.057, l2: 0.015)\n",
      "\n",
      "Loss at iteration 4 of determinized model: Losses(total: 1.700, policy: 0.411, value: 1.274, l2: 0.014)\n",
      "\n",
      "Loss at iteration 5 of determinized model: Losses(total: 1.548, policy: 0.497, value: 1.037, l2: 0.014)\n",
      "\n",
      "Loss at iteration 6 of determinized model: Losses(total: 1.401, policy: 0.374, value: 1.013, l2: 0.014)\n",
      "\n",
      "Loss at iteration 7 of determinized model: Losses(total: 1.197, policy: 0.398, value: 0.786, l2: 0.014)\n",
      "\n",
      "Loss at iteration 8 of determinized model: Losses(total: 1.064, policy: 0.258, value: 0.792, l2: 0.014)\n",
      "\n",
      "Loss at iteration 9 of determinized model: Losses(total: 0.802, policy: 0.197, value: 0.591, l2: 0.013)\n",
      "\n",
      "Loss at iteration 10 of determinized model: Losses(total: 1.205, policy: 0.426, value: 0.765, l2: 0.013)\n",
      "\n",
      "Loss at iteration 11 of determinized model: Losses(total: 1.672, policy: 0.779, value: 0.880, l2: 0.013)\n",
      "\n",
      "Loss at iteration 12 of determinized model: Losses(total: 0.908, policy: 0.297, value: 0.597, l2: 0.013)\n",
      "\n",
      "Loss at iteration 13 of determinized model: Losses(total: 0.815, policy: 0.200, value: 0.602, l2: 0.013)\n",
      "\n",
      "Loss at iteration 14 of determinized model: Losses(total: 1.474, policy: 0.443, value: 1.018, l2: 0.013)\n",
      "\n",
      "Loss at iteration 15 of determinized model: Losses(total: 1.405, policy: 0.323, value: 1.069, l2: 0.013)\n",
      "\n",
      "Loss at iteration 16 of determinized model: Losses(total: 1.052, policy: 0.244, value: 0.795, l2: 0.013)\n",
      "\n",
      "Loss at iteration 17 of determinized model: Losses(total: 0.992, policy: 0.217, value: 0.763, l2: 0.012)\n",
      "\n",
      "Loss at iteration 18 of determinized model: Losses(total: 0.928, policy: 0.169, value: 0.747, l2: 0.012)\n",
      "\n",
      "Loss at iteration 19 of determinized model: Losses(total: 0.828, policy: 0.177, value: 0.639, l2: 0.012)\n",
      "\n",
      "Loss at iteration 20 of determinized model: Losses(total: 0.894, policy: 0.243, value: 0.639, l2: 0.012)\n",
      "\n",
      "Loss at iteration 21 of determinized model: Losses(total: 0.853, policy: 0.225, value: 0.615, l2: 0.012)\n",
      "\n",
      "Loss at iteration 22 of determinized model: Losses(total: 1.016, policy: 0.108, value: 0.896, l2: 0.012)\n",
      "\n",
      "Loss at iteration 23 of determinized model: Losses(total: 1.332, policy: 0.454, value: 0.866, l2: 0.012)\n",
      "\n",
      "Loss at iteration 24 of determinized model: Losses(total: 1.536, policy: 0.608, value: 0.916, l2: 0.012)\n",
      "\n",
      "Loss at iteration 25 of determinized model: Losses(total: 1.115, policy: 0.385, value: 0.718, l2: 0.012)\n",
      "\n",
      "Loss at iteration 26 of determinized model: Losses(total: 0.886, policy: 0.207, value: 0.667, l2: 0.012)\n",
      "\n",
      "Loss at iteration 27 of determinized model: Losses(total: 0.815, policy: 0.113, value: 0.690, l2: 0.012)\n",
      "\n",
      "Loss at iteration 28 of determinized model: Losses(total: 0.764, policy: 0.138, value: 0.614, l2: 0.012)\n",
      "\n",
      "Loss at iteration 29 of determinized model: Losses(total: 0.976, policy: 0.259, value: 0.705, l2: 0.012)\n",
      "\n"
     ]
    }
   ],
   "source": [
    "for i in range(30):\n",
    "    losses = []\n",
    "    \n",
    "    collect_trajectories(replay_buffer)\n",
    "    \n",
    "    for _ in range(100 // 20):\n",
    "        data = replay_buffer.sample(20)\n",
    "        \n",
    "        \n",
    "        losses.append(determinized_model.update(data))\n",
    "        \n",
    "    losses = sum(losses, model_lib.Losses(0, 0, 0)) / len(losses)\n",
    "        \n",
    "    print(f\"Loss at iteration {i} of determinized model: {losses}\")\n",
    "    \n",
    "    print(\"\")"
   ]
  },
  {
   "cell_type": "markdown",
   "metadata": {},
   "source": [
    "# Evaluations"
   ]
  },
  {
   "cell_type": "code",
   "execution_count": 26,
   "metadata": {},
   "outputs": [],
   "source": [
    "game_returns = []\n",
    "for _ in range(100):\n",
    "    actions = []\n",
    "    state = game.new_initial_state()\n",
    "    information_set_generator = InformationSetGenerator(game)\n",
    "    \n",
    "    ii_mcts_bot = ImperfectInformationMCTSBot(game,\n",
    "                                            uct_c,\n",
    "                                                  max_simulations,\n",
    "                                                  evaluator,\n",
    "                                                  False,\n",
    "                                                  child_selection_fn=SearchNode.puct_value)\n",
    "    \n",
    "    while not state.is_terminal():\n",
    "\n",
    "        # environment state\n",
    "        if state.current_player() < 0:\n",
    "            action = np.random.choice(state.legal_actions())\n",
    "\n",
    "            action_str = state.action_to_string(state.current_player(), action)\n",
    "            actions.append(action_str)\n",
    "\n",
    "            information_set_generator.register_action(action)\n",
    "            state.apply_action(action)\n",
    "            information_set_generator.register_observation(state)\n",
    "\n",
    "        # player 1 as a MCTS bot\n",
    "        elif state.current_player() == 0:\n",
    "            policy = mcts_agent(state, information_set_generator)\n",
    "            action = np.argmax(policy)\n",
    "\n",
    "            action_str = state.action_to_string(state.current_player(), action)\n",
    "            actions.append(action_str)\n",
    "\n",
    "            information_set_generator.register_action(action)\n",
    "            state.apply_action(action)\n",
    "            information_set_generator.register_observation(state)\n",
    "\n",
    "        # player 2 as IIG-MCTS bot\n",
    "        else:\n",
    "            # action = np.random.choice(state.legal_actions())\n",
    "            \n",
    "            state_masked_policy, game_node_policy, guess_state, state_mask = ii_mcts_agent(\n",
    "                                                                     information_set_generator, \n",
    "                                                                     state_to_value, \n",
    "                                                                     ii_mcts_bot)\n",
    "            action = np.argmax(game_node_policy)\n",
    "\n",
    "            action_str = state.action_to_string(state.current_player(), action)\n",
    "            actions.append(action_str)\n",
    "\n",
    "            information_set_generator.register_action(action)\n",
    "            state.apply_action(action)\n",
    "            information_set_generator.register_observation(state)\n",
    "\n",
    "\n",
    "    #print(actions)       \n",
    "    #print(state.returns())\n",
    "    #print()\n",
    "    game_returns.append(state.returns())"
   ]
  },
  {
   "cell_type": "code",
   "execution_count": 27,
   "metadata": {},
   "outputs": [
    {
     "name": "stdout",
     "output_type": "stream",
     "text": [
      "Average return: [-0.18  0.18]\n"
     ]
    }
   ],
   "source": [
    "game_returns = np.array(game_returns)\n",
    "print(f\"Average return: {game_returns.mean(axis=0)}\")"
   ]
  },
  {
   "cell_type": "code",
   "execution_count": null,
   "metadata": {},
   "outputs": [],
   "source": []
  }
 ],
 "metadata": {
  "kernelspec": {
   "display_name": "Python 3",
   "language": "python",
   "name": "python3"
  },
  "language_info": {
   "codemirror_mode": {
    "name": "ipython",
    "version": 3
   },
   "file_extension": ".py",
   "mimetype": "text/x-python",
   "name": "python",
   "nbconvert_exporter": "python",
   "pygments_lexer": "ipython3",
   "version": "3.8.5"
  }
 },
 "nbformat": 4,
 "nbformat_minor": 4
}
