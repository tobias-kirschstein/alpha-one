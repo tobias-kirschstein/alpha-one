{
 "cells": [
  {
   "cell_type": "code",
   "execution_count": 1,
   "metadata": {},
   "outputs": [],
   "source": [
    "import pyspiel\n",
    "from open_spiel.python.observation import make_observation"
   ]
  },
  {
   "cell_type": "code",
   "execution_count": 2,
   "metadata": {},
   "outputs": [
    {
     "name": "stdout",
     "output_type": "stream",
     "text": [
      "[0, 1, 2, 3, 4, 5]\n"
     ]
    }
   ],
   "source": [
    "game = pyspiel.load_game(\"leduc_poker\")\n",
    "state = game.new_initial_state()\n",
    "print(state.legal_actions())"
   ]
  },
  {
   "cell_type": "code",
   "execution_count": 3,
   "metadata": {},
   "outputs": [],
   "source": [
    "state.apply_action(0)\n",
    "state.apply_action(2)"
   ]
  },
  {
   "cell_type": "code",
   "execution_count": 4,
   "metadata": {},
   "outputs": [],
   "source": [
    "class player_observation_tree:\n",
    "    \n",
    "    def __init__(self, game, player_id):\n",
    "        self.player = player_id\n",
    "        \n",
    "        self.observation = make_observation(\n",
    "        game,\n",
    "        pyspiel.IIGObservationType(\n",
    "                                perfect_recall=False,\n",
    "                                public_info=False,\n",
    "                                private_info=pyspiel.PrivateInfoType.SINGLE_PLAYER))\n",
    "        \n",
    "        \n",
    "        \n",
    "    def get_private_observations(self, state):\n",
    "        self.observation.set_from(state, player=self.player)\n",
    "        return self.observation.tensor\n",
    "    \n",
    "    \n",
    "class game_tree:\n",
    "    \n",
    "    def __init__(self, game):\n",
    "        self.observation = make_observation(\n",
    "        game,\n",
    "        pyspiel.IIGObservationType(\n",
    "                                perfect_recall=False,\n",
    "                                public_info=True,\n",
    "                                private_info=pyspiel.PrivateInfoType.ALL_PLAYERS))\n",
    "        \n",
    "        \n",
    "    def get_all_childs(self, state):\n",
    "        \n",
    "        if (state.current_player() == 0):\n",
    "            player = 0\n",
    "        else:\n",
    "            player = 1\n",
    "        \n",
    "        actions_child_states = {}\n",
    "        for action in state.legal_actions():\n",
    "            child_state = state.child(action)\n",
    "            self.observation.set_from(child_state, player=player)\n",
    "            actions_child_states[action] = self.observation.tensor\n",
    "            \n",
    "        return actions_child_states\n",
    "    \n",
    "    \n",
    "class public_observation_tree:\n",
    "    \n",
    "    def __init__(self, game):\n",
    "        \n",
    "        self.observation = make_observation(\n",
    "        game,\n",
    "        pyspiel.IIGObservationType(\n",
    "                                perfect_recall=False,\n",
    "                                public_info=True,\n",
    "                                private_info=pyspiel.PrivateInfoType.NONE))\n",
    "        \n",
    "        \n",
    "        \n",
    "    def get_public_observations(self,state):\n",
    "        \n",
    "        if (state.current_player() == 0):\n",
    "            self.observation.set_from(state, player=0)\n",
    "            return self.observation.tensor\n",
    "        \n",
    "        self.observation.set_from(state, player=1)\n",
    "        return self.observation.tensor\n",
    "    "
   ]
  },
  {
   "cell_type": "code",
   "execution_count": 5,
   "metadata": {},
   "outputs": [
    {
     "name": "stdout",
     "output_type": "stream",
     "text": [
      "[1. 0. 1. 0. 0. 0. 0. 0.]\n"
     ]
    }
   ],
   "source": [
    "first_player_tree = player_observation_tree(game, 0)\n",
    "print(first_player_tree.get_private_observations(state))"
   ]
  },
  {
   "cell_type": "code",
   "execution_count": 6,
   "metadata": {},
   "outputs": [
    {
     "name": "stdout",
     "output_type": "stream",
     "text": [
      "[1. 0. 1. 0. 0. 0. 0. 0.]\n"
     ]
    }
   ],
   "source": [
    "second_player_tree = player_observation_tree(game, 1)\n",
    "print(first_player_tree.get_private_observations(state))"
   ]
  },
  {
   "cell_type": "code",
   "execution_count": 7,
   "metadata": {},
   "outputs": [
    {
     "name": "stdout",
     "output_type": "stream",
     "text": [
      "[1. 0. 0. 0. 0. 0. 0. 0. 1. 1.]\n"
     ]
    }
   ],
   "source": [
    "public_observation_tree = public_observation_tree(game)\n",
    "print(public_observation_tree.get_public_observations(state))"
   ]
  },
  {
   "cell_type": "code",
   "execution_count": 8,
   "metadata": {},
   "outputs": [
    {
     "name": "stdout",
     "output_type": "stream",
     "text": [
      "{1: array([1., 0., 1., 0., 0., 0., 0., 0., 0., 0., 1., 0., 0., 0., 0., 0., 0.,\n",
      "       0., 0., 0., 3., 1.], dtype=float32), 2: array([1., 0., 1., 0., 0., 0., 0., 0., 0., 0., 1., 0., 0., 0., 0., 0., 0.,\n",
      "       0., 0., 0., 3., 1.], dtype=float32)}\n"
     ]
    }
   ],
   "source": [
    "game_tree = game_tree(game)\n",
    "print(game_tree.get_all_childs(state))\n"
   ]
  },
  {
   "cell_type": "code",
   "execution_count": null,
   "metadata": {},
   "outputs": [],
   "source": []
  },
  {
   "cell_type": "code",
   "execution_count": null,
   "metadata": {},
   "outputs": [],
   "source": []
  }
 ],
 "metadata": {
  "kernelspec": {
   "display_name": "Python 3",
   "language": "python",
   "name": "python3"
  },
  "language_info": {
   "codemirror_mode": {
    "name": "ipython",
    "version": 3
   },
   "file_extension": ".py",
   "mimetype": "text/x-python",
   "name": "python",
   "nbconvert_exporter": "python",
   "pygments_lexer": "ipython3",
   "version": "3.8.5"
  }
 },
 "nbformat": 4,
 "nbformat_minor": 2
}
