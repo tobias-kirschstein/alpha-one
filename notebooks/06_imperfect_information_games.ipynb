{
 "cells": [
  {
   "cell_type": "code",
   "execution_count": 88,
   "metadata": {},
   "outputs": [],
   "source": [
    "import pyspiel\n",
    "from open_spiel.python.algorithms import get_all_states\n",
    "from open_spiel.python.observation import make_observation"
   ]
  },
  {
   "cell_type": "code",
   "execution_count": 89,
   "metadata": {},
   "outputs": [],
   "source": [
    "game = pyspiel.load_game(\"leduc_poker\")\n",
    "state = game.new_initial_state()"
   ]
  },
  {
   "cell_type": "code",
   "execution_count": 90,
   "metadata": {},
   "outputs": [
    {
     "name": "stdout",
     "output_type": "stream",
     "text": [
      "[0, 1, 2, 3, 4, 5]\n"
     ]
    }
   ],
   "source": [
    "# perfect_recall: if true, each observation must allow the observing player to\n",
    "#                 reconstruct their history of actions and observations.\n",
    "# public_info:  if true, the observation should include public information\n",
    "# private_info: specifies for which players private information should be\n",
    "#                included - all players, the observing player, or no players\n",
    "\n",
    "observation = make_observation(\n",
    "        game,\n",
    "        pyspiel.IIGObservationType(\n",
    "            perfect_recall=True,\n",
    "            public_info=True,\n",
    "            private_info=pyspiel.PrivateInfoType.ALL_PLAYERS))\n",
    "print(state.legal_actions())\n",
    "\n",
    "\n",
    "state.apply_action(1)"
   ]
  },
  {
   "cell_type": "code",
   "execution_count": 91,
   "metadata": {},
   "outputs": [
    {
     "name": "stdout",
     "output_type": "stream",
     "text": [
      "['player', 'private_cards', 'community_card', 'betting']\n",
      "[[0. 1. 0. 0. 0. 0.]\n",
      " [0. 0. 0. 0. 0. 0.]]\n",
      "[0. 0. 0. 0. 0. 0.]\n"
     ]
    }
   ],
   "source": [
    "observation.set_from(state, player=0)\n",
    "print(list(observation.dict))\n",
    "print(observation.dict[\"private_cards\"])\n",
    "print(observation.dict[\"community_card\"])"
   ]
  },
  {
   "cell_type": "code",
   "execution_count": 92,
   "metadata": {},
   "outputs": [
    {
     "name": "stdout",
     "output_type": "stream",
     "text": [
      "['player', 'private_cards', 'community_card', 'betting']\n",
      "[[0. 1. 0. 0. 0. 0.]\n",
      " [0. 0. 0. 0. 0. 0.]]\n",
      "[0. 0. 0. 0. 0. 0.]\n"
     ]
    }
   ],
   "source": [
    "observation.set_from(state, player=1)\n",
    "print(list(observation.dict))\n",
    "print(observation.dict[\"private_cards\"])\n",
    "print(observation.dict[\"community_card\"])"
   ]
  },
  {
   "cell_type": "code",
   "execution_count": 93,
   "metadata": {},
   "outputs": [
    {
     "name": "stdout",
     "output_type": "stream",
     "text": [
      "[0. 1. 0. 1. 0. 0. 0. 0. 0. 0. 0. 0. 0. 0. 0. 0. 0. 0. 0. 0. 0. 0. 0. 0.\n",
      " 0. 0. 0. 0. 0. 0. 0. 0. 0. 0. 0. 0.]\n"
     ]
    }
   ],
   "source": [
    "print(observation.tensor)"
   ]
  },
  {
   "cell_type": "code",
   "execution_count": null,
   "metadata": {},
   "outputs": [],
   "source": []
  }
 ],
 "metadata": {
  "kernelspec": {
   "display_name": "Python 3",
   "language": "python",
   "name": "python3"
  },
  "language_info": {
   "codemirror_mode": {
    "name": "ipython",
    "version": 3
   },
   "file_extension": ".py",
   "mimetype": "text/x-python",
   "name": "python",
   "nbconvert_exporter": "python",
   "pygments_lexer": "ipython3",
   "version": "3.8.5"
  }
 },
 "nbformat": 4,
 "nbformat_minor": 2
}
