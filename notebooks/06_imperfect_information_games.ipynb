{
 "cells": [
  {
   "cell_type": "code",
   "execution_count": 1,
   "metadata": {},
   "outputs": [],
   "source": [
    "import pyspiel\n",
    "from open_spiel.python.observation import make_observation\n",
    "from open_spiel.python.algorithms import get_all_states\n",
    "from open_spiel.python.algorithms.alpha_zero import model as model_lib"
   ]
  },
  {
   "cell_type": "code",
   "execution_count": 2,
   "metadata": {},
   "outputs": [
    {
     "name": "stdout",
     "output_type": "stream",
     "text": [
      "9300\n"
     ]
    }
   ],
   "source": [
    "game = pyspiel.load_game(\"leduc_poker\")\n",
    "states = get_all_states.get_all_states(game, to_string=str)\n",
    "print(len(states))"
   ]
  },
  {
   "cell_type": "code",
   "execution_count": 3,
   "metadata": {},
   "outputs": [
    {
     "name": "stdout",
     "output_type": "stream",
     "text": [
      "[0, 1, 2, 3, 4, 5]\n"
     ]
    }
   ],
   "source": [
    "state = game.new_initial_state()\n",
    "print(state.legal_actions())"
   ]
  },
  {
   "cell_type": "code",
   "execution_count": null,
   "metadata": {},
   "outputs": [],
   "source": [
    "state.apply_action(0)\n",
    "state.apply_action(2)"
   ]
  },
  {
   "cell_type": "code",
   "execution_count": null,
   "metadata": {},
   "outputs": [],
   "source": [
    "class player_observation_tree:\n",
    "    \n",
    "    def __init__(self, game, player_id):\n",
    "        self.player = player_id\n",
    "        \n",
    "        # perfect_recall: if true, each observation must allow the observing player to\n",
    "        #                 reconstruct their history of actions and observations.\n",
    "        # public_info:    if true, the observation should include public information\n",
    "        # private_info:   specifies for which players private information should be\n",
    "        #                 included - all players, the observing player, or no players\n",
    "        # we can set public_info to True while feeding into the NN to get predicted true state \n",
    "        self.observation = make_observation(\n",
    "        game,\n",
    "        pyspiel.IIGObservationType(\n",
    "                                perfect_recall=False,\n",
    "                                public_info=False,\n",
    "                                private_info=pyspiel.PrivateInfoType.SINGLE_PLAYER))\n",
    "        \n",
    "        \n",
    "        \n",
    "    def get_private_observations(self, state):\n",
    "        self.observation.set_from(state, player=self.player)\n",
    "        return self.observation.tensor\n",
    "    \n",
    "    \n",
    "class game_tree:\n",
    "    \n",
    "    def __init__(self, game):\n",
    "        self.observation = make_observation(\n",
    "        game,\n",
    "        pyspiel.IIGObservationType(\n",
    "                                perfect_recall=False,\n",
    "                                public_info=True,\n",
    "                                private_info=pyspiel.PrivateInfoType.ALL_PLAYERS))\n",
    "        \n",
    "        \n",
    "    def get_all_childs(self, state):\n",
    "        \n",
    "        if (state.current_player() == 0):\n",
    "            player = 0\n",
    "        else:\n",
    "            player = 1\n",
    "        \n",
    "        actions_child_states = {}\n",
    "        for action in state.legal_actions():\n",
    "            child_state = state.child(action)\n",
    "            self.observation.set_from(child_state, player=player)\n",
    "            actions_child_states[action] = self.observation.tensor\n",
    "            \n",
    "        return actions_child_states\n",
    "    \n",
    "    \n",
    "class public_observation_tree:\n",
    "    \n",
    "    def __init__(self, game):\n",
    "        \n",
    "        self.observation = make_observation(\n",
    "        game,\n",
    "        pyspiel.IIGObservationType(\n",
    "                                perfect_recall=False,\n",
    "                                public_info=True,\n",
    "                                private_info=pyspiel.PrivateInfoType.NONE))\n",
    "        \n",
    "        \n",
    "        \n",
    "    def get_public_observations(self,state):\n",
    "        \n",
    "        if (state.current_player() == 0):\n",
    "            self.observation.set_from(state, player=0)\n",
    "            return self.observation.tensor\n",
    "        \n",
    "        self.observation.set_from(state, player=1)\n",
    "        return self.observation.tensor\n",
    "    "
   ]
  },
  {
   "cell_type": "code",
   "execution_count": null,
   "metadata": {},
   "outputs": [],
   "source": [
    "first_player_tree = player_observation_tree(game, 0)\n",
    "print(first_player_tree.get_private_observations(state))"
   ]
  },
  {
   "cell_type": "code",
   "execution_count": null,
   "metadata": {},
   "outputs": [],
   "source": [
    "second_player_tree = player_observation_tree(game, 1)\n",
    "print(first_player_tree.get_private_observations(state))"
   ]
  },
  {
   "cell_type": "code",
   "execution_count": null,
   "metadata": {},
   "outputs": [],
   "source": [
    "public_observation_tree = public_observation_tree(game)\n",
    "print(public_observation_tree.get_public_observations(state))"
   ]
  },
  {
   "cell_type": "code",
   "execution_count": null,
   "metadata": {},
   "outputs": [],
   "source": [
    "game_tree = game_tree(game)\n",
    "print(game_tree.get_all_childs(state))\n"
   ]
  },
  {
   "cell_type": "code",
   "execution_count": null,
   "metadata": {},
   "outputs": [],
   "source": [
    "first_player_tree = player_observation_tree(game, 0)\n",
    "a = first_player_tree.get_private_observations(state)\n",
    "print(a.shape[0])\n",
    "print(game.observation_tensor_shape())"
   ]
  },
  {
   "cell_type": "code",
   "execution_count": null,
   "metadata": {},
   "outputs": [],
   "source": [
    "model_saves_path_1 = '../model_saves/poker/state_model'\n",
    "model_saves_path_2 = '../model_saves/poker/observation_model'\n",
    "\n",
    "state_model = model_lib.Model.build_model(\n",
    "      \"mlp\", game.observation_tensor_shape(), game.num_distinct_actions(),\n",
    "      nn_width=10, nn_depth=5, weight_decay=0.0001, learning_rate=0.001, path=model_saves_path_1)\n",
    "\n",
    "\n",
    "observation_model = model_lib.Model.build_model(\n",
    "      \"mlp\", [a.shape[0]], game.num_distinct_actions(),\n",
    "      nn_width=10, nn_depth=5, weight_decay=0.0001, learning_rate=0.001, path=model_saves_path_2)"
   ]
  },
  {
   "cell_type": "code",
   "execution_count": null,
   "metadata": {},
   "outputs": [],
   "source": [
    "print(state.current_player())\n",
    "\n",
    "# here we clone the state to guess the game state for other player\n",
    "state_clone = state.clone()\n",
    "\n",
    "# player 0 plays the action in the start\n",
    "value, policy = state_model.inference([state.observation_tensor()], [state.legal_actions_mask()])\n",
    "print(value)\n",
    "print(policy)\n",
    "state.apply_action(1)\n",
    "print(state.observation_tensor())"
   ]
  },
  {
   "cell_type": "code",
   "execution_count": null,
   "metadata": {},
   "outputs": [],
   "source": [
    "print(state.current_player())\n",
    "print(state_clone.legal_actions())\n",
    "\n",
    "# we get the private observation for the player 1 using true state\n",
    "b = second_player_tree.get_private_observations(state)\n",
    "\n",
    "# we pass the private observation and state_clone legal masks\n",
    "value, policy = observation_model.inference([b], [state_clone.legal_actions_mask()])\n",
    "print(value)\n",
    "print(policy)"
   ]
  },
  {
   "cell_type": "code",
   "execution_count": null,
   "metadata": {},
   "outputs": [],
   "source": [
    "# we guess the state by applying the action\n",
    "guess_state = state_clone.child(1)\n",
    "\n",
    "# just checking whether guess state observations and true state observations are same or not\n",
    "print(guess_state.observation_tensor())"
   ]
  },
  {
   "cell_type": "code",
   "execution_count": null,
   "metadata": {},
   "outputs": [],
   "source": []
  }
 ],
 "metadata": {
  "kernelspec": {
   "display_name": "Python 3",
   "language": "python",
   "name": "python3"
  },
  "language_info": {
   "codemirror_mode": {
    "name": "ipython",
    "version": 3
   },
   "file_extension": ".py",
   "mimetype": "text/x-python",
   "name": "python",
   "nbconvert_exporter": "python",
   "pygments_lexer": "ipython3",
   "version": "3.8.5"
  }
 },
 "nbformat": 4,
 "nbformat_minor": 2
}
