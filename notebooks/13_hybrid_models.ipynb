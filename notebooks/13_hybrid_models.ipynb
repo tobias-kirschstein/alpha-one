{
 "cells": [
  {
   "cell_type": "code",
   "execution_count": 1,
   "id": "voluntary-binding",
   "metadata": {},
   "outputs": [
    {
     "name": "stdout",
     "output_type": "stream",
     "text": [
      "/mnt/d/ownCloud/Uni/Semester Ma 5/Advanced Deep Learning for Robotics (IN2349)/Project/tum-adlr-ws20-9\n"
     ]
    }
   ],
   "source": [
    "%cd ..\n",
    "%reload_ext autoreload\n",
    "%autoreload 2"
   ]
  },
  {
   "cell_type": "code",
   "execution_count": 2,
   "id": "neural-triumph",
   "metadata": {},
   "outputs": [
    {
     "name": "stdout",
     "output_type": "stream",
     "text": [
      "WARNING:tensorflow:From /opt/anaconda3/envs/alpha_one/lib/python3.8/site-packages/tensorflow/python/compat/v2_compat.py:96: disable_resource_variables (from tensorflow.python.ops.variable_scope) is deprecated and will be removed in a future version.\n",
      "Instructions for updating:\n",
      "non-resource variables are not supported in the long term\n"
     ]
    }
   ],
   "source": [
    "import pyspiel\n",
    "\n",
    "from alpha_one.model.model_manager import OpenSpielCheckpointManager, AlphaOneCheckpointManager\n",
    "from alpha_one.model.agent import HybridAlphaOneDMCTSAgent, DMCTSAgent, IIGMCTSAgent\n",
    "from alpha_one.utils.state_to_value import state_to_value\n",
    "from alpha_one.utils.statemask import get_state_mask\n",
    "from alpha_one.utils.play import VerboseGameMachine\n",
    "from alpha_one.utils.mcts import MCTSConfig\n",
    "from alpha_one.utils.mcts_II import IIGMCTSConfig"
   ]
  },
  {
   "cell_type": "markdown",
   "id": "noble-bathroom",
   "metadata": {},
   "source": [
    " 1) AlphaOne observation model + D-MCTS\n",
    " 2) Use cheating model instead of game model in AlphaOne"
   ]
  },
  {
   "cell_type": "markdown",
   "id": "supreme-section",
   "metadata": {},
   "source": [
    "# 1. Hybrid: AlphaOne observation model + D-MCTS"
   ]
  },
  {
   "cell_type": "code",
   "execution_count": 3,
   "id": "digital-private",
   "metadata": {},
   "outputs": [],
   "source": [
    "game_name = 'leduc_poker'"
   ]
  },
  {
   "cell_type": "markdown",
   "id": "blind-parcel",
   "metadata": {},
   "source": [
    "## 1.1. Load models"
   ]
  },
  {
   "cell_type": "code",
   "execution_count": 4,
   "id": "eleven-satin",
   "metadata": {},
   "outputs": [],
   "source": [
    "run_name_d_mcts = 'LP-DMCTS'\n",
    "run_name_alpha_one = 'LP-local-43'"
   ]
  },
  {
   "cell_type": "code",
   "execution_count": 5,
   "id": "pressed-elder",
   "metadata": {},
   "outputs": [
    {
     "name": "stdout",
     "output_type": "stream",
     "text": [
      "WARNING:tensorflow:From /opt/anaconda3/envs/alpha_one/lib/python3.8/site-packages/tensorflow/python/ops/resource_variable_ops.py:1659: calling BaseResourceVariable.__init__ (from tensorflow.python.ops.resource_variable_ops) with constraint is deprecated and will be removed in a future version.\n",
      "Instructions for updating:\n",
      "If using Keras pass *_constraint arguments to layers.\n",
      "INFO:tensorflow:Restoring parameters from /home/tobias/Uni/Semester Ma 5/Advanced Deep Learning for Robotics (IN2349)/Project/model_saves/leduc_poker/LP-DMCTS/checkpoint-12\n",
      "INFO:tensorflow:Restoring parameters from /home/tobias/Uni/Semester Ma 5/Advanced Deep Learning for Robotics (IN2349)/Project/model_saves/leduc_poker/LP-local-43-observation_model/checkpoint-11\n"
     ]
    }
   ],
   "source": [
    "model_manager_d_mcts = OpenSpielCheckpointManager(game_name, run_name_d_mcts)\n",
    "model_manager_alpha_one = AlphaOneCheckpointManager(game_name, run_name_alpha_one)\n",
    "\n",
    "d_mcts_model = model_manager_d_mcts.load_checkpoint(-1)\n",
    "observation_model = model_manager_alpha_one.load_observation_model_checkpoint(-1)"
   ]
  },
  {
   "cell_type": "markdown",
   "id": "successful-allowance",
   "metadata": {},
   "source": [
    "## 1.2. Setup Agents"
   ]
  },
  {
   "cell_type": "code",
   "execution_count": 6,
   "id": "voluntary-elephant",
   "metadata": {},
   "outputs": [],
   "source": [
    "n_previous_observations = 3\n",
    "state_to_value_dict = state_to_value(game_name)"
   ]
  },
  {
   "cell_type": "code",
   "execution_count": 7,
   "id": "potential-citizen",
   "metadata": {},
   "outputs": [],
   "source": [
    "mcts_config = MCTSConfig(\n",
    "    uct_c=5,\n",
    "    max_mcts_simulations=100,\n",
    "    temperature=1,  # Differences in policies are more visible with temperature = 1\n",
    "    determinized_MCTS=True,\n",
    "    use_reward_policy=False)"
   ]
  },
  {
   "cell_type": "code",
   "execution_count": 8,
   "id": "regional-tsunami",
   "metadata": {},
   "outputs": [],
   "source": [
    "hybrid_alpha_one_dmcts_agent = HybridAlphaOneDMCTSAgent(d_mcts_model, observation_model, mcts_config, state_to_value_dict, n_previous_observations)\n",
    "d_mcts_agent = DMCTSAgent(d_mcts_model, mcts_config)"
   ]
  },
  {
   "cell_type": "markdown",
   "id": "administrative-disability",
   "metadata": {},
   "source": [
    "## 1.3. Play Game\n"
   ]
  },
  {
   "cell_type": "code",
   "execution_count": 9,
   "id": "considerable-metropolitan",
   "metadata": {},
   "outputs": [],
   "source": [
    "game_machine = VerboseGameMachine(game_name)\n",
    "\n",
    "game_machine.new_game()\n",
    "game_machine.play_action(0)\n",
    "game_machine.play_action(4)\n",
    "game_machine.play_action(2)\n",
    "game_machine.play_action(2)\n",
    "game_machine.play_action(1)\n",
    "game_machine.play_action(5)"
   ]
  },
  {
   "cell_type": "code",
   "execution_count": 10,
   "id": "worse-proxy",
   "metadata": {},
   "outputs": [
    {
     "data": {
      "text/plain": [
       "(2, array([0.        , 0.68678541, 0.31321459]))"
      ]
     },
     "execution_count": 10,
     "metadata": {},
     "output_type": "execute_result"
    }
   ],
   "source": [
    "hybrid_alpha_one_dmcts_agent.next_move(game_machine.get_information_set_generator())"
   ]
  },
  {
   "cell_type": "code",
   "execution_count": 11,
   "id": "statewide-slovak",
   "metadata": {},
   "outputs": [
    {
     "data": {
      "text/plain": [
       "(1, array([0.        , 0.67972869, 0.32027131]))"
      ]
     },
     "execution_count": 11,
     "metadata": {},
     "output_type": "execute_result"
    }
   ],
   "source": [
    "d_mcts_agent.next_move(game_machine.get_information_set_generator())"
   ]
  },
  {
   "cell_type": "markdown",
   "id": "original-classroom",
   "metadata": {},
   "source": [
    "# 2. Hybrid AlphaOne + Omniscient Model as game model"
   ]
  },
  {
   "cell_type": "code",
   "execution_count": 36,
   "id": "gorgeous-quantity",
   "metadata": {},
   "outputs": [],
   "source": [
    "game_name = 'leduc_poker'\n",
    "game = pyspiel.load_game(game_name)"
   ]
  },
  {
   "cell_type": "markdown",
   "id": "serial-specific",
   "metadata": {},
   "source": [
    "## 2.1. Load Models"
   ]
  },
  {
   "cell_type": "code",
   "execution_count": 44,
   "id": "alpha-target",
   "metadata": {},
   "outputs": [],
   "source": [
    "run_name_alpha_one = 'LP-local-43'\n",
    "run_name_omniscient = 'LP-local-6'"
   ]
  },
  {
   "cell_type": "code",
   "execution_count": 50,
   "id": "federal-twins",
   "metadata": {},
   "outputs": [
    {
     "name": "stdout",
     "output_type": "stream",
     "text": [
      "INFO:tensorflow:Restoring parameters from /home/tobias/Uni/Semester Ma 5/Advanced Deep Learning for Robotics (IN2349)/Project/model_saves/leduc_poker/LP-local-6/checkpoint-8\n",
      "INFO:tensorflow:Restoring parameters from /home/tobias/Uni/Semester Ma 5/Advanced Deep Learning for Robotics (IN2349)/Project/model_saves/leduc_poker/LP-local-43-observation_model/checkpoint-11\n",
      "INFO:tensorflow:Restoring parameters from /home/tobias/Uni/Semester Ma 5/Advanced Deep Learning for Robotics (IN2349)/Project/model_saves/leduc_poker/LP-local-43-game_model/checkpoint-11\n"
     ]
    }
   ],
   "source": [
    "model_manager_omniscient = OpenSpielCheckpointManager(game_name, run_name_omniscient)\n",
    "model_manager_alpha_one = AlphaOneCheckpointManager(game_name, run_name_alpha_one)\n",
    "\n",
    "omniscient_model = model_manager_omniscient.load_checkpoint(-1)\n",
    "observation_model, game_model = model_manager_alpha_one.load_checkpoint(-1)"
   ]
  },
  {
   "cell_type": "markdown",
   "id": "finite-possession",
   "metadata": {},
   "source": [
    "## 2.2. Setup Agents"
   ]
  },
  {
   "cell_type": "code",
   "execution_count": 76,
   "id": "joint-inside",
   "metadata": {},
   "outputs": [],
   "source": [
    "alpha_one_mcts_config = IIGMCTSConfig(\n",
    "    uct_c=10,\n",
    "    max_mcts_simulations=100,\n",
    "    temperature=1,\n",
    "    use_reward_policy=True,\n",
    "    alpha_one=True,\n",
    "    state_to_value=state_to_value_dict,\n",
    "    n_previous_observations=3,\n",
    "    optimism=0.1)"
   ]
  },
  {
   "cell_type": "code",
   "execution_count": 77,
   "id": "adverse-prime",
   "metadata": {},
   "outputs": [],
   "source": [
    "hybrid_alpha_one_agent = IIGMCTSAgent.from_config(game, observation_model, omniscient_model, alpha_one_mcts_config)\n",
    "alpha_one_agent = IIGMCTSAgent.from_config(game, observation_model, game_model, alpha_one_mcts_config)"
   ]
  },
  {
   "cell_type": "markdown",
   "id": "portuguese-scheduling",
   "metadata": {},
   "source": [
    "## 2.3. Play Game"
   ]
  },
  {
   "cell_type": "code",
   "execution_count": 78,
   "id": "becoming-juice",
   "metadata": {},
   "outputs": [],
   "source": [
    "game_machine = VerboseGameMachine(game_name)\n",
    "\n",
    "game_machine.new_game()\n",
    "game_machine.play_action(0)\n",
    "game_machine.play_action(4)\n",
    "game_machine.play_action(2)\n",
    "game_machine.play_action(2)\n",
    "game_machine.play_action(1)\n",
    "game_machine.play_action(5)"
   ]
  },
  {
   "cell_type": "code",
   "execution_count": 89,
   "id": "healthy-stranger",
   "metadata": {},
   "outputs": [
    {
     "data": {
      "text/plain": [
       "(1, array([0.        , 0.26522589, 0.73477411]))"
      ]
     },
     "execution_count": 89,
     "metadata": {},
     "output_type": "execute_result"
    }
   ],
   "source": [
    "hybrid_alpha_one_agent.next_move(game_machine.get_information_set_generator())"
   ]
  },
  {
   "cell_type": "code",
   "execution_count": 90,
   "id": "helpful-midwest",
   "metadata": {},
   "outputs": [
    {
     "data": {
      "text/plain": [
       "(2, array([0.        , 0.01591915, 0.98408085]))"
      ]
     },
     "execution_count": 90,
     "metadata": {},
     "output_type": "execute_result"
    }
   ],
   "source": [
    "alpha_one_agent.next_move(game_machine.get_information_set_generator())"
   ]
  },
  {
   "cell_type": "code",
   "execution_count": null,
   "id": "excited-horizon",
   "metadata": {},
   "outputs": [],
   "source": []
  }
 ],
 "metadata": {
  "kernelspec": {
   "display_name": "Python 3",
   "language": "python",
   "name": "python3"
  },
  "language_info": {
   "codemirror_mode": {
    "name": "ipython",
    "version": 3
   },
   "file_extension": ".py",
   "mimetype": "text/x-python",
   "name": "python",
   "nbconvert_exporter": "python",
   "pygments_lexer": "ipython3",
   "version": "3.8.0"
  }
 },
 "nbformat": 4,
 "nbformat_minor": 5
}
