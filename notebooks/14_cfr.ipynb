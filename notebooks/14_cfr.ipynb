{
 "cells": [
  {
   "cell_type": "code",
   "execution_count": 1,
   "id": "engaged-religion",
   "metadata": {},
   "outputs": [
    {
     "name": "stdout",
     "output_type": "stream",
     "text": [
      "/mnt/d/ownCloud/Uni/Semester Ma 5/Advanced Deep Learning for Robotics (IN2349)/Project/tum-adlr-ws20-9\n"
     ]
    }
   ],
   "source": [
    "%cd ..\n",
    "%reload_ext autoreload\n",
    "%autoreload 2"
   ]
  },
  {
   "cell_type": "code",
   "execution_count": 2,
   "id": "awful-traffic",
   "metadata": {},
   "outputs": [
    {
     "name": "stdout",
     "output_type": "stream",
     "text": [
      "WARNING:tensorflow:From /opt/anaconda3/envs/alpha_one/lib/python3.8/site-packages/tensorflow/python/compat/v2_compat.py:96: disable_resource_variables (from tensorflow.python.ops.variable_scope) is deprecated and will be removed in a future version.\n",
      "Instructions for updating:\n",
      "non-resource variables are not supported in the long term\n"
     ]
    }
   ],
   "source": [
    "import pyspiel\n",
    "from tqdm import tqdm\n",
    "from open_spiel.python.algorithms.cfr import CFRSolver, CFRPlusSolver\n",
    "from alpha_one.utils.io import save_pickled, load_pickled\n",
    "from alpha_one.model.model_manager import CFRModelManager\n",
    "from env import MODEL_SAVES_DIR"
   ]
  },
  {
   "cell_type": "code",
   "execution_count": 3,
   "id": "similar-hospital",
   "metadata": {},
   "outputs": [],
   "source": [
    "game_name = 'leduc_poker'\n",
    "prefix = 'LP-CFR'\n",
    "game = pyspiel.load_game(game_name)"
   ]
  },
  {
   "cell_type": "code",
   "execution_count": 4,
   "id": "decent-bowling",
   "metadata": {},
   "outputs": [],
   "source": [
    "model_manager = CFRModelManager(game_name, prefix)\n",
    "checkpoint_manager = model_manager.new_run()"
   ]
  },
  {
   "cell_type": "code",
   "execution_count": 5,
   "id": "invalid-baghdad",
   "metadata": {},
   "outputs": [],
   "source": [
    "num_iterations = 100"
   ]
  },
  {
   "cell_type": "code",
   "execution_count": 6,
   "id": "fatal-vulnerability",
   "metadata": {},
   "outputs": [
    {
     "name": "stderr",
     "output_type": "stream",
     "text": [
      "100%|██████████| 100/100 [01:48<00:00,  1.08s/it]\n"
     ]
    }
   ],
   "source": [
    "cfr_solver = CFRSolver(game)\n",
    "for i in tqdm(range(num_iterations)):\n",
    "    cfr_solver.evaluate_and_update_policy()"
   ]
  },
  {
   "cell_type": "code",
   "execution_count": 7,
   "id": "equivalent-stack",
   "metadata": {},
   "outputs": [],
   "source": [
    "average_policy = cfr_solver.average_policy()"
   ]
  },
  {
   "cell_type": "code",
   "execution_count": 8,
   "id": "loose-woman",
   "metadata": {},
   "outputs": [],
   "source": [
    "checkpoint_manager.store_checkpoint(average_policy, 1)"
   ]
  },
  {
   "cell_type": "code",
   "execution_count": 9,
   "id": "solved-place",
   "metadata": {},
   "outputs": [],
   "source": [
    "state = game.new_initial_state()\n",
    "state.apply_action(3)\n",
    "state.apply_action(1)\n",
    "state.apply_action(2)"
   ]
  },
  {
   "cell_type": "code",
   "execution_count": 10,
   "id": "established-painting",
   "metadata": {},
   "outputs": [
    {
     "data": {
      "text/plain": [
       "{0: 0.6852387967657865, 1: 0.23982111105733947, 2: 0.07494009217687406}"
      ]
     },
     "execution_count": 10,
     "metadata": {},
     "output_type": "execute_result"
    }
   ],
   "source": [
    "average_policy.action_probabilities(state)"
   ]
  },
  {
   "cell_type": "code",
   "execution_count": 11,
   "id": "little-cassette",
   "metadata": {},
   "outputs": [],
   "source": [
    "ap = checkpoint_manager.load_checkpoint(-1)"
   ]
  },
  {
   "cell_type": "code",
   "execution_count": 13,
   "id": "systematic-cleaning",
   "metadata": {},
   "outputs": [
    {
     "data": {
      "text/plain": [
       "{0: 0.6852387967657865, 1: 0.23982111105733947, 2: 0.07494009217687406}"
      ]
     },
     "execution_count": 13,
     "metadata": {},
     "output_type": "execute_result"
    }
   ],
   "source": [
    "average_policy.action_probabilities(state)"
   ]
  },
  {
   "cell_type": "code",
   "execution_count": null,
   "id": "noble-treasurer",
   "metadata": {},
   "outputs": [],
   "source": []
  }
 ],
 "metadata": {
  "kernelspec": {
   "display_name": "Python 3",
   "language": "python",
   "name": "python3"
  },
  "language_info": {
   "codemirror_mode": {
    "name": "ipython",
    "version": 3
   },
   "file_extension": ".py",
   "mimetype": "text/x-python",
   "name": "python",
   "nbconvert_exporter": "python",
   "pygments_lexer": "ipython3",
   "version": "3.8.0"
  }
 },
 "nbformat": 4,
 "nbformat_minor": 5
}
