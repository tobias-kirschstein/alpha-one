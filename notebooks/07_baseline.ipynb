{
 "cells": [
  {
   "cell_type": "code",
   "execution_count": 1,
   "metadata": {},
   "outputs": [
    {
     "name": "stdout",
     "output_type": "stream",
     "text": [
      "WARNING:tensorflow:From /Users/anantabhattarai/opt/anaconda3/envs/adlr/lib/python3.8/site-packages/tensorflow/python/compat/v2_compat.py:96: disable_resource_variables (from tensorflow.python.ops.variable_scope) is deprecated and will be removed in a future version.\n",
      "Instructions for updating:\n",
      "non-resource variables are not supported in the long term\n"
     ]
    }
   ],
   "source": [
    "# importing the libraries\n",
    "\n",
    "import pyspiel\n",
    "import tensorflow.compat.v1 as tf\n",
    "import numpy as np\n",
    "import matplotlib.pyplot as plt\n",
    "\n",
    "\n",
    "from open_spiel.python import policy\n",
    "from open_spiel.python import rl_environment\n",
    "from open_spiel.python.algorithms import exploitability\n",
    "from open_spiel.python.algorithms import policy_gradient\n",
    "\n",
    "from open_spiel.python.algorithms import mcts\n",
    "from open_spiel.python.algorithms.alpha_zero import evaluator as evaluator_lib\n",
    "from open_spiel.python.algorithms.alpha_zero import model as model_lib"
   ]
  },
  {
   "cell_type": "code",
   "execution_count": 2,
   "metadata": {},
   "outputs": [],
   "source": [
    "# here we build the model\n",
    "def build_model(game, model_type, nn_width, nn_depth, learning_rate, weight_decay, model_saves_path):\n",
    "    return model_lib.Model.build_model(\n",
    "      model_type, game.observation_tensor_shape(), game.num_distinct_actions(),\n",
    "      nn_width=nn_width, nn_depth=nn_depth, weight_decay=weight_decay, learning_rate=learning_rate, path=model_saves_path)\n",
    "\n",
    "# load our best model\n",
    "def load_model(iteration):\n",
    "    \n",
    "    game_name = \"connect_four\"\n",
    "    model_saves_path = '../model_saves/connect_four'\n",
    "    nn_width = 10\n",
    "    nn_depth = 5\n",
    "    learning_rate = 0.001\n",
    "    weight_decay = 0.0001\n",
    "    model_type = 'mlp'\n",
    "\n",
    "    game = pyspiel.load_game(game_name)\n",
    "    \n",
    "    new_model = build_model(game, model_type, nn_width, nn_depth, learning_rate, weight_decay, model_saves_path)\n",
    "    new_model.load_checkpoint(f\"../model_saves/connect_four/checkpoint-{iteration}\")\n",
    "    return new_model\n",
    "\n",
    "# initialize the mcts bot\n",
    "def initialize_bot(game, model, uct_c, max_simulations, policy_epsilon, policy_alpha):\n",
    "    \n",
    "    az_evaluator = evaluator_lib.AlphaZeroEvaluator(game, model)\n",
    "\n",
    "    bot = mcts.MCTSBot(\n",
    "          game,\n",
    "          uct_c,\n",
    "          max_simulations,\n",
    "          az_evaluator,\n",
    "          solve=False,\n",
    "          dirichlet_noise=None,\n",
    "          child_selection_fn=mcts.SearchNode.puct_value,\n",
    "          verbose=False)\n",
    "    \n",
    "    return bot"
   ]
  },
  {
   "cell_type": "code",
   "execution_count": 3,
   "metadata": {},
   "outputs": [
    {
     "name": "stdout",
     "output_type": "stream",
     "text": [
      "WARNING:tensorflow:From /Users/anantabhattarai/opt/anaconda3/envs/adlr/lib/python3.8/site-packages/tensorflow/python/ops/resource_variable_ops.py:1659: calling BaseResourceVariable.__init__ (from tensorflow.python.ops.resource_variable_ops) with constraint is deprecated and will be removed in a future version.\n",
      "Instructions for updating:\n",
      "If using Keras pass *_constraint arguments to layers.\n",
      "INFO:tensorflow:Restoring parameters from ../model_saves/connect_four/checkpoint-13\n"
     ]
    }
   ],
   "source": [
    "# load the game\n",
    "game = pyspiel.load_game(\"connect_four\")\n",
    "\n",
    "# load our trained model\n",
    "model = load_model(13)\n",
    "\n",
    "# RL environment configurations for policy gradient\n",
    "num_players = 2\n",
    "env_configs = {\"players\": num_players}\n",
    "env = rl_environment.Environment(game, **env_configs)\n",
    "info_state_size = env.observation_spec()[\"info_state\"][0]\n",
    "num_actions = env.action_spec()[\"num_actions\"]"
   ]
  },
  {
   "cell_type": "code",
   "execution_count": 4,
   "metadata": {},
   "outputs": [],
   "source": [
    "# Number of train episodes for policy gradient \n",
    "num_episodes = 100000"
   ]
  },
  {
   "cell_type": "code",
   "execution_count": 5,
   "metadata": {},
   "outputs": [
    {
     "name": "stdout",
     "output_type": "stream",
     "text": [
      "Win Rate of AlphaZero: 80.0%\n",
      "Win Rate of AlphaZero: 74.0%\n",
      "Win Rate of AlphaZero: 71.0%\n",
      "Win Rate of AlphaZero: 76.0%\n",
      "Win Rate of AlphaZero: 67.0%\n",
      "Win Rate of AlphaZero: 69.0%\n",
      "Win Rate of AlphaZero: 68.0%\n",
      "Win Rate of AlphaZero: 74.0%\n",
      "Win Rate of AlphaZero: 64.0%\n",
      "Win Rate of AlphaZero: 76.0%\n"
     ]
    }
   ],
   "source": [
    "with tf.Session() as sess:\n",
    "    \n",
    "    # make the policy gradient agent\n",
    "    agents = [\n",
    "              policy_gradient.PolicyGradient(\n",
    "              sess,\n",
    "              player_id=player_id,\n",
    "              info_state_size=info_state_size,\n",
    "              num_actions=num_actions,\n",
    "              loss_str=\"qpg\",\n",
    "              hidden_layers_sizes=[50, 50, 50, 50, 50],\n",
    "              batch_size=32,\n",
    "              entropy_cost=0.001,\n",
    "              critic_learning_rate=0.01,\n",
    "              pi_learning_rate=0.01,\n",
    "              num_critic_before_pi=4) for player_id in [0, 1]\n",
    "      ]\n",
    "    sess.run(tf.global_variables_initializer())\n",
    "    for ep in range(num_episodes):\n",
    "\n",
    "        time_step = env.reset()\n",
    "        while not time_step.last():\n",
    "            player_id = time_step.observations[\"current_player\"]\n",
    "            agent_output = agents[player_id].step(time_step)\n",
    "            action_list = [agent_output.action]\n",
    "            time_step = env.step(action_list)\n",
    "\n",
    "      # Episode is over, step all agents with final info state.\n",
    "        for agent in agents:\n",
    "            agent.step(time_step)\n",
    "    \n",
    "    \n",
    "    # compare our alphazero model with trained policy bot\n",
    "    track_wins = []\n",
    "    track_lost = []\n",
    "    n_evaluations = 100\n",
    "    for j in range(10):\n",
    "        wins = 0\n",
    "        for i in range(n_evaluations):\n",
    "            state = game.new_initial_state()\n",
    "            mcts_bot = initialize_bot(game, model, 2, 25, None, None)\n",
    "\n",
    "            # select the first policy bot to play against alphazero bot\n",
    "            policy_bot = agents[0]\n",
    "            while not state.is_terminal():\n",
    "                actions = []\n",
    "                temperature = 1\n",
    "                temperature_drop = 10\n",
    "\n",
    "                # if current turn is of alphazero bot\n",
    "                if state.current_player() == 0:\n",
    "                    root = mcts_bot.mcts_search(state)\n",
    "                    policy = np.zeros(game.num_distinct_actions())\n",
    "                    for c in root.children:\n",
    "                        policy[c.action] = c.explore_count\n",
    "                    policy = policy ** (1 / temperature)\n",
    "                    policy /= policy.sum()\n",
    "                    if len(actions) >= temperature_drop:\n",
    "                        action = root.best_child().action\n",
    "                    else:\n",
    "                        action = np.random.choice(len(policy), p=policy)\n",
    "\n",
    "                # if the turn is of policy bot\n",
    "                else:\n",
    "                    action, probs = policy_bot._act(state.observation_tensor(), state.legal_actions())\n",
    "\n",
    "                state.apply_action(action)\n",
    "\n",
    "            # if alphazero bot wins\n",
    "            if (state.returns()[0] == 1):\n",
    "                wins += 1\n",
    "\n",
    "        print(f\"Win Rate of AlphaZero: {wins/n_evaluations * 100}%\")\n",
    "        track_wins.append(wins/n_evaluations * 100)\n",
    "        track_lost.append((n_evaluations - wins)/n_evaluations * 100)"
   ]
  },
  {
   "cell_type": "code",
   "execution_count": 6,
   "metadata": {},
   "outputs": [
    {
     "data": {
      "image/png": "[encoded data removed]",
      "text/plain": [
       "<Figure size 432x288 with 1 Axes>"
      ]
     },
     "metadata": {
      "needs_background": "light"
     },
     "output_type": "display_data"
    }
   ],
   "source": [
    "#plots\n",
    "w = 0.4\n",
    "bar1 = np.arange(1, 10 + 1)\n",
    "bar2 = [i + w for i in bar1]\n",
    "plt.bar(bar1, track_wins, w, label=\"AlphaZero\")\n",
    "plt.bar(bar2, track_lost, w, label=\"Policy Gradient\")\n",
    "plt.xticks(bar1+w/2, bar1)\n",
    "plt.xlabel(\"Runs - Each run represents evaluation out of 100 games\")\n",
    "plt.ylabel(\"Win Rate in %\")\n",
    "plt.title(\"Head to Head - AlphaZero vs Policy Gradient\")\n",
    "plt.legend()\n",
    "plt.show()"
   ]
  },
  {
   "cell_type": "code",
   "execution_count": null,
   "metadata": {},
   "outputs": [],
   "source": []
  }
 ],
 "metadata": {
  "kernelspec": {
   "display_name": "Python 3",
   "language": "python",
   "name": "python3"
  },
  "language_info": {
   "codemirror_mode": {
    "name": "ipython",
    "version": 3
   },
   "file_extension": ".py",
   "mimetype": "text/x-python",
   "name": "python",
   "nbconvert_exporter": "python",
   "pygments_lexer": "ipython3",
   "version": "3.8.5"
  }
 },
 "nbformat": 4,
 "nbformat_minor": 2
}
