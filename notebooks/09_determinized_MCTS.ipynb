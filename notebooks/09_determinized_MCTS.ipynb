{
 "cells": [
  {
   "cell_type": "code",
   "execution_count": 1,
   "metadata": {},
   "outputs": [
    {
     "name": "stdout",
     "output_type": "stream",
     "text": [
      "/Users/anantabhattarai/Documents/TUM/ADLR/tum-adlr-ws20-9\n"
     ]
    }
   ],
   "source": [
    "%cd ..\n",
    "%reload_ext autoreload\n",
    "%autoreload 2"
   ]
  },
  {
   "cell_type": "code",
   "execution_count": 84,
   "metadata": {},
   "outputs": [],
   "source": [
    "import pyspiel\n",
    "from alpha_one.game.information_set import InformationSetGenerator\n",
    "import numpy as np\n",
    "\n",
    "from open_spiel.python.algorithms import mcts\n",
    "from open_spiel.python.algorithms.alpha_zero import evaluator as evaluator_lib\n",
    "from open_spiel.python.algorithms.alpha_zero import model as model_lib"
   ]
  },
  {
   "cell_type": "code",
   "execution_count": 85,
   "metadata": {},
   "outputs": [],
   "source": [
    "def build_model(game, model_type, nn_width, nn_depth, learning_rate, weight_decay, model_saves_path):\n",
    "    return model_lib.Model.build_model(\n",
    "      model_type, game.observation_tensor_shape(), game.num_distinct_actions(),\n",
    "      nn_width=nn_width, nn_depth=nn_depth, weight_decay=weight_decay, learning_rate=learning_rate, path=model_saves_path)"
   ]
  },
  {
   "cell_type": "code",
   "execution_count": 86,
   "metadata": {},
   "outputs": [],
   "source": [
    "def initialize_bot(game, model, uct_c, max_simulations, policy_epsilon, policy_alpha):\n",
    "    \n",
    "    if policy_epsilon == None or policy_alpha == None:\n",
    "        noise = None\n",
    "    else:\n",
    "        noise = (policy_epsilon, policy_alpha)\n",
    "        \n",
    "\n",
    "    evaluator = mcts.RandomRolloutEvaluator(n_rollouts=100)\n",
    "\n",
    "    bot = mcts.MCTSBot(\n",
    "          game,\n",
    "          uct_c,\n",
    "          max_simulations,\n",
    "          evaluator,\n",
    "          solve=False,\n",
    "          dirichlet_noise=noise,\n",
    "          child_selection_fn=mcts.SearchNode.puct_value,\n",
    "          verbose=False)\n",
    "    \n",
    "    return bot"
   ]
  },
  {
   "cell_type": "code",
   "execution_count": 87,
   "metadata": {},
   "outputs": [],
   "source": [
    "game_name = \"kuhn_poker\"\n",
    "model_saves_path = '../model_saves/kuhn_poker'\n",
    "nn_width = 10\n",
    "nn_depth = 5\n",
    "learning_rate = 0.001\n",
    "weight_decay = 0.0001\n",
    "\n",
    "model_type = 'mlp'\n",
    "\n",
    "game = pyspiel.load_game(game_name)\n",
    "    \n",
    "model = build_model(game, model_type, nn_width, nn_depth, learning_rate, weight_decay, model_saves_path)"
   ]
  },
  {
   "cell_type": "code",
   "execution_count": 88,
   "metadata": {},
   "outputs": [],
   "source": [
    "uct_c = 2                                         \n",
    "max_simulations = 100                            \n",
    "policy_epsilon = 0.25                             \n",
    "policy_alpha = 1\n",
    "temperature = 1                                   \n",
    "temperature_drop = 10    "
   ]
  },
  {
   "cell_type": "code",
   "execution_count": 89,
   "metadata": {},
   "outputs": [
    {
     "name": "stdout",
     "output_type": "stream",
     "text": [
      "['Deal:1', 'Deal:2', 'Pass', 'Bet', 'Pass']\n",
      "[-1.0, 1.0]\n"
     ]
    }
   ],
   "source": [
    "actions = []\n",
    "state = game.new_initial_state()\n",
    "information_set_generator = InformationSetGenerator(game)\n",
    "while not state.is_terminal():\n",
    "    \n",
    "    # environment state\n",
    "    if state.current_player() < 0:\n",
    "        action = np.random.choice(state.legal_actions())\n",
    "        \n",
    "        action_str = state.action_to_string(state.current_player(), action)\n",
    "        actions.append(action_str)\n",
    "        \n",
    "        information_set_generator.register_action(state.current_player(), action)\n",
    "        state.apply_action(action)\n",
    "        information_set_generator.register_observation(state)\n",
    "    \n",
    "    # player 1 as a MCTS bot\n",
    "    elif state.current_player() == 0:\n",
    "        current_player = state.current_player()\n",
    "        information_set = information_set_generator.calculate_information_set(current_player)\n",
    "        policy = np.zeros(game.num_distinct_actions())\n",
    "        \n",
    "        # Evaluate each state in the information set by MCTS independently.\n",
    "        # After the searches are completed, the numbers of visits for each action from the root \n",
    "        # are summed across all trees, \n",
    "        # and an action is chosen that maximises the total number of visits.\n",
    "        for s in information_set:\n",
    "            bot = initialize_bot(game, model, uct_c, max_simulations, policy_epsilon, policy_alpha)\n",
    "            root = bot.mcts_search(s)\n",
    "            for c in root.children:\n",
    "                policy[c.action] += c.explore_count\n",
    "                \n",
    "        #policy = policy ** (1 / temperature)\n",
    "        #policy /= policy.sum()\n",
    "        #if len(actions) >= temperature_drop:\n",
    "        \n",
    "        action = np.argmax(policy)\n",
    "        \n",
    "        #else:\n",
    "        #    action = np.random.choice(len(policy), p=policy)\n",
    "            \n",
    "        action_str = state.action_to_string(current_player, action)\n",
    "        actions.append(action_str)\n",
    "        \n",
    "        information_set_generator.register_action(current_player, action)\n",
    "        state.apply_action(action)\n",
    "        information_set_generator.register_observation(state)\n",
    "        \n",
    "    # player 2 taking random policy\n",
    "    else:\n",
    "        action = np.random.choice(state.legal_actions())\n",
    "        \n",
    "        action_str = state.action_to_string(state.current_player(), action)\n",
    "        actions.append(action_str)\n",
    "        \n",
    "        information_set_generator.register_action(state.current_player(), action)\n",
    "        state.apply_action(action)\n",
    "        information_set_generator.register_observation(state)\n",
    "        \n",
    "        \n",
    "print(actions)       \n",
    "print(state.returns())"
   ]
  },
  {
   "cell_type": "code",
   "execution_count": null,
   "metadata": {},
   "outputs": [],
   "source": []
  }
 ],
 "metadata": {
  "kernelspec": {
   "display_name": "Python 3",
   "language": "python",
   "name": "python3"
  },
  "language_info": {
   "codemirror_mode": {
    "name": "ipython",
    "version": 3
   },
   "file_extension": ".py",
   "mimetype": "text/x-python",
   "name": "python",
   "nbconvert_exporter": "python",
   "pygments_lexer": "ipython3",
   "version": "3.8.5"
  }
 },
 "nbformat": 4,
 "nbformat_minor": 4
}
