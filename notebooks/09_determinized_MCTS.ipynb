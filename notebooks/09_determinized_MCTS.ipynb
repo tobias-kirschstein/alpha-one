{
 "cells": [
  {
   "cell_type": "code",
   "execution_count": null,
   "metadata": {},
   "outputs": [],
   "source": [
    "%cd ..\n",
    "%reload_ext autoreload\n",
    "%autoreload 2"
   ]
  },
  {
   "cell_type": "code",
   "execution_count": null,
   "metadata": {},
   "outputs": [],
   "source": [
    "import pyspiel\n",
    "from alpha_one.game.information_set import InformationSetGenerator\n",
    "import numpy as np\n",
    "\n",
    "from open_spiel.python.algorithms import mcts\n",
    "from open_spiel.python.algorithms.alpha_zero import evaluator as evaluator_lib\n",
    "from open_spiel.python.algorithms.alpha_zero import model as model_lib\n",
    "from open_spiel.python.algorithms.mcts import SearchNode\n",
    "\n",
    "from alpha_one.alg.imperfect_information import BasicImperfectInformationMCTSEvaluator\n",
    "from alpha_one.alg.mcts import ImperfectInformationMCTSBot"
   ]
  },
  {
   "cell_type": "code",
   "execution_count": null,
   "metadata": {},
   "outputs": [],
   "source": [
    "def build_model(game, model_type, nn_width, nn_depth, learning_rate, weight_decay, model_saves_path):\n",
    "    return model_lib.Model.build_model(\n",
    "      model_type, game.observation_tensor_shape(), game.num_distinct_actions(),\n",
    "      nn_width=nn_width, nn_depth=nn_depth, weight_decay=weight_decay, learning_rate=learning_rate, path=model_saves_path)"
   ]
  },
  {
   "cell_type": "code",
   "execution_count": null,
   "metadata": {},
   "outputs": [],
   "source": [
    "def initialize_bot(game, model, uct_c, max_simulations, policy_epsilon, policy_alpha):\n",
    "    \n",
    "    if policy_epsilon == None or policy_alpha == None:\n",
    "        noise = None\n",
    "    else:\n",
    "        noise = (policy_epsilon, policy_alpha)\n",
    "        \n",
    "\n",
    "    evaluator = mcts.RandomRolloutEvaluator(n_rollouts=100)\n",
    "\n",
    "    bot = mcts.MCTSBot(\n",
    "          game,\n",
    "          uct_c,\n",
    "          max_simulations,\n",
    "          evaluator,\n",
    "          solve=False,\n",
    "          dirichlet_noise=noise,\n",
    "          child_selection_fn=mcts.SearchNode.puct_value,\n",
    "          verbose=False)\n",
    "    \n",
    "    return bot"
   ]
  },
  {
   "cell_type": "code",
   "execution_count": null,
   "metadata": {},
   "outputs": [],
   "source": [
    "game_name = \"kuhn_poker\"\n",
    "model_saves_path = '../model_saves/kuhn_poker'\n",
    "nn_width = 10\n",
    "nn_depth = 5\n",
    "learning_rate = 0.001\n",
    "weight_decay = 0.0001\n",
    "\n",
    "model_type = 'mlp'\n",
    "\n",
    "game = pyspiel.load_game(game_name)\n",
    "    \n",
    "model = build_model(game, model_type, nn_width, nn_depth, learning_rate, weight_decay, model_saves_path)"
   ]
  },
  {
   "cell_type": "code",
   "execution_count": null,
   "metadata": {},
   "outputs": [],
   "source": [
    "uct_c = 3                                     \n",
    "max_simulations = 100                            \n",
    "policy_epsilon = 0.25                             \n",
    "policy_alpha = 1\n",
    "temperature = 1                                   \n",
    "temperature_drop = 10    \n",
    "verbose = False"
   ]
  },
  {
   "cell_type": "code",
   "execution_count": null,
   "metadata": {},
   "outputs": [],
   "source": [
    "def print_game_tree(node, level = 0):\n",
    "    print(''.join(level * ['  ']), node, node.total_reward)\n",
    "    for c in node.children:\n",
    "        print_game_tree(c, level + 1)"
   ]
  },
  {
   "cell_type": "code",
   "execution_count": null,
   "metadata": {},
   "outputs": [],
   "source": [
    "def mcts_agent(state, information_set_generator):\n",
    "    current_player = state.current_player()\n",
    "    information_set = information_set_generator.calculate_information_set(current_player)\n",
    "    policy = np.zeros(game.num_distinct_actions())\n",
    "\n",
    "    # Evaluate each state in the information set by MCTS independently.\n",
    "    # After the searches are completed, the numbers of visits for each action from the root \n",
    "    # are summed across all trees, \n",
    "    # and an action is chosen that maximises the total number of visits.\n",
    "    for s in information_set:\n",
    "        bot = initialize_bot(game, model, uct_c, max_simulations, policy_epsilon, policy_alpha)\n",
    "        root = bot.mcts_search(s)\n",
    "        if verbose:\n",
    "            print_game_tree(root)\n",
    "        for c in root.children:\n",
    "            #policy[c.action] += c.explore_count\n",
    "            policy[c.action] += c.total_reward / c.explore_count  # Use value of node for selection\n",
    "    return policy\n"
   ]
  },
  {
   "cell_type": "code",
   "execution_count": null,
   "metadata": {},
   "outputs": [],
   "source": [
    "def ii_mcts_agent(information_set_generator):\n",
    "    root, _ = ii_mcts_bot.mcts_search(information_set_generator)\n",
    "    guess_states_values = np.zeros(len(root.children))\n",
    "    guess_states_values = [c.actual_reward / c.explore_count for c in root.children]\n",
    "    guess_state = np.argmax(guess_states_values)\n",
    "    print(f\"II guessing state {guess_state}\")\n",
    "\n",
    "    #root.investigate()\n",
    "\n",
    "    policy = np.zeros(len(root.children[guess_state].children))\n",
    "    for c in root.children[guess_state].children:\n",
    "        policy[c.action] = c.actual_reward / c.explore_count\n",
    "    return policy"
   ]
  },
  {
   "cell_type": "code",
   "execution_count": null,
   "metadata": {},
   "outputs": [],
   "source": [
    "game_returns = []\n",
    "for _ in range(100):\n",
    "    actions = []\n",
    "    state = game.new_initial_state()\n",
    "    information_set_generator = InformationSetGenerator(game)\n",
    "    \n",
    "    ii_mcts_bot = ImperfectInformationMCTSBot(game,\n",
    "                                            uct_c,\n",
    "                                                  max_simulations,\n",
    "                                                  BasicImperfectInformationMCTSEvaluator(),\n",
    "                                                  False,\n",
    "                                                  child_selection_fn=SearchNode.puct_value)\n",
    "    \n",
    "    while not state.is_terminal():\n",
    "\n",
    "        # environment state\n",
    "        if state.current_player() < 0:\n",
    "            action = np.random.choice(state.legal_actions())\n",
    "\n",
    "            action_str = state.action_to_string(state.current_player(), action)\n",
    "            actions.append(action_str)\n",
    "\n",
    "            information_set_generator.register_action(action)\n",
    "            state.apply_action(action)\n",
    "            information_set_generator.register_observation(state)\n",
    "\n",
    "        # player 1 as a MCTS bot\n",
    "        elif state.current_player() == 0:\n",
    "            policy = mcts_agent(state, information_set_generator)\n",
    "\n",
    "            #policy = policy ** (1 / temperature)\n",
    "            #policy /= policy.sum()\n",
    "            #if len(actions) >= temperature_drop:\n",
    "\n",
    "            print(f\"Policy 1: {policy}\")\n",
    "            action = np.argmax(policy)\n",
    "\n",
    "            #else:\n",
    "            #    action = np.random.choice(len(policy), p=policy)\n",
    "\n",
    "            action_str = state.action_to_string(state.current_player(), action)\n",
    "            actions.append(action_str)\n",
    "\n",
    "            information_set_generator.register_action(action)\n",
    "            state.apply_action(action)\n",
    "            information_set_generator.register_observation(state)\n",
    "\n",
    "        # player 2 as IIG-MCTS bot\n",
    "        else:\n",
    "            # action = np.random.choice(state.legal_actions())\n",
    "            \n",
    "            policy = ii_mcts_agent(information_set_generator)\n",
    "            print(f\"Policy 2: {policy}\")\n",
    "            action = np.argmax(policy)\n",
    "#             for c in root.children:\n",
    "#                 #policy[c.action] += c.explore_count\n",
    "#                 policy[c.action] += c.total_reward / c.explore_count  # Use value of node for selection\n",
    "\n",
    "            action_str = state.action_to_string(state.current_player(), action)\n",
    "            actions.append(action_str)\n",
    "\n",
    "            information_set_generator.register_action(action)\n",
    "            state.apply_action(action)\n",
    "            information_set_generator.register_observation(state)\n",
    "\n",
    "\n",
    "    print(actions)       \n",
    "    print(state.returns())\n",
    "    print()\n",
    "    game_returns.append(state.returns())\n",
    "\n"
   ]
  },
  {
   "cell_type": "code",
   "execution_count": null,
   "metadata": {},
   "outputs": [],
   "source": [
    "game_returns = np.array(game_returns)\n",
    "print(f\"Average return: {game_returns.mean(axis=0)}\")"
   ]
  }
 ],
 "metadata": {
  "kernelspec": {
   "display_name": "Python 3",
   "language": "python",
   "name": "python3"
  },
  "language_info": {
   "codemirror_mode": {
    "name": "ipython",
    "version": 3
   },
   "file_extension": ".py",
   "mimetype": "text/x-python",
   "name": "python",
   "nbconvert_exporter": "python",
   "pygments_lexer": "ipython3",
   "version": "3.8.0"
  }
 },
 "nbformat": 4,
 "nbformat_minor": 4
}
