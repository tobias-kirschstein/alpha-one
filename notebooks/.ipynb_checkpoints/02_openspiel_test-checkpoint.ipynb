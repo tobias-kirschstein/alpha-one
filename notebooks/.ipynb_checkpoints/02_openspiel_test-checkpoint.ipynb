{
 "cells": [
  {
   "cell_type": "code",
   "execution_count": null,
   "metadata": {},
   "outputs": [],
   "source": [
    "#importing libraries\n",
    "import numpy as np\n",
    "import pyspiel\n",
    "import math\n",
    "import matplotlib.pyplot as plt\n",
    "import torch\n",
    "from statistics import mean\n",
    "\n",
    "from open_spiel.python.algorithms.alpha_zero import model as model_lib\n",
    "from open_spiel.python.algorithms.alpha_zero import evaluator as evaluator_lib\n",
    "from open_spiel.python.algorithms import mcts"
   ]
  },
  {
   "cell_type": "code",
   "execution_count": null,
   "metadata": {},
   "outputs": [],
   "source": [
    "# build the tensorflow model\n",
    "def build_model(game, model_type):\n",
    "    return model_lib.Model.build_model(\n",
    "      model_type, game.observation_tensor_shape(), game.num_distinct_actions(),\n",
    "      nn_width=64, nn_depth=2, weight_decay=1e-5, learning_rate=5e-4, path=None)"
   ]
  },
  {
   "cell_type": "code",
   "execution_count": null,
   "metadata": {},
   "outputs": [],
   "source": [
    "def executeEpisode(game, temperature):\n",
    "    UCT_C = math.sqrt(2)\n",
    "    rng = np.random.RandomState(42)\n",
    "    train_inputs = []\n",
    "    state = game.new_initial_state()\n",
    "    \n",
    "    mcts_bot = mcts.MCTSBot(\n",
    "      game,\n",
    "      UCT_C,\n",
    "      max_simulations=100,\n",
    "      solve=True,\n",
    "      random_state=rng,\n",
    "      evaluator=evaluator_lib.AlphaZeroEvaluator(game, model))\n",
    "    \n",
    "    observations = []\n",
    "    action_masks = []\n",
    "    policies = []\n",
    "        \n",
    "    while not state.is_terminal():\n",
    "        root = mcts_bot.mcts_search(state)\n",
    "        policy = np.zeros(game.num_distinct_actions())\n",
    "        \n",
    "        for c in root.children:\n",
    "            policy[c.action] = c.explore_count\n",
    "        policy = policy ** (1 / temperature)\n",
    "        policy /= policy.sum()\n",
    "        action = np.random.choice(len(policy), p=policy)\n",
    "        obs = state.observation_tensor()\n",
    "        act_mask = state.legal_actions_mask()\n",
    "        \n",
    "        observations.append(obs)\n",
    "        action_masks.append(act_mask)\n",
    "        policies.append(policy)\n",
    "    \n",
    "        # train_inputs.append(model_lib.TrainInput(obs, act_mask, policy, value=1))              \n",
    "   \n",
    "        state.apply_action(action) \n",
    "    \n",
    "    final_game_reward = state.player_reward(0)\n",
    "    train_inputs = [model_lib.TrainInput(obs, act_mask, policy, value=final_game_reward) for obs, act_mask, policy in zip(observations, action_masks, policies)]\n",
    "    \n",
    "    return train_inputs"
   ]
  },
  {
   "cell_type": "markdown",
   "metadata": {},
   "source": [
    "# 1 Train agent"
   ]
  },
  {
   "cell_type": "code",
   "execution_count": null,
   "metadata": {},
   "outputs": [],
   "source": [
    "print_every = 10\n",
    "n_playthroughs = 200"
   ]
  },
  {
   "cell_type": "code",
   "execution_count": null,
   "metadata": {},
   "outputs": [],
   "source": [
    "game = pyspiel.load_game(\"connect_four\")\n",
    "model = build_model(game, 'mlp')\n",
    "print(\"Num variables:\", model.num_trainable_variables)\n",
    "model.print_trainable_variables()\n",
    "losses = []\n",
    "for i in range(n_playthroughs):\n",
    "    train_inputs = executeEpisode(game, 1)   \n",
    "    loss = model.update(train_inputs)\n",
    "    if (i+1) % print_every == 0:\n",
    "        print(i + 1, loss)\n",
    "    losses.append(loss)"
   ]
  },
  {
   "cell_type": "markdown",
   "metadata": {},
   "source": [
    "# 2 Visualization"
   ]
  },
  {
   "cell_type": "code",
   "execution_count": null,
   "metadata": {},
   "outputs": [],
   "source": [
    "baseline_losses = [(train_input.value - 0.5) ** 2 - torch.tensor(train_input.policy) @ (torch.ones(game.num_distinct_actions(), dtype=torch.float64) / sum(train_input.legals_mask)).log() \n",
    "                   for train_input in train_inputs]\n",
    "baseline_losses = torch.stack(baseline_losses)"
   ]
  },
  {
   "cell_type": "code",
   "execution_count": null,
   "metadata": {},
   "outputs": [],
   "source": [
    "plt.title('Training performance')\n",
    "plt.plot([l.total for l in losses], label='Train loss')\n",
    "plt.axhline(baseline_losses.mean().item(), label='Uniform distribution baseline')\n",
    "plt.legend()\n",
    "plt.show()"
   ]
  },
  {
   "cell_type": "code",
   "execution_count": null,
   "metadata": {},
   "outputs": [],
   "source": [
    "# 3 Let learned agent play"
   ]
  },
  {
   "cell_type": "code",
   "execution_count": null,
   "metadata": {},
   "outputs": [],
   "source": [
    "state"
   ]
  },
  {
   "cell_type": "code",
   "execution_count": null,
   "metadata": {},
   "outputs": [],
   "source": [
    "print(f\"The winner is: Player {1 if state.player_reward(0) == 1 else 2}!\")"
   ]
  },
  {
   "cell_type": "code",
   "execution_count": null,
   "metadata": {},
   "outputs": [],
   "source": [
    "print(\"Selected actions:\")\n",
    "print(np.array(selected_actions).squeeze().tolist())"
   ]
  },
  {
   "cell_type": "code",
   "execution_count": null,
   "metadata": {},
   "outputs": [],
   "source": []
  }
 ],
 "metadata": {
  "kernelspec": {
   "display_name": "Python [conda env:alpha_one]",
   "language": "python",
   "name": "conda-env-alpha_one-py"
  },
  "language_info": {
   "codemirror_mode": {
    "name": "ipython",
    "version": 3
   },
   "file_extension": ".py",
   "mimetype": "text/x-python",
   "name": "python",
   "nbconvert_exporter": "python",
   "pygments_lexer": "ipython3",
   "version": "3.8.0"
  }
 },
 "nbformat": 4,
 "nbformat_minor": 4
}
