{
 "cells": [
  {
   "cell_type": "code",
   "execution_count": null,
   "metadata": {},
   "outputs": [],
   "source": [
    "#importing libraries\n",
    "import numpy as np\n",
    "from open_spiel.python.algorithms.alpha_zero import model as model_lib\n",
    "from open_spiel.python.algorithms.alpha_zero import evaluator as evaluator_lib\n",
    "import pyspiel\n",
    "from open_spiel.python.algorithms import mcts\n",
    "import math"
   ]
  },
  {
   "cell_type": "code",
   "execution_count": null,
   "metadata": {},
   "outputs": [],
   "source": [
    "# build the tensorflow model\n",
    "def build_model(game, model_type):\n",
    "    return model_lib.Model.build_model(\n",
    "      model_type, game.observation_tensor_shape(), game.num_distinct_actions(),\n",
    "      nn_width=32, nn_depth=2, weight_decay=1e-4, learning_rate=0.01, path=None)"
   ]
  },
  {
   "cell_type": "code",
   "execution_count": null,
   "metadata": {},
   "outputs": [],
   "source": [
    "def executeEpisode(game, temperature):\n",
    "    train_inputs = []\n",
    "    state = game.new_initial_state()\n",
    "    mcts_bot = mcts.MCTSBot(\n",
    "      game,\n",
    "      UCT_C,\n",
    "      max_simulations=5,\n",
    "      solve=True,\n",
    "      random_state=rng,\n",
    "      evaluator=evaluator_lib.AlphaZeroEvaluator(game, model))                                      \n",
    "        \n",
    "    while not state.is_terminal():\n",
    "        root = mcts_bot.mcts_search(state)\n",
    "        policy = np.zeros(game.num_distinct_actions())\n",
    "        \n",
    "        for c in root.children:\n",
    "            policy[c.action] = c.explore_count\n",
    "        policy = policy ** (1 / temperature)\n",
    "        policy /= policy.sum()\n",
    "        action = np.random.choice(len(policy), p=policy)\n",
    "        obs = state.observation_tensor()\n",
    "        act_mask = state.legal_actions_mask()\n",
    "    \n",
    "        train_inputs.append(model_lib.TrainInput(obs, act_mask, policy, value=1))              \n",
    "   \n",
    "        state.apply_action(action) \n",
    "    return train_inputs"
   ]
  },
  {
   "cell_type": "code",
   "execution_count": null,
   "metadata": {},
   "outputs": [],
   "source": [
    "game = pyspiel.load_game(\"go\")\n",
    "model = build_model(game, 'mlp')\n",
    "print(\"Num variables:\", model.num_trainable_variables)\n",
    "model.print_trainable_variables()                                     \n",
    "for i in range(200):\n",
    "    train_inputs = executeEpisode(game, 1)   \n",
    "    loss = model.update(train_inputs)                                  \n",
    "    print(i, loss)\n",
    "    losses.append(loss)"
   ]
  },
  {
   "cell_type": "code",
   "execution_count": null,
   "metadata": {},
   "outputs": [],
   "source": []
  }
 ],
 "metadata": {
  "kernelspec": {
   "display_name": "Python 3",
   "language": "python",
   "name": "python3"
  },
  "language_info": {
   "codemirror_mode": {
    "name": "ipython",
    "version": 3
   },
   "file_extension": ".py",
   "mimetype": "text/x-python",
   "name": "python",
   "nbconvert_exporter": "python",
   "pygments_lexer": "ipython3",
   "version": "3.8.5"
  }
 },
 "nbformat": 4,
 "nbformat_minor": 4
}
