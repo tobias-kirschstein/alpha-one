{
 "cells": [
  {
   "cell_type": "code",
   "execution_count": 1,
   "metadata": {},
   "outputs": [
    {
     "name": "stdout",
     "output_type": "stream",
     "text": [
      "/mnt/d/ownCloud/Uni/Semester Ma 5/Advanced Deep Learning for Robotics (IN2349)/Project/tum-adlr-ws20-9\n"
     ]
    }
   ],
   "source": [
    "%cd ..\n",
    "%reload_ext autoreload\n",
    "%autoreload 2"
   ]
  },
  {
   "cell_type": "code",
   "execution_count": 615,
   "metadata": {},
   "outputs": [],
   "source": [
    "from alpha_one.metrics import MatchOutcome, EloRatingSystem, TrueSkillRatingSystem\n",
    "\n",
    "import numpy as np"
   ]
  },
  {
   "cell_type": "markdown",
   "metadata": {},
   "source": [
    "# 1. Multiple players in 1v1 matches"
   ]
  },
  {
   "cell_type": "code",
   "execution_count": 631,
   "metadata": {},
   "outputs": [],
   "source": [
    "matches = [\n",
    "    MatchOutcome.defeat(1, 0),\n",
    "    MatchOutcome.win(0, 1),\n",
    "    MatchOutcome.win(1, 0),\n",
    "    MatchOutcome.win(2, 1)\n",
    "]"
   ]
  },
  {
   "cell_type": "code",
   "execution_count": 632,
   "metadata": {},
   "outputs": [
    {
     "data": {
      "text/plain": [
       "{1: trueskill.Rating(mu=23.118, sigma=5.068),\n",
       " 0: trueskill.Rating(mu=24.650, sigma=5.488),\n",
       " 2: trueskill.Rating(mu=30.146, sigma=6.773)}"
      ]
     },
     "execution_count": 632,
     "metadata": {},
     "output_type": "execute_result"
    }
   ],
   "source": [
    "rating_system_ts = TrueSkillRatingSystem()\n",
    "rating_system_ts.update_ratings(matches)\n",
    "rating_system_ts.get_ratings()"
   ]
  },
  {
   "cell_type": "code",
   "execution_count": 633,
   "metadata": {},
   "outputs": [
    {
     "data": {
      "text/plain": [
       "{0: 11.25147855793491, 1: -25.765882924138786, 2: 14.514404366203879}"
      ]
     },
     "execution_count": 633,
     "metadata": {},
     "output_type": "execute_result"
    }
   ],
   "source": [
    "rating_system_elo = EloRatingSystem(30)\n",
    "rating_system_elo.update_ratings(matches)\n",
    "rating_system_elo.get_ratings()"
   ]
  },
  {
   "cell_type": "markdown",
   "metadata": {},
   "source": [
    "# 2. Random match outcomes result in all players having their initial rating"
   ]
  },
  {
   "cell_type": "code",
   "execution_count": 634,
   "metadata": {},
   "outputs": [],
   "source": [
    "matches = []\n",
    "for _ in range(1000):\n",
    "    winner = np.random.choice([0, 1])\n",
    "    matches.append(MatchOutcome.win(winner, 1 - winner))"
   ]
  },
  {
   "cell_type": "code",
   "execution_count": 635,
   "metadata": {},
   "outputs": [
    {
     "data": {
      "text/plain": [
       "{0: trueskill.Rating(mu=24.571, sigma=0.779),\n",
       " 1: trueskill.Rating(mu=25.429, sigma=0.779)}"
      ]
     },
     "execution_count": 635,
     "metadata": {},
     "output_type": "execute_result"
    }
   ],
   "source": [
    "rating_system_ts = TrueSkillRatingSystem()\n",
    "rating_system_ts.update_ratings(matches)\n",
    "rating_system_ts.get_ratings()"
   ]
  },
  {
   "cell_type": "code",
   "execution_count": 636,
   "metadata": {},
   "outputs": [
    {
     "data": {
      "text/plain": [
       "{0: -40.13695007675808, 1: 40.13695007675808}"
      ]
     },
     "execution_count": 636,
     "metadata": {},
     "output_type": "execute_result"
    }
   ],
   "source": [
    "rating_system_elo = EloRatingSystem(40)\n",
    "rating_system_elo.update_ratings(matches)\n",
    "rating_system_elo.get_ratings()"
   ]
  }
 ],
 "metadata": {
  "kernelspec": {
   "display_name": "Python [conda env:alpha_one]",
   "language": "python",
   "name": "conda-env-alpha_one-py"
  },
  "language_info": {
   "codemirror_mode": {
    "name": "ipython",
    "version": 3
   },
   "file_extension": ".py",
   "mimetype": "text/x-python",
   "name": "python",
   "nbconvert_exporter": "python",
   "pygments_lexer": "ipython3",
   "version": "3.8.0"
  }
 },
 "nbformat": 4,
 "nbformat_minor": 4
}
